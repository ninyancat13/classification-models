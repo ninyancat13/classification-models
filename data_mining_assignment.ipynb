{
 "cells": [
  {
   "cell_type": "markdown",
   "metadata": {},
   "source": [
    "# Data Mining Assignment: Classification Modelling\n",
    "Nina Kumagai (19389905)"
   ]
  },
  {
   "cell_type": "markdown",
   "metadata": {},
   "source": [
    "# Part I (Data Preprocessing)"
   ]
  },
  {
   "cell_type": "markdown",
   "metadata": {},
   "source": [
    "## 1.0 Exploratory Data Analysis (EDA):"
   ]
  },
  {
   "cell_type": "code",
   "execution_count": 844,
   "metadata": {},
   "outputs": [],
   "source": [
    "import warnings\n",
    "warnings.filterwarnings('ignore')"
   ]
  },
  {
   "cell_type": "code",
   "execution_count": 845,
   "metadata": {
    "scrolled": true
   },
   "outputs": [],
   "source": [
    "import pandas as pd\n",
    "import numpy as np\n",
    "from sklearn.impute import SimpleImputer\n",
    "from sklearn import preprocessing\n",
    "from sklearn.preprocessing import normalize, PowerTransformer\n",
    "from sklearn.model_selection import train_test_split\n",
    "\n",
    "\n",
    "import matplotlib\n",
    "import matplotlib.pyplot as plt\n",
    "import seaborn as sns\n",
    "\n",
    "import arff"
   ]
  },
  {
   "cell_type": "code",
   "execution_count": 846,
   "metadata": {
    "scrolled": true
   },
   "outputs": [],
   "source": [
    "pd.set_option('display.max_rows', 500)\n",
    "pd.set_option('display.max_columns', 500)\n",
    "pd.set_option('display.width', 1000)"
   ]
  },
  {
   "cell_type": "code",
   "execution_count": 847,
   "metadata": {
    "scrolled": true
   },
   "outputs": [],
   "source": [
    "df = pd.read_csv(\"data2019.student.csv\")"
   ]
  },
  {
   "cell_type": "code",
   "execution_count": 848,
   "metadata": {
    "scrolled": true
   },
   "outputs": [
    {
     "data": {
      "text/html": [
       "<div>\n",
       "<style scoped>\n",
       "    .dataframe tbody tr th:only-of-type {\n",
       "        vertical-align: middle;\n",
       "    }\n",
       "\n",
       "    .dataframe tbody tr th {\n",
       "        vertical-align: top;\n",
       "    }\n",
       "\n",
       "    .dataframe thead th {\n",
       "        text-align: right;\n",
       "    }\n",
       "</style>\n",
       "<table border=\"1\" class=\"dataframe\">\n",
       "  <thead>\n",
       "    <tr style=\"text-align: right;\">\n",
       "      <th></th>\n",
       "      <th>ID</th>\n",
       "      <th>Class</th>\n",
       "      <th>att1</th>\n",
       "      <th>att2</th>\n",
       "      <th>att3</th>\n",
       "      <th>att4</th>\n",
       "      <th>att5</th>\n",
       "      <th>att6</th>\n",
       "      <th>att7</th>\n",
       "      <th>att8</th>\n",
       "      <th>att9</th>\n",
       "      <th>att10</th>\n",
       "      <th>att11</th>\n",
       "      <th>att12</th>\n",
       "      <th>att13</th>\n",
       "      <th>att14</th>\n",
       "      <th>att15</th>\n",
       "      <th>att16</th>\n",
       "      <th>att17</th>\n",
       "      <th>att18</th>\n",
       "      <th>att19</th>\n",
       "      <th>att20</th>\n",
       "      <th>att21</th>\n",
       "      <th>att22</th>\n",
       "      <th>att23</th>\n",
       "      <th>att24</th>\n",
       "      <th>att25</th>\n",
       "      <th>att26</th>\n",
       "      <th>att27</th>\n",
       "      <th>att28</th>\n",
       "      <th>att29</th>\n",
       "      <th>att30</th>\n",
       "    </tr>\n",
       "  </thead>\n",
       "  <tbody>\n",
       "    <tr>\n",
       "      <td>0</td>\n",
       "      <td>1</td>\n",
       "      <td>1.0</td>\n",
       "      <td>V2</td>\n",
       "      <td>V6</td>\n",
       "      <td>V2</td>\n",
       "      <td>V2</td>\n",
       "      <td>V1</td>\n",
       "      <td>V2</td>\n",
       "      <td>V2</td>\n",
       "      <td>V2</td>\n",
       "      <td>D</td>\n",
       "      <td>A</td>\n",
       "      <td>C</td>\n",
       "      <td>C</td>\n",
       "      <td>NaN</td>\n",
       "      <td>T</td>\n",
       "      <td>0</td>\n",
       "      <td>1</td>\n",
       "      <td>1</td>\n",
       "      <td>5</td>\n",
       "      <td>NaN</td>\n",
       "      <td>3</td>\n",
       "      <td>1271</td>\n",
       "      <td>137395</td>\n",
       "      <td>1</td>\n",
       "      <td>5</td>\n",
       "      <td>3449.0</td>\n",
       "      <td>1</td>\n",
       "      <td>4</td>\n",
       "      <td>74.0</td>\n",
       "      <td>1</td>\n",
       "      <td>1</td>\n",
       "    </tr>\n",
       "    <tr>\n",
       "      <td>1</td>\n",
       "      <td>2</td>\n",
       "      <td>0.0</td>\n",
       "      <td>V2</td>\n",
       "      <td>V1</td>\n",
       "      <td>V2</td>\n",
       "      <td>V1</td>\n",
       "      <td>V4</td>\n",
       "      <td>V3</td>\n",
       "      <td>V3</td>\n",
       "      <td>V2</td>\n",
       "      <td>A</td>\n",
       "      <td>A</td>\n",
       "      <td>C</td>\n",
       "      <td>A</td>\n",
       "      <td>NaN</td>\n",
       "      <td>T</td>\n",
       "      <td>1</td>\n",
       "      <td>1</td>\n",
       "      <td>1</td>\n",
       "      <td>45</td>\n",
       "      <td>NaN</td>\n",
       "      <td>16</td>\n",
       "      <td>1253</td>\n",
       "      <td>135433</td>\n",
       "      <td>1</td>\n",
       "      <td>45</td>\n",
       "      <td>1846.0</td>\n",
       "      <td>4</td>\n",
       "      <td>4</td>\n",
       "      <td>23.0</td>\n",
       "      <td>1</td>\n",
       "      <td>1</td>\n",
       "    </tr>\n",
       "    <tr>\n",
       "      <td>2</td>\n",
       "      <td>3</td>\n",
       "      <td>0.0</td>\n",
       "      <td>V4</td>\n",
       "      <td>V6</td>\n",
       "      <td>V2</td>\n",
       "      <td>V0</td>\n",
       "      <td>V1</td>\n",
       "      <td>V3</td>\n",
       "      <td>V2</td>\n",
       "      <td>V4</td>\n",
       "      <td>B</td>\n",
       "      <td>C</td>\n",
       "      <td>C</td>\n",
       "      <td>B</td>\n",
       "      <td>NaN</td>\n",
       "      <td>T</td>\n",
       "      <td>1</td>\n",
       "      <td>1</td>\n",
       "      <td>1</td>\n",
       "      <td>24</td>\n",
       "      <td>NaN</td>\n",
       "      <td>11</td>\n",
       "      <td>1872</td>\n",
       "      <td>59499</td>\n",
       "      <td>1</td>\n",
       "      <td>24</td>\n",
       "      <td>1936.0</td>\n",
       "      <td>4</td>\n",
       "      <td>4</td>\n",
       "      <td>31.0</td>\n",
       "      <td>2</td>\n",
       "      <td>1</td>\n",
       "    </tr>\n",
       "    <tr>\n",
       "      <td>3</td>\n",
       "      <td>4</td>\n",
       "      <td>1.0</td>\n",
       "      <td>V2</td>\n",
       "      <td>V2</td>\n",
       "      <td>V1</td>\n",
       "      <td>V0</td>\n",
       "      <td>V1</td>\n",
       "      <td>V2</td>\n",
       "      <td>V2</td>\n",
       "      <td>V2</td>\n",
       "      <td>D</td>\n",
       "      <td>A</td>\n",
       "      <td>C</td>\n",
       "      <td>A</td>\n",
       "      <td>NaN</td>\n",
       "      <td>T</td>\n",
       "      <td>0</td>\n",
       "      <td>1</td>\n",
       "      <td>1</td>\n",
       "      <td>9</td>\n",
       "      <td>NaN</td>\n",
       "      <td>16</td>\n",
       "      <td>450</td>\n",
       "      <td>170910</td>\n",
       "      <td>1</td>\n",
       "      <td>9</td>\n",
       "      <td>3833.0</td>\n",
       "      <td>1</td>\n",
       "      <td>4</td>\n",
       "      <td>64.0</td>\n",
       "      <td>1</td>\n",
       "      <td>1</td>\n",
       "    </tr>\n",
       "    <tr>\n",
       "      <td>4</td>\n",
       "      <td>5</td>\n",
       "      <td>1.0</td>\n",
       "      <td>V2</td>\n",
       "      <td>V5</td>\n",
       "      <td>V1</td>\n",
       "      <td>V1</td>\n",
       "      <td>V3</td>\n",
       "      <td>V3</td>\n",
       "      <td>V2</td>\n",
       "      <td>V2</td>\n",
       "      <td>D</td>\n",
       "      <td>A</td>\n",
       "      <td>C</td>\n",
       "      <td>C</td>\n",
       "      <td>NaN</td>\n",
       "      <td>T</td>\n",
       "      <td>0</td>\n",
       "      <td>1</td>\n",
       "      <td>1</td>\n",
       "      <td>21</td>\n",
       "      <td>NaN</td>\n",
       "      <td>10</td>\n",
       "      <td>792</td>\n",
       "      <td>119515</td>\n",
       "      <td>1</td>\n",
       "      <td>21</td>\n",
       "      <td>5249.0</td>\n",
       "      <td>1</td>\n",
       "      <td>3</td>\n",
       "      <td>26.0</td>\n",
       "      <td>1</td>\n",
       "      <td>1</td>\n",
       "    </tr>\n",
       "  </tbody>\n",
       "</table>\n",
       "</div>"
      ],
      "text/plain": [
       "   ID  Class att1 att2 att3 att4 att5 att6 att7 att8 att9 att10 att11 att12 att13 att14  att15  att16  att17  att18  att19  att20  att21   att22  att23  att24   att25  att26  att27  att28  att29  att30\n",
       "0   1    1.0   V2   V6   V2   V2   V1   V2   V2   V2    D     A     C     C   NaN     T      0      1      1      5    NaN      3   1271  137395      1      5  3449.0      1      4   74.0      1      1\n",
       "1   2    0.0   V2   V1   V2   V1   V4   V3   V3   V2    A     A     C     A   NaN     T      1      1      1     45    NaN     16   1253  135433      1     45  1846.0      4      4   23.0      1      1\n",
       "2   3    0.0   V4   V6   V2   V0   V1   V3   V2   V4    B     C     C     B   NaN     T      1      1      1     24    NaN     11   1872   59499      1     24  1936.0      4      4   31.0      2      1\n",
       "3   4    1.0   V2   V2   V1   V0   V1   V2   V2   V2    D     A     C     A   NaN     T      0      1      1      9    NaN     16    450  170910      1      9  3833.0      1      4   64.0      1      1\n",
       "4   5    1.0   V2   V5   V1   V1   V3   V3   V2   V2    D     A     C     C   NaN     T      0      1      1     21    NaN     10    792  119515      1     21  5249.0      1      3   26.0      1      1"
      ]
     },
     "execution_count": 848,
     "metadata": {},
     "output_type": "execute_result"
    }
   ],
   "source": [
    "df.head()"
   ]
  },
  {
   "cell_type": "code",
   "execution_count": 849,
   "metadata": {
    "scrolled": true
   },
   "outputs": [],
   "source": [
    "#df.tail()"
   ]
  },
  {
   "cell_type": "code",
   "execution_count": 850,
   "metadata": {
    "scrolled": true
   },
   "outputs": [
    {
     "name": "stdout",
     "output_type": "stream",
     "text": [
      "                ID        Class        att15        att16   att17        att18      att19        att20        att21          att22        att23        att24         att25        att26        att27        att28        att29        att30\n",
      "count  1100.000000  1000.000000  1100.000000  1100.000000  1100.0  1100.000000  66.000000  1100.000000  1100.000000    1100.000000  1100.000000  1100.000000   1097.000000  1100.000000  1100.000000  1094.000000  1100.000000  1100.000000\n",
      "mean    550.500000     0.730000     0.410000     1.036364     1.0    20.870909  44.484848    10.040000   990.953636  101452.708182     1.161818    20.870909   3281.881495     2.950000     2.845455    35.701097     1.399091     1.153636\n",
      "std     317.686953     0.444182     0.492057     0.187278     0.0    12.139456  29.184950     4.100006   403.983358   39973.376294     0.368451    12.139456   2834.562663     1.124728     1.105749    11.446333     0.573766     0.491081\n",
      "min       1.000000     0.000000     0.000000     1.000000     1.0     4.000000   1.000000    -2.000000  -380.000000  -19149.000000     1.000000     4.000000    251.000000     1.000000     1.000000    19.000000     1.000000     1.000000\n",
      "25%     275.750000     0.000000     0.000000     1.000000     1.0    12.000000  13.500000     8.000000   715.000000   75347.000000     1.000000    12.000000   1365.000000     2.000000     2.000000    27.000000     1.000000     1.000000\n",
      "50%     550.500000     1.000000     0.000000     1.000000     1.0    18.000000  46.500000    10.000000  1000.000000  103672.500000     1.000000    18.000000   2326.000000     3.000000     3.000000    33.000000     1.000000     1.000000\n",
      "75%     825.250000     1.000000     1.000000     1.000000     1.0    24.000000  67.500000    13.000000  1270.000000  128488.000000     1.000000    24.000000   3967.000000     4.000000     4.000000    42.000000     2.000000     1.000000\n",
      "max    1100.000000     1.000000     1.000000     2.000000     1.0    72.000000  93.000000    23.000000  2428.000000  226066.000000     2.000000    72.000000  18425.000000     4.000000     4.000000    75.000000     4.000000     3.000000\n"
     ]
    }
   ],
   "source": [
    "print(df.describe())"
   ]
  },
  {
   "cell_type": "code",
   "execution_count": 851,
   "metadata": {
    "scrolled": true
   },
   "outputs": [
    {
     "name": "stdout",
     "output_type": "stream",
     "text": [
      "<class 'pandas.core.frame.DataFrame'>\n",
      "RangeIndex: 1100 entries, 0 to 1099\n",
      "Data columns (total 32 columns):\n",
      "ID       1100 non-null int64\n",
      "Class    1000 non-null float64\n",
      "att1     1100 non-null object\n",
      "att2     1100 non-null object\n",
      "att3     1096 non-null object\n",
      "att4     1100 non-null object\n",
      "att5     1100 non-null object\n",
      "att6     1100 non-null object\n",
      "att7     1100 non-null object\n",
      "att8     1100 non-null object\n",
      "att9     1095 non-null object\n",
      "att10    1100 non-null object\n",
      "att11    1100 non-null object\n",
      "att12    1100 non-null object\n",
      "att13    72 non-null object\n",
      "att14    1100 non-null object\n",
      "att15    1100 non-null int64\n",
      "att16    1100 non-null int64\n",
      "att17    1100 non-null int64\n",
      "att18    1100 non-null int64\n",
      "att19    66 non-null float64\n",
      "att20    1100 non-null int64\n",
      "att21    1100 non-null int64\n",
      "att22    1100 non-null int64\n",
      "att23    1100 non-null int64\n",
      "att24    1100 non-null int64\n",
      "att25    1097 non-null float64\n",
      "att26    1100 non-null int64\n",
      "att27    1100 non-null int64\n",
      "att28    1094 non-null float64\n",
      "att29    1100 non-null int64\n",
      "att30    1100 non-null int64\n",
      "dtypes: float64(4), int64(14), object(14)\n",
      "memory usage: 275.1+ KB\n"
     ]
    }
   ],
   "source": [
    "df.info()"
   ]
  },
  {
   "cell_type": "code",
   "execution_count": 852,
   "metadata": {
    "scrolled": true
   },
   "outputs": [
    {
     "data": {
      "text/plain": [
       "Index(['ID', 'Class', 'att1', 'att2', 'att3', 'att4', 'att5', 'att6', 'att7', 'att8', 'att9', 'att10', 'att11', 'att12', 'att13', 'att14', 'att15', 'att16', 'att17', 'att18', 'att19', 'att20', 'att21', 'att22', 'att23', 'att24', 'att25', 'att26', 'att27', 'att28', 'att29', 'att30'], dtype='object')"
      ]
     },
     "execution_count": 852,
     "metadata": {},
     "output_type": "execute_result"
    }
   ],
   "source": [
    "df.columns"
   ]
  },
  {
   "cell_type": "code",
   "execution_count": 853,
   "metadata": {
    "scrolled": true
   },
   "outputs": [
    {
     "data": {
      "text/plain": [
       "(1100, 32)"
      ]
     },
     "execution_count": 853,
     "metadata": {},
     "output_type": "execute_result"
    }
   ],
   "source": [
    "df.shape"
   ]
  },
  {
   "cell_type": "code",
   "execution_count": 854,
   "metadata": {
    "scrolled": true
   },
   "outputs": [],
   "source": [
    "#df.plot()"
   ]
  },
  {
   "cell_type": "markdown",
   "metadata": {},
   "source": [
    "As can be seen, values are not in the same ballpark."
   ]
  },
  {
   "cell_type": "code",
   "execution_count": 855,
   "metadata": {},
   "outputs": [],
   "source": [
    "# import seaborn as sns; sns.set(style=\"ticks\", color_codes=True)\n",
    "# g = sns.pairplot(df, hue=\"Class\")\n",
    "# g"
   ]
  },
  {
   "cell_type": "code",
   "execution_count": 856,
   "metadata": {
    "scrolled": true
   },
   "outputs": [],
   "source": [
    "#df.hist(figsize=(10,5))"
   ]
  },
  {
   "cell_type": "code",
   "execution_count": 857,
   "metadata": {
    "scrolled": true
   },
   "outputs": [
    {
     "data": {
      "text/plain": [
       "Class\n",
       "0.0    [[AxesSubplot(0.125,0.758226;0.158163x0.121774...\n",
       "1.0    [[AxesSubplot(0.125,0.758226;0.158163x0.121774...\n",
       "dtype: object"
      ]
     },
     "execution_count": 857,
     "metadata": {},
     "output_type": "execute_result"
    },
    {
     "data": {
      "image/png": "[encoded data removed]",
      "text/plain": [
       "<Figure size 432x288 with 20 Axes>"
      ]
     },
     "metadata": {
      "needs_background": "light"
     },
     "output_type": "display_data"
    },
    {
     "data": {
      "image/png": "[encoded data removed]",
      "text/plain": [
       "<Figure size 432x288 with 20 Axes>"
      ]
     },
     "metadata": {
      "needs_background": "light"
     },
     "output_type": "display_data"
    }
   ],
   "source": [
    "df.groupby('Class').hist()"
   ]
  },
  {
   "cell_type": "code",
   "execution_count": 858,
   "metadata": {
    "scrolled": true
   },
   "outputs": [
    {
     "data": {
      "text/plain": [
       "RangeIndex(start=0, stop=1100, step=1)"
      ]
     },
     "execution_count": 858,
     "metadata": {},
     "output_type": "execute_result"
    }
   ],
   "source": [
    "df.index"
   ]
  },
  {
   "cell_type": "markdown",
   "metadata": {},
   "source": [
    "# 2.0 Data Preparation"
   ]
  },
  {
   "cell_type": "markdown",
   "metadata": {},
   "source": [
    "## 2.1 Irrelevant Attributes\n",
    "\n",
    "\n",
    "### Which Attributes are Irrelevant in Our Dataset?\n",
    "att14 and att17 is irrelevant because whether it is included in the analysis or not will not make a difference. This is because att14 and att17 both have the same response for every instance (as shown below) and thus will not make a difference to the classification model.\n",
    "\n"
   ]
  },
  {
   "cell_type": "code",
   "execution_count": 859,
   "metadata": {
    "scrolled": true
   },
   "outputs": [],
   "source": [
    "# for col in list(df):\n",
    "#     print(col)\n",
    "#     print(df[col].unique())"
   ]
  },
  {
   "cell_type": "code",
   "execution_count": 860,
   "metadata": {
    "scrolled": true
   },
   "outputs": [
    {
     "data": {
      "text/plain": [
       "array([1])"
      ]
     },
     "execution_count": 860,
     "metadata": {},
     "output_type": "execute_result"
    }
   ],
   "source": [
    "df.att17.unique()"
   ]
  },
  {
   "cell_type": "code",
   "execution_count": 861,
   "metadata": {
    "scrolled": true
   },
   "outputs": [
    {
     "data": {
      "text/plain": [
       "array(['T'], dtype=object)"
      ]
     },
     "execution_count": 861,
     "metadata": {},
     "output_type": "execute_result"
    }
   ],
   "source": [
    "df.att14.unique()"
   ]
  },
  {
   "cell_type": "code",
   "execution_count": 862,
   "metadata": {
    "scrolled": true
   },
   "outputs": [],
   "source": [
    "# Let's remove these irrelevant attributes now:\n",
    "del df['att14']\n",
    "del df['att17']"
   ]
  },
  {
   "cell_type": "code",
   "execution_count": 863,
   "metadata": {
    "scrolled": true
   },
   "outputs": [
    {
     "data": {
      "text/plain": [
       "Index(['ID', 'Class', 'att1', 'att2', 'att3', 'att4', 'att5', 'att6', 'att7', 'att8', 'att9', 'att10', 'att11', 'att12', 'att13', 'att15', 'att16', 'att18', 'att19', 'att20', 'att21', 'att22', 'att23', 'att24', 'att25', 'att26', 'att27', 'att28', 'att29', 'att30'], dtype='object')"
      ]
     },
     "execution_count": 863,
     "metadata": {},
     "output_type": "execute_result"
    }
   ],
   "source": [
    "df.columns\n",
    "# Can confirm that att14 and att17 have been deleted as they do not appear in this list."
   ]
  },
  {
   "cell_type": "markdown",
   "metadata": {},
   "source": [
    "## 2.2 Missing Values:\n"
   ]
  },
  {
   "cell_type": "code",
   "execution_count": 864,
   "metadata": {
    "scrolled": true
   },
   "outputs": [],
   "source": [
    "df = df.replace(r'^\\s*$', np.nan, regex=True)"
   ]
  },
  {
   "cell_type": "code",
   "execution_count": 865,
   "metadata": {
    "scrolled": true
   },
   "outputs": [
    {
     "data": {
      "text/plain": [
       "ID          0\n",
       "Class     100\n",
       "att1        0\n",
       "att2        0\n",
       "att3        4\n",
       "att4        0\n",
       "att5        0\n",
       "att6        0\n",
       "att7        0\n",
       "att8        0\n",
       "att9        5\n",
       "att10       0\n",
       "att11       0\n",
       "att12       0\n",
       "att13    1028\n",
       "att15       0\n",
       "att16       0\n",
       "att18       0\n",
       "att19    1034\n",
       "att20       0\n",
       "att21       0\n",
       "att22       0\n",
       "att23       0\n",
       "att24       0\n",
       "att25       3\n",
       "att26       0\n",
       "att27       0\n",
       "att28       6\n",
       "att29       0\n",
       "att30       0\n",
       "dtype: int64"
      ]
     },
     "execution_count": 865,
     "metadata": {},
     "output_type": "execute_result"
    }
   ],
   "source": [
    "# Missing Entries\n",
    "df.isnull().sum()"
   ]
  },
  {
   "cell_type": "markdown",
   "metadata": {},
   "source": [
    "### Which attributes have missing values?\n",
    "Attributes which have missing values include att3, att9, att25, att28, att13 and att19. \n",
    "\n",
    "### For those attributes/instances, how many missing entries are present?\n",
    "It appears that there are 100 missing values in the attribute Class as expected. There are 4, 5, 3 and 6 missing values in att3, att9, att25 and att28 respectively. There are a large number of missing values in att13 and att19 with 1028 and 1034 missing values respectively.  "
   ]
  },
  {
   "cell_type": "markdown",
   "metadata": {},
   "source": [
    "### For each attribute/instance with missing entries, make a suitable decision, justify it, and proceed.\n",
    "\n",
    "#### Small Number of Missing Data:\n",
    "##### att3: \n",
    "This is a categorical data column and there are only four missing values. Thus we will impute the values with the most frequent occuring category for this attribute.\n",
    "##### att9: \n",
    "Same as att3 since att9 is also a categorical data column with only 5 missing values.\n",
    "##### att25: \n",
    "This is a numerical data column and there are only 3 missing values. In order to fix this, the average values of the available data in att25 will be calculated and this average will be recorded in the three missing points.\n",
    "##### att28: \n",
    "Same as att25 since att28 is also numerical in nature and has only 6 missing values.\n",
    "\n",
    "#### Large Number of Missing Data:\n",
    "##### att13: \n",
    "Categorical in nature. Remove the column as there are far too many missing values in order for us to impute or accept the missing values.\n",
    "##### att19: \n",
    "Numerical in nature. Remove the column as there are far too many missing values in order for us to impute or accept the missing values."
   ]
  },
  {
   "cell_type": "code",
   "execution_count": 866,
   "metadata": {
    "scrolled": true
   },
   "outputs": [],
   "source": [
    "# Impute missing values with the mode of that column (mode is most frequently occuring value)\n",
    "df['att3'].fillna(df['att3'].mode()[0], inplace=True)"
   ]
  },
  {
   "cell_type": "code",
   "execution_count": 867,
   "metadata": {
    "scrolled": true
   },
   "outputs": [],
   "source": [
    "# Check if imputation worked by counting number of missing values again:\n",
    "# train_df.isnull().sum()"
   ]
  },
  {
   "cell_type": "code",
   "execution_count": 868,
   "metadata": {
    "scrolled": true
   },
   "outputs": [],
   "source": [
    "# att9\n",
    "# Impute missing values with the mode of that column (mode is most frequently occuring value)\n",
    "df['att9'].fillna(df['att9'].mode()[0], inplace=True)\n",
    "# Check if imputation worked by counting number of missing values again:\n",
    "# train_df.isnull().sum()"
   ]
  },
  {
   "cell_type": "code",
   "execution_count": 869,
   "metadata": {
    "scrolled": true
   },
   "outputs": [],
   "source": [
    "# att25\n",
    "# Impute missing values with the mean of column\n",
    "df['att25'].fillna(df['att25'].mean(), inplace=True)\n",
    "# Check if imputation worked by counting number of missing values again:\n",
    "# train_df.isnull().sum()"
   ]
  },
  {
   "cell_type": "code",
   "execution_count": 870,
   "metadata": {
    "scrolled": true
   },
   "outputs": [],
   "source": [
    "# att28\n",
    "# Impute missing values with the mean of column\n",
    "df['att28'].fillna(df['att28'].mean(), inplace=True)\n",
    "# Check if imputation worked by counting number of missing values again:\n",
    "# train_df.isnull().sum()"
   ]
  },
  {
   "cell_type": "code",
   "execution_count": 871,
   "metadata": {
    "scrolled": true
   },
   "outputs": [
    {
     "data": {
      "text/plain": [
       "ID         0\n",
       "Class    100\n",
       "att1       0\n",
       "att2       0\n",
       "att3       0\n",
       "att4       0\n",
       "att5       0\n",
       "att6       0\n",
       "att7       0\n",
       "att8       0\n",
       "att9       0\n",
       "att10      0\n",
       "att11      0\n",
       "att12      0\n",
       "att15      0\n",
       "att16      0\n",
       "att18      0\n",
       "att20      0\n",
       "att21      0\n",
       "att22      0\n",
       "att23      0\n",
       "att24      0\n",
       "att25      0\n",
       "att26      0\n",
       "att27      0\n",
       "att28      0\n",
       "att29      0\n",
       "att30      0\n",
       "dtype: int64"
      ]
     },
     "execution_count": 871,
     "metadata": {},
     "output_type": "execute_result"
    }
   ],
   "source": [
    "# Now delete att13 and att19\n",
    "del df['att13']\n",
    "del df['att19']\n",
    "df.isnull().sum()"
   ]
  },
  {
   "cell_type": "markdown",
   "metadata": {},
   "source": [
    "## 2.3 Duplicates\n"
   ]
  },
  {
   "cell_type": "markdown",
   "metadata": {},
   "source": [
    "### Detect if there are any duplicates (instances/attributes) in the original data?\n",
    "From simple observation we can confirm there are attribute duplicates. More in-depth check done below..."
   ]
  },
  {
   "cell_type": "markdown",
   "metadata": {},
   "source": [
    "### For each attribute/instance with duplicates, make a suitable decision, justify it, and proceed."
   ]
  },
  {
   "cell_type": "code",
   "execution_count": 872,
   "metadata": {
    "scrolled": true
   },
   "outputs": [
    {
     "data": {
      "text/plain": [
       "1100"
      ]
     },
     "execution_count": 872,
     "metadata": {},
     "output_type": "execute_result"
    }
   ],
   "source": [
    "# Check for row duplicates:\n",
    "len(df)"
   ]
  },
  {
   "cell_type": "code",
   "execution_count": 873,
   "metadata": {
    "scrolled": true
   },
   "outputs": [
    {
     "data": {
      "text/plain": [
       "1100"
      ]
     },
     "execution_count": 873,
     "metadata": {},
     "output_type": "execute_result"
    }
   ],
   "source": [
    "# dropping duplicate values \n",
    "df.drop_duplicates(keep=False,inplace=True) \n",
    "  \n",
    "# length after removing duplicates \n",
    "len(df) \n",
    "\n",
    "# Thus there were no duplicate rows!"
   ]
  },
  {
   "cell_type": "code",
   "execution_count": 874,
   "metadata": {
    "scrolled": true
   },
   "outputs": [],
   "source": [
    "# Duplicate columns?\n",
    "\n",
    "def getDuplicateColumns(df):\n",
    "    '''Get a list of duplicate columns.\n",
    "    It will iterate over all the columns in dataframe and find the columns whose contents are duplicate.\n",
    "    :param df: Dataframe object\n",
    "    :return: List of columns whose contents are duplicates.'''\n",
    "    duplicateColumnNames = set()\n",
    "    # Iterate over all the columns in dataframe\n",
    "    for x in range(df.shape[1]):\n",
    "        # Select column at xth index.\n",
    "        col = df.iloc[:, x]\n",
    "        # Iterate over all the columns in DataFrame from (x+1)th index till end\n",
    "        for y in range(x + 1, df.shape[1]):\n",
    "            # Select column at yth index.\n",
    "            otherCol = df.iloc[:, y]\n",
    "            # Check if two columns at x 7 y index are equal\n",
    "            if col.equals(otherCol):\n",
    "                duplicateColumnNames.add(df.columns.values[y])\n",
    "    return list(duplicateColumnNames)"
   ]
  },
  {
   "cell_type": "code",
   "execution_count": 875,
   "metadata": {
    "scrolled": true
   },
   "outputs": [
    {
     "name": "stdout",
     "output_type": "stream",
     "text": [
      "Duplicate Columns are as follows\n",
      "Column name :  att24\n",
      "Column name :  att8\n"
     ]
    }
   ],
   "source": [
    "# Get list of duplicate columns\n",
    "duplicateColumnNames = getDuplicateColumns(df)\n",
    "print('Duplicate Columns are as follows')\n",
    "for col in duplicateColumnNames:\n",
    "    print('Column name : ', col)"
   ]
  },
  {
   "cell_type": "code",
   "execution_count": 876,
   "metadata": {
    "scrolled": true
   },
   "outputs": [],
   "source": [
    "# Delete duplicate columns\n",
    "df = df.drop(columns=getDuplicateColumns(df))\n",
    "# print(\"Modified Dataframe\", train_df, sep='\\n')"
   ]
  },
  {
   "cell_type": "markdown",
   "metadata": {},
   "source": [
    "## Eliminate Redundant Columns"
   ]
  },
  {
   "cell_type": "code",
   "execution_count": 877,
   "metadata": {
    "scrolled": true
   },
   "outputs": [],
   "source": [
    "# Remove ID as it does not give us any information.\n",
    "del df['ID']\n",
    "# Do not delete yet as we need it for feature engineering * Now we don't *"
   ]
  },
  {
   "cell_type": "code",
   "execution_count": 878,
   "metadata": {
    "scrolled": true
   },
   "outputs": [],
   "source": [
    "#df.head()"
   ]
  },
  {
   "cell_type": "markdown",
   "metadata": {},
   "source": [
    "## Multicollinearity"
   ]
  },
  {
   "cell_type": "code",
   "execution_count": 879,
   "metadata": {
    "scrolled": true
   },
   "outputs": [],
   "source": [
    "df_numeric = df[['att18', 'att20', 'att21', 'att22', 'att25', 'att28']]"
   ]
  },
  {
   "cell_type": "code",
   "execution_count": 880,
   "metadata": {
    "scrolled": true
   },
   "outputs": [
    {
     "data": {
      "text/html": [
       "<div>\n",
       "<style scoped>\n",
       "    .dataframe tbody tr th:only-of-type {\n",
       "        vertical-align: middle;\n",
       "    }\n",
       "\n",
       "    .dataframe tbody tr th {\n",
       "        vertical-align: top;\n",
       "    }\n",
       "\n",
       "    .dataframe thead th {\n",
       "        text-align: right;\n",
       "    }\n",
       "</style>\n",
       "<table border=\"1\" class=\"dataframe\">\n",
       "  <thead>\n",
       "    <tr style=\"text-align: right;\">\n",
       "      <th></th>\n",
       "      <th>att18</th>\n",
       "      <th>att20</th>\n",
       "      <th>att21</th>\n",
       "      <th>att22</th>\n",
       "      <th>att25</th>\n",
       "      <th>att28</th>\n",
       "    </tr>\n",
       "  </thead>\n",
       "  <tbody>\n",
       "    <tr>\n",
       "      <td>0</td>\n",
       "      <td>5</td>\n",
       "      <td>3</td>\n",
       "      <td>1271</td>\n",
       "      <td>137395</td>\n",
       "      <td>3449.0</td>\n",
       "      <td>74.0</td>\n",
       "    </tr>\n",
       "    <tr>\n",
       "      <td>1</td>\n",
       "      <td>45</td>\n",
       "      <td>16</td>\n",
       "      <td>1253</td>\n",
       "      <td>135433</td>\n",
       "      <td>1846.0</td>\n",
       "      <td>23.0</td>\n",
       "    </tr>\n",
       "    <tr>\n",
       "      <td>2</td>\n",
       "      <td>24</td>\n",
       "      <td>11</td>\n",
       "      <td>1872</td>\n",
       "      <td>59499</td>\n",
       "      <td>1936.0</td>\n",
       "      <td>31.0</td>\n",
       "    </tr>\n",
       "    <tr>\n",
       "      <td>3</td>\n",
       "      <td>9</td>\n",
       "      <td>16</td>\n",
       "      <td>450</td>\n",
       "      <td>170910</td>\n",
       "      <td>3833.0</td>\n",
       "      <td>64.0</td>\n",
       "    </tr>\n",
       "    <tr>\n",
       "      <td>4</td>\n",
       "      <td>21</td>\n",
       "      <td>10</td>\n",
       "      <td>792</td>\n",
       "      <td>119515</td>\n",
       "      <td>5249.0</td>\n",
       "      <td>26.0</td>\n",
       "    </tr>\n",
       "  </tbody>\n",
       "</table>\n",
       "</div>"
      ],
      "text/plain": [
       "   att18  att20  att21   att22   att25  att28\n",
       "0      5      3   1271  137395  3449.0   74.0\n",
       "1     45     16   1253  135433  1846.0   23.0\n",
       "2     24     11   1872   59499  1936.0   31.0\n",
       "3      9     16    450  170910  3833.0   64.0\n",
       "4     21     10    792  119515  5249.0   26.0"
      ]
     },
     "execution_count": 880,
     "metadata": {},
     "output_type": "execute_result"
    }
   ],
   "source": [
    "df_numeric.head()"
   ]
  },
  {
   "cell_type": "code",
   "execution_count": 881,
   "metadata": {
    "scrolled": true
   },
   "outputs": [],
   "source": [
    "df_numeric = df._get_numeric_data()"
   ]
  },
  {
   "cell_type": "code",
   "execution_count": 882,
   "metadata": {
    "scrolled": true
   },
   "outputs": [],
   "source": [
    "#df_numeric.head()"
   ]
  },
  {
   "cell_type": "code",
   "execution_count": 883,
   "metadata": {
    "scrolled": true
   },
   "outputs": [],
   "source": [
    "from patsy import dmatrices\n",
    "import statsmodels.api as sm\n",
    "from statsmodels.stats.outliers_influence import variance_inflation_factor"
   ]
  },
  {
   "cell_type": "code",
   "execution_count": 884,
   "metadata": {
    "scrolled": true
   },
   "outputs": [],
   "source": [
    "%%capture\n",
    "#gather features\n",
    "features = \"+\".join(df_numeric.columns)\n",
    "\n",
    "# get y and X dataframes based on this regression:\n",
    "y, X = dmatrices('Class ~' + features, df_numeric, return_type='dataframe')"
   ]
  },
  {
   "cell_type": "code",
   "execution_count": 885,
   "metadata": {
    "scrolled": true
   },
   "outputs": [],
   "source": [
    "# For each X, calculate VIF and save in dataframe\n",
    "vif = pd.DataFrame()\n",
    "vif[\"VIF Factor\"] = [variance_inflation_factor(X.values, i) for i in range(X.shape[1])]\n",
    "vif[\"features\"] = X.columns"
   ]
  },
  {
   "cell_type": "code",
   "execution_count": 886,
   "metadata": {
    "scrolled": true
   },
   "outputs": [
    {
     "data": {
      "text/html": [
       "<div>\n",
       "<style scoped>\n",
       "    .dataframe tbody tr th:only-of-type {\n",
       "        vertical-align: middle;\n",
       "    }\n",
       "\n",
       "    .dataframe tbody tr th {\n",
       "        vertical-align: top;\n",
       "    }\n",
       "\n",
       "    .dataframe thead th {\n",
       "        text-align: right;\n",
       "    }\n",
       "</style>\n",
       "<table border=\"1\" class=\"dataframe\">\n",
       "  <thead>\n",
       "    <tr style=\"text-align: right;\">\n",
       "      <th></th>\n",
       "      <th>VIF Factor</th>\n",
       "      <th>features</th>\n",
       "    </tr>\n",
       "  </thead>\n",
       "  <tbody>\n",
       "    <tr>\n",
       "      <td>0</td>\n",
       "      <td>100.8</td>\n",
       "      <td>Intercept</td>\n",
       "    </tr>\n",
       "    <tr>\n",
       "      <td>1</td>\n",
       "      <td>1.1</td>\n",
       "      <td>Class</td>\n",
       "    </tr>\n",
       "    <tr>\n",
       "      <td>2</td>\n",
       "      <td>1.1</td>\n",
       "      <td>att15</td>\n",
       "    </tr>\n",
       "    <tr>\n",
       "      <td>3</td>\n",
       "      <td>1.1</td>\n",
       "      <td>att16</td>\n",
       "    </tr>\n",
       "    <tr>\n",
       "      <td>4</td>\n",
       "      <td>2.0</td>\n",
       "      <td>att18</td>\n",
       "    </tr>\n",
       "    <tr>\n",
       "      <td>5</td>\n",
       "      <td>1.0</td>\n",
       "      <td>att20</td>\n",
       "    </tr>\n",
       "    <tr>\n",
       "      <td>6</td>\n",
       "      <td>1.0</td>\n",
       "      <td>att21</td>\n",
       "    </tr>\n",
       "    <tr>\n",
       "      <td>7</td>\n",
       "      <td>1.0</td>\n",
       "      <td>att22</td>\n",
       "    </tr>\n",
       "    <tr>\n",
       "      <td>8</td>\n",
       "      <td>1.0</td>\n",
       "      <td>att23</td>\n",
       "    </tr>\n",
       "    <tr>\n",
       "      <td>9</td>\n",
       "      <td>2.2</td>\n",
       "      <td>att25</td>\n",
       "    </tr>\n",
       "    <tr>\n",
       "      <td>10</td>\n",
       "      <td>1.3</td>\n",
       "      <td>att26</td>\n",
       "    </tr>\n",
       "    <tr>\n",
       "      <td>11</td>\n",
       "      <td>1.1</td>\n",
       "      <td>att27</td>\n",
       "    </tr>\n",
       "    <tr>\n",
       "      <td>12</td>\n",
       "      <td>1.2</td>\n",
       "      <td>att28</td>\n",
       "    </tr>\n",
       "    <tr>\n",
       "      <td>13</td>\n",
       "      <td>1.1</td>\n",
       "      <td>att29</td>\n",
       "    </tr>\n",
       "    <tr>\n",
       "      <td>14</td>\n",
       "      <td>1.0</td>\n",
       "      <td>att30</td>\n",
       "    </tr>\n",
       "  </tbody>\n",
       "</table>\n",
       "</div>"
      ],
      "text/plain": [
       "    VIF Factor   features\n",
       "0        100.8  Intercept\n",
       "1          1.1      Class\n",
       "2          1.1      att15\n",
       "3          1.1      att16\n",
       "4          2.0      att18\n",
       "5          1.0      att20\n",
       "6          1.0      att21\n",
       "7          1.0      att22\n",
       "8          1.0      att23\n",
       "9          2.2      att25\n",
       "10         1.3      att26\n",
       "11         1.1      att27\n",
       "12         1.2      att28\n",
       "13         1.1      att29\n",
       "14         1.0      att30"
      ]
     },
     "execution_count": 886,
     "metadata": {},
     "output_type": "execute_result"
    }
   ],
   "source": [
    "vif.round(1)"
   ]
  },
  {
   "cell_type": "markdown",
   "metadata": {},
   "source": [
    "All the VIF factors are below 5 so there exists no multicollinearlity."
   ]
  },
  {
   "cell_type": "markdown",
   "metadata": {},
   "source": [
    "## 2.4 Data type:"
   ]
  },
  {
   "cell_type": "markdown",
   "metadata": {},
   "source": [
    "### For each attribute, carefully examine the default data type (e.g. Numeric, Nominal, Binary, String, etc.) that has been decided when Weka loads the original CSV file.\n",
    "\n"
   ]
  },
  {
   "cell_type": "code",
   "execution_count": 887,
   "metadata": {
    "scrolled": true
   },
   "outputs": [
    {
     "name": "stdout",
     "output_type": "stream",
     "text": [
      "<class 'pandas.core.frame.DataFrame'>\n",
      "Int64Index: 1100 entries, 0 to 1099\n",
      "Data columns (total 25 columns):\n",
      "Class    1000 non-null float64\n",
      "att1     1100 non-null object\n",
      "att2     1100 non-null object\n",
      "att3     1100 non-null object\n",
      "att4     1100 non-null object\n",
      "att5     1100 non-null object\n",
      "att6     1100 non-null object\n",
      "att7     1100 non-null object\n",
      "att9     1100 non-null object\n",
      "att10    1100 non-null object\n",
      "att11    1100 non-null object\n",
      "att12    1100 non-null object\n",
      "att15    1100 non-null int64\n",
      "att16    1100 non-null int64\n",
      "att18    1100 non-null int64\n",
      "att20    1100 non-null int64\n",
      "att21    1100 non-null int64\n",
      "att22    1100 non-null int64\n",
      "att23    1100 non-null int64\n",
      "att25    1100 non-null float64\n",
      "att26    1100 non-null int64\n",
      "att27    1100 non-null int64\n",
      "att28    1100 non-null float64\n",
      "att29    1100 non-null int64\n",
      "att30    1100 non-null int64\n",
      "dtypes: float64(3), int64(11), object(11)\n",
      "memory usage: 223.4+ KB\n"
     ]
    }
   ],
   "source": [
    "df.info()"
   ]
  },
  {
   "cell_type": "code",
   "execution_count": 888,
   "metadata": {
    "scrolled": true
   },
   "outputs": [
    {
     "data": {
      "text/plain": [
       "Class    float64\n",
       "att1      object\n",
       "att2      object\n",
       "att3      object\n",
       "att4      object\n",
       "att5      object\n",
       "att6      object\n",
       "att7      object\n",
       "att9      object\n",
       "att10     object\n",
       "att11     object\n",
       "att12     object\n",
       "att15      int64\n",
       "att16      int64\n",
       "att18      int64\n",
       "att20      int64\n",
       "att21      int64\n",
       "att22      int64\n",
       "att23      int64\n",
       "att25    float64\n",
       "att26      int64\n",
       "att27      int64\n",
       "att28    float64\n",
       "att29      int64\n",
       "att30      int64\n",
       "dtype: object"
      ]
     },
     "execution_count": 888,
     "metadata": {},
     "output_type": "execute_result"
    }
   ],
   "source": [
    "# Or we can also call dtypes.\n",
    "df.dtypes"
   ]
  },
  {
   "cell_type": "code",
   "execution_count": 889,
   "metadata": {
    "scrolled": true
   },
   "outputs": [],
   "source": [
    "# for col in list(df):\n",
    "#     print(col)\n",
    "#     print(df[col].unique())"
   ]
  },
  {
   "cell_type": "markdown",
   "metadata": {},
   "source": [
    "### If the data type of an attribute is not suitable, give a brief explanation and convert the attribute to a more suitable data type. Provide detailed information of the conversion."
   ]
  },
  {
   "cell_type": "code",
   "execution_count": 890,
   "metadata": {
    "scrolled": true
   },
   "outputs": [],
   "source": [
    "# #### Let's try to reclassify according to the output above:\n",
    "\n",
    "# Note that object is a string in pandas, float64 is a decimal value, int64 is an integer.\n",
    "# Note that categorical = nominal\n",
    "\n",
    "# Attribute    Current     Reclassified \n",
    "# ID           int64       categorical\n",
    "# Class       float64      categorical   (binary) 1 or 0  \n",
    "# att1         object      categorical\n",
    "# att2         object      categorical\n",
    "# att3         object      categorical\n",
    "# att4         object      categorical\n",
    "# att5         object      categorical\n",
    "# att6         object      categorical\n",
    "# att7         object      categorical\n",
    "# att9         object      categorical\n",
    "# att10        object      categorical\n",
    "# att11        object      categorical\n",
    "# att12        object      categorical\n",
    "# att15         int64      categorical (binary)   1 or 0 \n",
    "# att16         int64      categorical (binary)   1 or 2 \n",
    "# att18         int64      numerical\n",
    "# att20         int64      numerical\n",
    "# att21         int64      numerical\n",
    "# att22         int64      numerical\n",
    "# att23         int64      categorical (binary)   1 or 2  \n",
    "# att25       float64      numerical - int64\n",
    "# att26         int64      categorical    1,4,3,2 \n",
    "# att27         int64      categorical    4,3,2,1\n",
    "# att28       float64      numerical - int64\n",
    "# att29         int64      categorical    1,2,3,4\n",
    "# att30         int64      categorical    1,2,3\n"
   ]
  },
  {
   "cell_type": "code",
   "execution_count": 891,
   "metadata": {
    "scrolled": true
   },
   "outputs": [],
   "source": [
    "categ_list = ['att1', 'att2', 'att3', 'att4', 'att5', 'att6', 'att7', \n",
    "              'att9', 'att10', 'att11', 'att12']\n",
    "#omitted class, att15, att16, att23 as it is 1,0 binary and att26, att27, att29, att30 as they are also numerical.\n",
    "# Note that att1 to 12 contain alphabets so making category first and making dummy variables are required."
   ]
  },
  {
   "cell_type": "markdown",
   "metadata": {},
   "source": [
    "### Let's use pandas dummy to produce new columns for the same column and make sure all categorical columns are numerical in nature (but not in a continuous hierarchial nature).\n"
   ]
  },
  {
   "cell_type": "code",
   "execution_count": 892,
   "metadata": {
    "scrolled": true
   },
   "outputs": [],
   "source": [
    "#df.head()"
   ]
  },
  {
   "cell_type": "code",
   "execution_count": 893,
   "metadata": {
    "scrolled": true
   },
   "outputs": [],
   "source": [
    "for col in categ_list:\n",
    "    df[col] = df[col].astype('category')"
   ]
  },
  {
   "cell_type": "code",
   "execution_count": 894,
   "metadata": {
    "scrolled": true
   },
   "outputs": [],
   "source": [
    "# for col in numerical_list:\n",
    "#     train_df[col] = train_df[col].astype('int64')"
   ]
  },
  {
   "cell_type": "code",
   "execution_count": 895,
   "metadata": {
    "scrolled": true
   },
   "outputs": [],
   "source": [
    "# Now change class back to categ once it is int and not float.\n"
   ]
  },
  {
   "cell_type": "code",
   "execution_count": 896,
   "metadata": {
    "scrolled": true
   },
   "outputs": [
    {
     "data": {
      "text/plain": [
       "Class     float64\n",
       "att1     category\n",
       "att2     category\n",
       "att3     category\n",
       "att4     category\n",
       "att5     category\n",
       "att6     category\n",
       "att7     category\n",
       "att9     category\n",
       "att10    category\n",
       "att11    category\n",
       "att12    category\n",
       "att15       int64\n",
       "att16       int64\n",
       "att18       int64\n",
       "att20       int64\n",
       "att21       int64\n",
       "att22       int64\n",
       "att23       int64\n",
       "att25     float64\n",
       "att26       int64\n",
       "att27       int64\n",
       "att28     float64\n",
       "att29       int64\n",
       "att30       int64\n",
       "dtype: object"
      ]
     },
     "execution_count": 896,
     "metadata": {},
     "output_type": "execute_result"
    }
   ],
   "source": [
    "df.dtypes"
   ]
  },
  {
   "cell_type": "code",
   "execution_count": 897,
   "metadata": {
    "scrolled": true
   },
   "outputs": [],
   "source": [
    "# train_df = pd.get_dummies(train_df, columns=[categ_list])\n",
    "df = pd.get_dummies(df)"
   ]
  },
  {
   "cell_type": "code",
   "execution_count": 898,
   "metadata": {
    "scrolled": true
   },
   "outputs": [],
   "source": [
    "#df.head()"
   ]
  },
  {
   "cell_type": "code",
   "execution_count": 899,
   "metadata": {
    "scrolled": true
   },
   "outputs": [],
   "source": [
    "df['Class'] = df['Class'].astype('category')\n",
    "df['att15'] = df['att15'].astype('category')\n",
    "df['att16'] = df['att16'].astype('category')\n",
    "df['att23'] = df['att23'].astype('category')\n",
    "\n",
    "# att26, att27, att29, att30\n",
    "df['att26'] = df['att26'].astype('category')\n",
    "df['att27'] = df['att27'].astype('category')\n",
    "df['att29'] = df['att29'].astype('category')\n",
    "df['att30'] = df['att30'].astype('category')"
   ]
  },
  {
   "cell_type": "code",
   "execution_count": 900,
   "metadata": {
    "scrolled": true
   },
   "outputs": [
    {
     "data": {
      "text/plain": [
       "Class       category\n",
       "att15       category\n",
       "att16       category\n",
       "att18          int64\n",
       "att20          int64\n",
       "att21          int64\n",
       "att22          int64\n",
       "att23       category\n",
       "att25        float64\n",
       "att26       category\n",
       "att27       category\n",
       "att28        float64\n",
       "att29       category\n",
       "att30       category\n",
       "att1_V0        uint8\n",
       "att1_V1        uint8\n",
       "att1_V2        uint8\n",
       "att1_V3        uint8\n",
       "att1_V4        uint8\n",
       "att2_V1        uint8\n",
       "att2_V10       uint8\n",
       "att2_V2        uint8\n",
       "att2_V3        uint8\n",
       "att2_V4        uint8\n",
       "att2_V5        uint8\n",
       "att2_V6        uint8\n",
       "att2_V7        uint8\n",
       "att2_V8        uint8\n",
       "att2_V9        uint8\n",
       "att3_V1        uint8\n",
       "att3_V2        uint8\n",
       "att3_V3        uint8\n",
       "att3_V4        uint8\n",
       "att3_V5        uint8\n",
       "att4_V0        uint8\n",
       "att4_V1        uint8\n",
       "att4_V2        uint8\n",
       "att4_V3        uint8\n",
       "att4_V4        uint8\n",
       "att5_V1        uint8\n",
       "att5_V2        uint8\n",
       "att5_V3        uint8\n",
       "att5_V4        uint8\n",
       "att6_V1        uint8\n",
       "att6_V2        uint8\n",
       "att6_V3        uint8\n",
       "att6_V4        uint8\n",
       "att7_V1        uint8\n",
       "att7_V2        uint8\n",
       "att7_V3        uint8\n",
       "att9_A         uint8\n",
       "att9_B         uint8\n",
       "att9_C         uint8\n",
       "att9_D         uint8\n",
       "att10_A        uint8\n",
       "att10_B        uint8\n",
       "att10_C        uint8\n",
       "att10_D        uint8\n",
       "att11_A        uint8\n",
       "att11_B        uint8\n",
       "att11_C        uint8\n",
       "att12_A        uint8\n",
       "att12_B        uint8\n",
       "att12_C        uint8\n",
       "att12_D        uint8\n",
       "dtype: object"
      ]
     },
     "execution_count": 900,
     "metadata": {},
     "output_type": "execute_result"
    }
   ],
   "source": [
    "df.dtypes"
   ]
  },
  {
   "cell_type": "markdown",
   "metadata": {},
   "source": [
    "## Log Transformation"
   ]
  },
  {
   "cell_type": "code",
   "execution_count": 901,
   "metadata": {
    "scrolled": true
   },
   "outputs": [
    {
     "data": {
      "image/png": "[encoded data removed]",
      "text/plain": [
       "<Figure size 1440x720 with 64 Axes>"
      ]
     },
     "metadata": {
      "needs_background": "light"
     },
     "output_type": "display_data"
    }
   ],
   "source": [
    "df.hist(alpha=0.5, figsize=(20, 10))\n",
    "plt.tight_layout()\n",
    "plt.show()"
   ]
  },
  {
   "cell_type": "code",
   "execution_count": 902,
   "metadata": {
    "scrolled": true
   },
   "outputs": [
    {
     "data": {
      "image/png": "[encoded data removed]",
      "text/plain": [
       "<Figure size 1440x720 with 6 Axes>"
      ]
     },
     "metadata": {
      "needs_background": "light"
     },
     "output_type": "display_data"
    }
   ],
   "source": [
    "numerical_list = ['att18', 'att20', 'att21', 'att22', 'att25', 'att28']\n",
    "\n",
    "df.hist(alpha=0.5, figsize=(20, 10), column=numerical_list)\n",
    "plt.tight_layout()\n",
    "plt.show()"
   ]
  },
  {
   "cell_type": "markdown",
   "metadata": {},
   "source": [
    "Looks like there are no outliers."
   ]
  },
  {
   "cell_type": "code",
   "execution_count": 903,
   "metadata": {
    "scrolled": true
   },
   "outputs": [],
   "source": [
    "# Let us perform log transformation on the data first.\n",
    "# att18, 25 and 28 require a log transformation as it is skewed to the right!\n",
    "df[\"att18\"] = df[\"att18\"].apply(np.log)\n",
    "df[\"att25\"] = df[\"att25\"].apply(np.log)\n",
    "df[\"att28\"] = df[\"att28\"].apply(np.log)"
   ]
  },
  {
   "cell_type": "code",
   "execution_count": 904,
   "metadata": {
    "scrolled": false
   },
   "outputs": [
    {
     "data": {
      "image/png": "[encoded data removed]",
      "text/plain": [
       "<Figure size 1440x720 with 6 Axes>"
      ]
     },
     "metadata": {
      "needs_background": "light"
     },
     "output_type": "display_data"
    }
   ],
   "source": [
    "df.hist(alpha=0.5, figsize=(20, 10), column=numerical_list)\n",
    "plt.tight_layout()\n",
    "plt.show()\n",
    "# As can be seen, the values are standardised now with a mean of 0 and standard deviation of 1."
   ]
  },
  {
   "cell_type": "code",
   "execution_count": 905,
   "metadata": {},
   "outputs": [
    {
     "data": {
      "image/png": "[encoded data removed]",
      "text/plain": [
       "<Figure size 720x576 with 1 Axes>"
      ]
     },
     "metadata": {
      "needs_background": "light"
     },
     "output_type": "display_data"
    }
   ],
   "source": [
    "# plot original distribution plot\n",
    "fig, (ax1) = plt.subplots(ncols=1, figsize=(10, 8))\n",
    "ax1.set_title('Original Distributions')\n",
    "\n",
    "sns.kdeplot(df['att18'], ax=ax1)\n",
    "sns.kdeplot(df['att20'], ax=ax1)\n",
    "sns.kdeplot(df['att21'], ax=ax1)\n",
    "sns.kdeplot(df['att22'], ax=ax1)\n",
    "sns.kdeplot(df['att25'], ax=ax1)\n",
    "sns.kdeplot(df['att28'], ax=ax1);"
   ]
  },
  {
   "cell_type": "markdown",
   "metadata": {},
   "source": [
    "## Splitting the Dataset"
   ]
  },
  {
   "cell_type": "markdown",
   "metadata": {},
   "source": [
    "Training, Validation and Test. The last 100 rows are test. \n",
    "The remaining dataset will be split 80% into training and 20% into validation (Cross validation will be implemented later when we repeat the sampling so we will only split training and test set here)."
   ]
  },
  {
   "cell_type": "code",
   "execution_count": 906,
   "metadata": {
    "scrolled": true
   },
   "outputs": [],
   "source": [
    "train_valid_df = df.iloc[:1000,]\n",
    "test_df = df.iloc[1000:,]"
   ]
  },
  {
   "cell_type": "markdown",
   "metadata": {},
   "source": [
    "### For each numeric attribute, decide if any pre-processing (e.g. scaling, standardisation) is required. Give a brief explanation why it is needed (this should be discussed in relation to the subsequent classification task)."
   ]
  },
  {
   "cell_type": "code",
   "execution_count": 907,
   "metadata": {
    "scrolled": true
   },
   "outputs": [
    {
     "name": "stdout",
     "output_type": "stream",
     "text": [
      "1000\n",
      "100\n"
     ]
    }
   ],
   "source": [
    "print(len(train_valid_df))\n",
    "print(len(test_df))"
   ]
  },
  {
   "cell_type": "markdown",
   "metadata": {},
   "source": [
    "## 2.5 Scaling and standardisation:"
   ]
  },
  {
   "cell_type": "markdown",
   "metadata": {},
   "source": [
    "### For each numeric attribute, decide if any pre-processing (e.g. scaling, standardisation) is required. Give a brief explanation why it is needed (this should be discussed in relation to the subsequent classification task)."
   ]
  },
  {
   "cell_type": "code",
   "execution_count": 908,
   "metadata": {
    "scrolled": true
   },
   "outputs": [],
   "source": [
    "# Did not work\n",
    "# scaler = preprocessing.MinMaxScaler()\n",
    "# df[numerical_list] = scaler.fit_transform(df[numerical_list])"
   ]
  },
  {
   "cell_type": "code",
   "execution_count": 909,
   "metadata": {
    "scrolled": true
   },
   "outputs": [],
   "source": [
    "# Did not work\n",
    "# std_scale = preprocessing.StandardScaler().fit(df[numerical_list])\n",
    "# df_std = std_scale.transform(df[numerical_list])\n",
    "\n",
    "# minmax_scale = preprocessing.MinMaxScaler().fit(df[numerical_list])\n",
    "# df_minmax = minmax_scale.transform(df[numerical_list])\n",
    "#df_std.head()"
   ]
  },
  {
   "cell_type": "code",
   "execution_count": 910,
   "metadata": {
    "scrolled": true
   },
   "outputs": [],
   "source": [
    "numerical_list = ['att18', 'att20', 'att21', 'att22', 'att25', 'att28']"
   ]
  },
  {
   "cell_type": "code",
   "execution_count": 911,
   "metadata": {
    "scrolled": true
   },
   "outputs": [
    {
     "data": {
      "text/plain": [
       "att18         2.873078\n",
       "att20        10.098000\n",
       "att21       995.982000\n",
       "att22    101306.617000\n",
       "att25         7.798873\n",
       "att28         3.540224\n",
       "dtype: float64"
      ]
     },
     "execution_count": 911,
     "metadata": {},
     "output_type": "execute_result"
    }
   ],
   "source": [
    "np.mean(train_valid_df.loc[:,numerical_list])"
   ]
  },
  {
   "cell_type": "code",
   "execution_count": 912,
   "metadata": {
    "scrolled": true
   },
   "outputs": [
    {
     "data": {
      "text/plain": [
       "att18         2.874733\n",
       "att20         9.460000\n",
       "att21       940.670000\n",
       "att22    102913.620000\n",
       "att25         7.717873\n",
       "att28         3.410765\n",
       "dtype: float64"
      ]
     },
     "execution_count": 912,
     "metadata": {},
     "output_type": "execute_result"
    }
   ],
   "source": [
    "np.mean(test_df.loc[:,numerical_list])"
   ]
  },
  {
   "cell_type": "code",
   "execution_count": 913,
   "metadata": {
    "scrolled": true
   },
   "outputs": [],
   "source": [
    "# Means are similar, so use mean of training and apply to validation when standardising as more datapoints."
   ]
  },
  {
   "cell_type": "code",
   "execution_count": 914,
   "metadata": {
    "scrolled": true
   },
   "outputs": [],
   "source": [
    "# Let us first standardise the numerical columns\n",
    "# scaler = preprocessing.MinMaxScaler()  # we did not use min max scaler as we wanted centre to be 0.\n",
    "\n",
    "# Mean is different, mean from the test for the standardisation of the test.\n",
    "# Mean is consistent, use the mean from the training or the mean from the whole group of the dataset. \n",
    "\n",
    "scaler = preprocessing.StandardScaler()\n",
    "\n",
    "train_valid_df.loc[:,numerical_list] = scaler.fit_transform(train_valid_df.loc[:,numerical_list].to_numpy())\n",
    "\n",
    "# Use transform, not fit_transform to ensure it is same distribution as original\n",
    "test_df.loc[:,numerical_list] = scaler.transform(test_df.loc[:,numerical_list].to_numpy())\n",
    "\n",
    "#train_valid_df.head()"
   ]
  },
  {
   "cell_type": "code",
   "execution_count": 915,
   "metadata": {
    "scrolled": true
   },
   "outputs": [
    {
     "data": {
      "image/png": "[encoded data removed]",
      "text/plain": [
       "<Figure size 720x576 with 1 Axes>"
      ]
     },
     "metadata": {
      "needs_background": "light"
     },
     "output_type": "display_data"
    }
   ],
   "source": [
    "# plot original distribution plot\n",
    "fig, (ax1) = plt.subplots(ncols=1, figsize=(10, 8))\n",
    "ax1.set_title('Original Distributions')\n",
    "\n",
    "sns.kdeplot(train_valid_df['att18'], ax=ax1)\n",
    "sns.kdeplot(train_valid_df['att20'], ax=ax1)\n",
    "sns.kdeplot(train_valid_df['att21'], ax=ax1)\n",
    "sns.kdeplot(train_valid_df['att22'], ax=ax1)\n",
    "sns.kdeplot(train_valid_df['att25'], ax=ax1)\n",
    "sns.kdeplot(train_valid_df['att28'], ax=ax1);"
   ]
  },
  {
   "cell_type": "markdown",
   "metadata": {},
   "source": [
    "# Normalisation"
   ]
  },
  {
   "cell_type": "code",
   "execution_count": 916,
   "metadata": {
    "scrolled": true
   },
   "outputs": [],
   "source": [
    "# Let us now normalise the numerical columns\n",
    "#normalise = preprocessing.normalize()\n",
    "# train_df[numerical_list] = preprocessing.normalize(train_df[numerical_list].to_numpy())\n",
    "# valid_df[numerical_list] = preprocessing.normalize(valid_df[numerical_list].to_numpy())\n",
    "# test_df[numerical_list] = preprocessing.normalize(test_df[numerical_list].to_numpy())\n"
   ]
  },
  {
   "cell_type": "code",
   "execution_count": 917,
   "metadata": {
    "scrolled": true
   },
   "outputs": [],
   "source": [
    "# # plot original distribution plot\n",
    "# fig, (ax1) = plt.subplots(ncols=1, figsize=(10, 8))\n",
    "# ax1.set_title('Original Distributions')\n",
    "\n",
    "# sns.kdeplot(train_df['att18'], ax=ax1)\n",
    "# sns.kdeplot(train_df['att20'], ax=ax1)\n",
    "# sns.kdeplot(train_df['att21'], ax=ax1)\n",
    "# sns.kdeplot(train_df['att22'], ax=ax1)\n",
    "# sns.kdeplot(train_df['att25'], ax=ax1)\n",
    "# sns.kdeplot(train_df['att28'], ax=ax1);"
   ]
  },
  {
   "cell_type": "code",
   "execution_count": 918,
   "metadata": {
    "scrolled": true
   },
   "outputs": [],
   "source": [
    "# # plot original distribution plot\n",
    "# fig, (ax1) = plt.subplots(ncols=1, figsize=(10, 8))\n",
    "# ax1.set_title('Original Distributions')\n",
    "\n",
    "# sns.kdeplot(valid_df['att18'], ax=ax1)\n",
    "# sns.kdeplot(valid_df['att20'], ax=ax1)\n",
    "# sns.kdeplot(valid_df['att21'], ax=ax1)\n",
    "# sns.kdeplot(valid_df['att22'], ax=ax1)\n",
    "# sns.kdeplot(valid_df['att25'], ax=ax1)\n",
    "# sns.kdeplot(valid_df['att28'], ax=ax1);"
   ]
  },
  {
   "cell_type": "code",
   "execution_count": 919,
   "metadata": {
    "scrolled": true
   },
   "outputs": [],
   "source": [
    "# # plot original distribution plot\n",
    "# fig, (ax1) = plt.subplots(ncols=1, figsize=(10, 8))\n",
    "# ax1.set_title('Original Distributions')\n",
    "\n",
    "# sns.kdeplot(test_df['att18'], ax=ax1)\n",
    "# sns.kdeplot(test_df['att20'], ax=ax1)\n",
    "# sns.kdeplot(test_df['att21'], ax=ax1)\n",
    "# sns.kdeplot(test_df['att22'], ax=ax1)\n",
    "# sns.kdeplot(test_df['att25'], ax=ax1)\n",
    "# sns.kdeplot(test_df['att28'], ax=ax1);"
   ]
  },
  {
   "cell_type": "code",
   "execution_count": 920,
   "metadata": {
    "scrolled": true
   },
   "outputs": [],
   "source": [
    "# train_df.hist(alpha=0.5, figsize=(20, 10), column=numerical_list)\n",
    "# plt.tight_layout()\n",
    "# plt.show()"
   ]
  },
  {
   "cell_type": "code",
   "execution_count": 921,
   "metadata": {
    "scrolled": true
   },
   "outputs": [],
   "source": [
    "# valid_df.hist(alpha=0.5, figsize=(20, 10), column=numerical_list)\n",
    "# plt.tight_layout()\n",
    "# plt.show()"
   ]
  },
  {
   "cell_type": "code",
   "execution_count": 922,
   "metadata": {
    "scrolled": true
   },
   "outputs": [],
   "source": [
    "# test_df.hist(alpha=0.5, figsize=(20, 10), column=numerical_list)\n",
    "# plt.tight_layout()\n",
    "# plt.show()"
   ]
  },
  {
   "cell_type": "code",
   "execution_count": 923,
   "metadata": {
    "scrolled": true
   },
   "outputs": [],
   "source": [
    "# Note that you may need to apply a log transformation to att25, att28 since they are still skewed to the right! "
   ]
  },
  {
   "cell_type": "markdown",
   "metadata": {},
   "source": [
    "## 2.10 Others:"
   ]
  },
  {
   "cell_type": "markdown",
   "metadata": {},
   "source": [
    "### Describe other data-preparation steps not mentioned above."
   ]
  },
  {
   "cell_type": "code",
   "execution_count": 924,
   "metadata": {
    "scrolled": true
   },
   "outputs": [],
   "source": [
    "# train_df_bal.sort_values('Class')"
   ]
  },
  {
   "cell_type": "code",
   "execution_count": 925,
   "metadata": {
    "scrolled": true
   },
   "outputs": [],
   "source": [
    "# test_df.sort_values('Class_0.0')"
   ]
  },
  {
   "cell_type": "code",
   "execution_count": 926,
   "metadata": {
    "scrolled": true
   },
   "outputs": [],
   "source": [
    "# df.groupby(level=0, sort=False).transform(lambda x: sorted(x,key=pd.isnull))\n",
    "# This is to ensure null values of class is at bottom but not required anymore since we split to train set."
   ]
  },
  {
   "cell_type": "markdown",
   "metadata": {},
   "source": [
    "## 2.11 Save dataframe to csv to open in part II (Data Classification) Jupyter Notebook"
   ]
  },
  {
   "cell_type": "markdown",
   "metadata": {},
   "source": [
    "## Save to arff format"
   ]
  },
  {
   "cell_type": "code",
   "execution_count": 927,
   "metadata": {
    "scrolled": true
   },
   "outputs": [],
   "source": [
    "arff.dump('training_set.arff'\n",
    "      , train_valid_df.values\n",
    "      , relation='relation name'\n",
    "      , names=df.columns)"
   ]
  },
  {
   "cell_type": "code",
   "execution_count": 928,
   "metadata": {
    "scrolled": true
   },
   "outputs": [],
   "source": [
    "arff.dump('test_set.arff'\n",
    "      , test_df.values\n",
    "      , relation='relation name'\n",
    "      , names=df.columns)"
   ]
  },
  {
   "cell_type": "markdown",
   "metadata": {},
   "source": [
    "## Save to csv format"
   ]
  },
  {
   "cell_type": "code",
   "execution_count": 929,
   "metadata": {
    "scrolled": true
   },
   "outputs": [],
   "source": [
    "# train_valid_df_bal.to_csv('training_valid_set_trial_1.csv', encoding='utf-8', index=False)\n",
    "train_valid_df.to_csv('training_valid_set.csv', encoding='utf-8', index=False)"
   ]
  },
  {
   "cell_type": "code",
   "execution_count": 930,
   "metadata": {
    "scrolled": true
   },
   "outputs": [],
   "source": [
    "test_df.to_csv('test_set.csv', encoding='utf-8', index=False)\n"
   ]
  },
  {
   "cell_type": "markdown",
   "metadata": {},
   "source": [
    "# Part II (Data Classification)\n"
   ]
  },
  {
   "cell_type": "markdown",
   "metadata": {},
   "source": [
    "## 2.11 Training, Validation, and Test Sets: "
   ]
  },
  {
   "cell_type": "markdown",
   "metadata": {},
   "source": [
    "### Suitably divide the prepared data into training, validation and test sets. These sets must be in ARFF format and submitted together with the electronic version of your report. See the Submission section for further information."
   ]
  },
  {
   "cell_type": "markdown",
   "metadata": {},
   "source": [
    "The splitting was performed prior to data preprocessing to make sure no biases of the transformation made to the training set would affect the validation or test set."
   ]
  },
  {
   "cell_type": "markdown",
   "metadata": {},
   "source": [
    "## 3.0 Classifier selection:\n",
    "You will need to select at least three (3) classifiers that have been discussed in the workshops: k-NN, Naive Bayes, and Decision Trees (J48). Other classifiers, including meta classifiers, are also encouraged. Every classifier typically has parameters to tune. If you change the default parameters to achieve higher cross-validation performance, clearly indicate what the parameters mean, and what values you have selected."
   ]
  },
  {
   "cell_type": "code",
   "execution_count": 931,
   "metadata": {
    "scrolled": true
   },
   "outputs": [],
   "source": [
    "import pandas as pd\n",
    "import numpy as np\n",
    "import matplotlib\n",
    "import matplotlib.pyplot as plt\n",
    "import seaborn as sns\n",
    "\n",
    "from sklearn import tree, metrics, svm\n",
    "from sklearn.tree import DecisionTreeClassifier\n",
    "from sklearn.metrics import accuracy_score\n",
    "from sklearn.naive_bayes import GaussianNB\n",
    "from sklearn.neighbors import KNeighborsClassifier\n",
    "from sklearn.linear_model import LogisticRegression\n",
    "from sklearn.discriminant_analysis import LinearDiscriminantAnalysis\n",
    "from sklearn.model_selection import StratifiedKFold, KFold"
   ]
  },
  {
   "cell_type": "code",
   "execution_count": 932,
   "metadata": {
    "scrolled": true
   },
   "outputs": [],
   "source": [
    "pd.set_option('display.max_rows', 500)\n",
    "pd.set_option('display.max_columns', 500)\n",
    "pd.set_option('display.width', 1000)"
   ]
  },
  {
   "cell_type": "code",
   "execution_count": 933,
   "metadata": {
    "scrolled": true
   },
   "outputs": [],
   "source": [
    "train_valid_df = pd.read_csv('training_valid_set.csv')"
   ]
  },
  {
   "cell_type": "code",
   "execution_count": 934,
   "metadata": {
    "scrolled": true
   },
   "outputs": [],
   "source": [
    "#train_valid_df.head()"
   ]
  },
  {
   "cell_type": "markdown",
   "metadata": {},
   "source": [
    "## 3.1 Data imbalance:"
   ]
  },
  {
   "cell_type": "markdown",
   "metadata": {},
   "source": [
    "### The data set is known to have more samples from one class than the other. If you employ any strategy to address the data imbalance issue, describe it thoroughly."
   ]
  },
  {
   "cell_type": "markdown",
   "metadata": {},
   "source": [
    "From general consensus, we have decided to balance the training set but leave the validation and test set untouched. This is so that we get the actual performance."
   ]
  },
  {
   "cell_type": "code",
   "execution_count": 935,
   "metadata": {},
   "outputs": [
    {
     "data": {
      "text/plain": [
       "(1000, 65)"
      ]
     },
     "execution_count": 935,
     "metadata": {},
     "output_type": "execute_result"
    }
   ],
   "source": [
    "train_valid_df.shape"
   ]
  },
  {
   "cell_type": "code",
   "execution_count": 936,
   "metadata": {
    "scrolled": true
   },
   "outputs": [
    {
     "data": {
      "text/plain": [
       "1.0    730\n",
       "0.0    270\n",
       "Name: Class, dtype: int64"
      ]
     },
     "execution_count": 936,
     "metadata": {},
     "output_type": "execute_result"
    }
   ],
   "source": [
    "train_valid_df['Class'].value_counts()"
   ]
  },
  {
   "cell_type": "code",
   "execution_count": 937,
   "metadata": {
    "scrolled": true
   },
   "outputs": [
    {
     "data": {
      "image/png": "[encoded data removed]",
      "text/plain": [
       "<Figure size 432x288 with 1 Axes>"
      ]
     },
     "metadata": {
      "needs_background": "light"
     },
     "output_type": "display_data"
    }
   ],
   "source": [
    "classes = train_valid_df['Class'].values\n",
    "# print(classes)\n",
    "unique, counts = np.unique(classes, return_counts=True)\n",
    "\n",
    "plt.bar(unique,counts)\n",
    "plt.title('Class Frequency')\n",
    "plt.xlabel('Class')\n",
    "plt.ylabel('Frequency')\n",
    "plt.show()"
   ]
  },
  {
   "cell_type": "markdown",
   "metadata": {},
   "source": [
    "The simplest implementation of over-sampling is to duplicate random records from the minority class, which can cause overfitting. In under-sampling, the simplest technique involves removing random records from the majority class, which can cause loss of information.\n",
    "\n",
    "For our situation, we will implement over-sampling so we avoid data loss."
   ]
  },
  {
   "cell_type": "code",
   "execution_count": 938,
   "metadata": {
    "scrolled": true
   },
   "outputs": [],
   "source": [
    "# Class count\n",
    "# count_class_1, count_class_0 = train_valid_df['Class'].value_counts()\n",
    "# print(count_class_1)\n",
    "\n",
    "# Divide by class\n",
    "# df_class_1 = train_valid_df[train_valid_df['Class'] == 1]\n",
    "# df_class_0 = train_valid_df[train_valid_df['Class'] == 0]"
   ]
  },
  {
   "cell_type": "code",
   "execution_count": 939,
   "metadata": {},
   "outputs": [],
   "source": [
    "#train_valid_df.head()"
   ]
  },
  {
   "cell_type": "code",
   "execution_count": 940,
   "metadata": {
    "scrolled": true
   },
   "outputs": [],
   "source": [
    "# Balancing the data by resampling from the smaller class group.\n",
    "\n",
    "# df_class_0_over = df_class_0.sample(400, replace=True)\n",
    "# train_valid_df = pd.concat([df_class_1, df_class_0_over], axis=0)\n",
    "\n",
    "# print('Random over-sampling:')\n",
    "# print(train_valid_df['Class'].value_counts())\n",
    "\n",
    "# train_valid_df['Class'].value_counts().plot(kind='bar', title='Count (target)');"
   ]
  },
  {
   "cell_type": "code",
   "execution_count": 941,
   "metadata": {
    "scrolled": true
   },
   "outputs": [
    {
     "data": {
      "image/png": "[encoded data removed]",
      "text/plain": [
       "<Figure size 432x288 with 1 Axes>"
      ]
     },
     "metadata": {
      "needs_background": "light"
     },
     "output_type": "display_data"
    }
   ],
   "source": [
    "train_valid_df['Class'].value_counts().plot(kind='bar', title='Count (target)');"
   ]
  },
  {
   "cell_type": "code",
   "execution_count": 942,
   "metadata": {
    "scrolled": true
   },
   "outputs": [
    {
     "data": {
      "text/plain": [
       "1.0    730\n",
       "0.0    270\n",
       "Name: Class, dtype: int64"
      ]
     },
     "execution_count": 942,
     "metadata": {},
     "output_type": "execute_result"
    }
   ],
   "source": [
    "train_valid_df['Class'].value_counts()"
   ]
  },
  {
   "cell_type": "markdown",
   "metadata": {},
   "source": [
    "One thing to note is that it may be better to apply balancing during the cross-validation (https://www.researchgate.net/post/should_oversampling_be_done_before_or_within_cross-validation)\n",
    "\n",
    "This might mean that the above will lead to overfitting as we are creating too many duplicates of the 1s. Also note that because we split training and valid at the start, the sample size of each training set will change depending on the ratio of 1s and 0s we take from the original data for training. Thus the size of the train_df_bal will keep changing if we do it with this method."
   ]
  },
  {
   "cell_type": "code",
   "execution_count": 943,
   "metadata": {},
   "outputs": [
    {
     "data": {
      "text/plain": [
       "(1000, 65)"
      ]
     },
     "execution_count": 943,
     "metadata": {},
     "output_type": "execute_result"
    }
   ],
   "source": [
    "train_valid_df.shape"
   ]
  },
  {
   "cell_type": "code",
   "execution_count": 944,
   "metadata": {
    "scrolled": true
   },
   "outputs": [],
   "source": [
    "# Balancing the dataset results in the ID column reappearing in the dataset, so we will delete it again here.\n",
    "# Remove ID as it does not give us any information.\n",
    "# del train_valid_df['ID']\n",
    "\n",
    "# from sklearn.utils import shuffle\n",
    "# train_valid_df = shuffle(train_valid_df)"
   ]
  },
  {
   "cell_type": "code",
   "execution_count": 945,
   "metadata": {},
   "outputs": [],
   "source": [
    "#train_valid_df.head()"
   ]
  },
  {
   "cell_type": "markdown",
   "metadata": {},
   "source": [
    "### Why does imbalanced dataset lead to higher accuracy than balanced dataset?\n",
    "Imagine that your data is not easily separable. Your classifier isn't able to do a very good job at distinguishing between positive and negative examples, so it usually predicts the majority class for any example. In the unbalanced case, it will get 100 examples correct and 20 wrong, resulting in a 100/120 = 83% accuracy. But after balancing the classes, the best possible result is about 50%.\n",
    "\n",
    "The problem here is that accuracy is not a good measure of performance on unbalanced classes. It may be that your data is too difficult, or the capacity of your classifier is not strong enough. It's usually better to look at the confusion matrix to better understand how the classifier is working, or look at metrics other than accuracy such as the precision and recall, 𝐹1 score (which is just the harmonic mean of precision and recall), or AUC. These are typically all easy to use in common machine learning libraries like scikit-learn."
   ]
  },
  {
   "cell_type": "markdown",
   "metadata": {},
   "source": [
    "***Decided to use balanced bagging classifier instead!"
   ]
  },
  {
   "cell_type": "markdown",
   "metadata": {},
   "source": [
    "## Split Features and Target"
   ]
  },
  {
   "cell_type": "code",
   "execution_count": 946,
   "metadata": {
    "scrolled": true
   },
   "outputs": [
    {
     "name": "stdout",
     "output_type": "stream",
     "text": [
      "Dataset Length:  1000\n",
      "Dataset Shape:  (1000, 65)\n"
     ]
    }
   ],
   "source": [
    "print(\"Dataset Length: \", len(train_valid_df))\n",
    "print(\"Dataset Shape: \", train_valid_df.shape)"
   ]
  },
  {
   "cell_type": "code",
   "execution_count": 947,
   "metadata": {
    "scrolled": true
   },
   "outputs": [],
   "source": [
    "# X contains all features and y contains target\n",
    "X = train_valid_df.drop(columns=['Class'],axis=1)\n",
    "y = train_valid_df['Class']"
   ]
  },
  {
   "cell_type": "code",
   "execution_count": 948,
   "metadata": {
    "scrolled": true
   },
   "outputs": [
    {
     "data": {
      "text/plain": [
       "(1000, 64)"
      ]
     },
     "execution_count": 948,
     "metadata": {},
     "output_type": "execute_result"
    }
   ],
   "source": [
    "X.shape"
   ]
  },
  {
   "cell_type": "code",
   "execution_count": 949,
   "metadata": {},
   "outputs": [],
   "source": [
    "#X.head()"
   ]
  },
  {
   "cell_type": "code",
   "execution_count": 950,
   "metadata": {},
   "outputs": [
    {
     "data": {
      "text/plain": [
       "0    1.0\n",
       "1    0.0\n",
       "2    0.0\n",
       "3    1.0\n",
       "4    1.0\n",
       "Name: Class, dtype: float64"
      ]
     },
     "execution_count": 950,
     "metadata": {},
     "output_type": "execute_result"
    }
   ],
   "source": [
    "y.head()"
   ]
  },
  {
   "cell_type": "code",
   "execution_count": 951,
   "metadata": {
    "scrolled": true
   },
   "outputs": [],
   "source": [
    "# Convert X into matrix format so cross validation function is satisfied.\n",
    "X = X.values"
   ]
  },
  {
   "cell_type": "code",
   "execution_count": 952,
   "metadata": {},
   "outputs": [],
   "source": [
    "# Convert y into matrix format so cross validation function is satisfied.\n",
    "y = pd.DataFrame(y)\n",
    "y = y.values.ravel()\n"
   ]
  },
  {
   "cell_type": "markdown",
   "metadata": {},
   "source": [
    "# Balance Trial with SMOTE"
   ]
  },
  {
   "cell_type": "code",
   "execution_count": 953,
   "metadata": {
    "scrolled": true
   },
   "outputs": [
    {
     "data": {
      "text/plain": [
       "<matplotlib.axes._subplots.AxesSubplot at 0x1c2d3fa250>"
      ]
     },
     "execution_count": 953,
     "metadata": {},
     "output_type": "execute_result"
    },
    {
     "data": {
      "image/png": "[encoded data removed]",
      "text/plain": [
       "<Figure size 432x288 with 1 Axes>"
      ]
     },
     "metadata": {
      "needs_background": "light"
     },
     "output_type": "display_data"
    }
   ],
   "source": [
    "# TRY BALANCE THE DATASET NOW USING SMOTE\n",
    "# Found that imbalanced data was similar if not better (more consistent) than balanced dataset. \n",
    "# # Also for knn, the accuracy reduced a lot (down to 0.2).\n",
    "\n",
    "from imblearn.over_sampling import SMOTE\n",
    "sm = SMOTE(random_state = 33)\n",
    "X, y = sm.fit_sample(X, y)\n",
    "pd.Series(y).value_counts().plot.bar()"
   ]
  },
  {
   "cell_type": "markdown",
   "metadata": {},
   "source": [
    "Decided to use balanced bagging classifier instead!"
   ]
  },
  {
   "cell_type": "markdown",
   "metadata": {},
   "source": [
    "### Perhaps don't need to balance? \n",
    "You need to deal with imbalanced data set when the value of finding the minority class is much higher than that of finding the majority."
   ]
  },
  {
   "cell_type": "markdown",
   "metadata": {},
   "source": [
    "## 3.11 Feature engineering:"
   ]
  },
  {
   "cell_type": "markdown",
   "metadata": {},
   "source": [
    "### You may also come up with attributes derived from existing attributes. If this is the case, give an explanation of the new attributes that you have created.\n"
   ]
  },
  {
   "cell_type": "markdown",
   "metadata": {},
   "source": [
    "I have already made dummy variables to make sure some of the columns which are categorical are turned into numerical values that the model can process! "
   ]
  },
  {
   "cell_type": "code",
   "execution_count": 954,
   "metadata": {
    "scrolled": true
   },
   "outputs": [],
   "source": [
    "# Featuretools is an open source library for performing automated feature engineering. Let us try doing this now: \n",
    "# import featuretools as ft\n",
    "# es = ft.EntitySet(id = 'example')\n",
    "# es = es.entity_from_dataframe(entity_id = 'example', dataframe = train_valid_df, index = 'ID')"
   ]
  },
  {
   "cell_type": "code",
   "execution_count": 955,
   "metadata": {},
   "outputs": [],
   "source": [
    "# View PCA below."
   ]
  },
  {
   "cell_type": "markdown",
   "metadata": {},
   "source": [
    "## 3.12 Feature/Attribute selection: "
   ]
  },
  {
   "cell_type": "markdown",
   "metadata": {},
   "source": [
    "### If applicable, clearly indicate which attributes you decide to remove in addition to those (obviously) irrelevant attributes that you have identified above and give a brief explanation why."
   ]
  },
  {
   "cell_type": "code",
   "execution_count": 956,
   "metadata": {},
   "outputs": [],
   "source": [
    "# View PCA below."
   ]
  },
  {
   "cell_type": "markdown",
   "metadata": {},
   "source": [
    "## 3.13 Data instances:"
   ]
  },
  {
   "cell_type": "markdown",
   "metadata": {},
   "source": [
    "### If you decide to make changes to the data instances with class labels (this may include selecting only a subset of the data, removing instances, randomizing/reordering instances, or synthetically injecting new data instances to the training data, etc. ), provide an explanation."
   ]
  },
  {
   "cell_type": "markdown",
   "metadata": {},
   "source": [
    "Principal component analysis was performed to make sure there was no multicollinearity between variables. Dummy variables were also created prior to this to ensure that categorical variables could be read into the table."
   ]
  },
  {
   "cell_type": "markdown",
   "metadata": {},
   "source": [
    "## 3.14 PCA"
   ]
  },
  {
   "cell_type": "code",
   "execution_count": 957,
   "metadata": {},
   "outputs": [],
   "source": [
    "from sklearn.ensemble import RandomForestClassifier\n",
    "from sklearn.decomposition import PCA"
   ]
  },
  {
   "cell_type": "code",
   "execution_count": 958,
   "metadata": {},
   "outputs": [],
   "source": [
    "pca = PCA(n_components=50, random_state=42)"
   ]
  },
  {
   "cell_type": "code",
   "execution_count": 959,
   "metadata": {
    "scrolled": true
   },
   "outputs": [
    {
     "data": {
      "text/plain": [
       "(1100, 65)"
      ]
     },
     "execution_count": 959,
     "metadata": {},
     "output_type": "execute_result"
    }
   ],
   "source": [
    "df.shape"
   ]
  },
  {
   "cell_type": "markdown",
   "metadata": {},
   "source": [
    "There are currently 66 attributes (mainly from the dummy variables we created before)."
   ]
  },
  {
   "cell_type": "code",
   "execution_count": 960,
   "metadata": {
    "scrolled": true
   },
   "outputs": [],
   "source": [
    "#df.head()"
   ]
  },
  {
   "cell_type": "code",
   "execution_count": 961,
   "metadata": {
    "scrolled": true
   },
   "outputs": [],
   "source": [
    "# Functions which don't contain bagging\n",
    "\n",
    "# def knn_func(nn, listname):\n",
    "#     model = KNeighborsClassifier(n_neighbors=nn)\n",
    "#     model.fit(X_train, y_train)\n",
    "#     predict_valid = model.predict(X_valid)\n",
    "#     accuracy_valid = accuracy_score(y_valid, predict_valid)\n",
    "#     print(\"Accuracy for KNN: \", accuracy_valid)\n",
    "#     listname.append(accuracy_valid)\n",
    "\n",
    "# def naivebayes_func(nb_list):\n",
    "#     model = GaussianNB()\n",
    "#     model.fit(X_train,y_train)\n",
    "#     predict_valid = model.predict(X_valid)\n",
    "#     accuracy_valid = accuracy_score(y_valid, predict_valid)\n",
    "#     print(\"Accuracy for Naive Bayes: \", accuracy_valid)\n",
    "#     nb_list.append(accuracy_valid)\n",
    "    \n",
    "# def dtree_func(dtree_list):\n",
    "#     model = DecisionTreeClassifier()\n",
    "#     model = model.fit(X_train,y_train)\n",
    "#     predict_valid = model.predict(X_valid)\n",
    "#     accuracy_valid = accuracy_score(y_valid, predict_valid)\n",
    "#     print(\"Accuracy for Decision Tree: \", accuracy_valid)\n",
    "#     dtree_list.append(accuracy_valid)\n",
    "\n",
    "# def random_forest_func(rf_list):\n",
    "#     model = RandomForestClassifier(max_depth=2)\n",
    "#     model = model.fit(X_train, y_train)\n",
    "#     predict_valid = model.predict(X_valid)\n",
    "#     accuracy_valid = accuracy_score(y_valid, predict_valid)\n",
    "#     print(\"Accuracy for random forest: \", accuracy_valid)\n",
    "#     rf_list.append(accuracy_valid)\n",
    "    \n",
    "# def logreg_func(logreg_list):\n",
    "#     model = LogisticRegression(solver='liblinear', multi_class='ovr')\n",
    "#     model = model.fit(X_train,y_train)\n",
    "#     predict_valid = model.predict(X_valid)\n",
    "#     accuracy_valid = accuracy_score(y_valid, predict_valid)\n",
    "#     print(\"Accuracy for Logistic Regression: \", accuracy_valid)\n",
    "#     logreg_list.append(accuracy_valid)\n",
    "    \n",
    "# def lda_func(lda_list):\n",
    "#     model = LinearDiscriminantAnalysis()\n",
    "#     model = model.fit(X_train,y_train)\n",
    "#     predict_valid = model.predict(X_valid)\n",
    "#     accuracy_valid = accuracy_score(y_valid, predict_valid)\n",
    "#     print(\"Accuracy for LDA: \", accuracy_valid, \"\\n\")\n",
    "#     lda_list.append(accuracy_valid)"
   ]
  },
  {
   "cell_type": "code",
   "execution_count": 962,
   "metadata": {},
   "outputs": [],
   "source": [
    "from imblearn.ensemble import BalancedBaggingClassifier\n",
    "\n",
    "def knn_func(nn, listname):\n",
    "    model = BalancedBaggingClassifier(base_estimator=KNeighborsClassifier(n_neighbors=nn),\n",
    "            sampling_strategy='auto',\n",
    "            replacement=False,\n",
    "            random_state=0)\n",
    "    model.fit(X_train, y_train)\n",
    "    predict_valid = model.predict(X_valid)\n",
    "    accuracy_valid = accuracy_score(y_valid, predict_valid)\n",
    "    print(\"Accuracy for KNN: \", accuracy_valid)\n",
    "    listname.append(accuracy_valid)\n",
    "\n",
    "def naivebayes_func(nb_list):\n",
    "    model = BalancedBaggingClassifier(base_estimator=GaussianNB(),\n",
    "            sampling_strategy='auto',\n",
    "            replacement=False,\n",
    "            random_state=0)\n",
    "    model.fit(X_train,y_train)\n",
    "    predict_valid = model.predict(X_valid)\n",
    "    accuracy_valid = accuracy_score(y_valid, predict_valid)\n",
    "    print(\"Accuracy for Naive Bayes: \", accuracy_valid)\n",
    "    nb_list.append(accuracy_valid)\n",
    "    \n",
    "def dtree_func(dtree_list):\n",
    "    model = BalancedBaggingClassifier(base_estimator=DecisionTreeClassifier(max_depth=3),\n",
    "            sampling_strategy='auto',\n",
    "            replacement=False,\n",
    "            random_state=0)\n",
    "    model = model.fit(X_train,y_train)\n",
    "    predict_valid = model.predict(X_valid)\n",
    "    accuracy_valid = accuracy_score(y_valid, predict_valid)\n",
    "    print(\"Accuracy for Decision Tree: \", accuracy_valid)\n",
    "    dtree_list.append(accuracy_valid)\n",
    "\n",
    "def random_forest_func(rf_list):\n",
    "    model = BalancedBaggingClassifier(base_estimator=RandomForestClassifier(max_depth=2, random_state=0),\n",
    "            sampling_strategy='auto',\n",
    "            replacement=False,\n",
    "            random_state=0)\n",
    "    model = model.fit(X_train, y_train)\n",
    "    predict_valid = model.predict(X_valid)\n",
    "    accuracy_valid = accuracy_score(y_valid, predict_valid)\n",
    "    print(\"Accuracy for Random Forest: \", accuracy_valid)\n",
    "    rf_list.append(accuracy_valid)\n",
    "    \n",
    "def logreg_func(logreg_list):\n",
    "    model = BalancedBaggingClassifier(base_estimator=LogisticRegression(solver='liblinear', multi_class='ovr'),\n",
    "            sampling_strategy='auto',\n",
    "            replacement=False,\n",
    "            random_state=0)\n",
    "    model = model.fit(X_train,y_train)\n",
    "    predict_valid = model.predict(X_valid)\n",
    "    accuracy_valid = accuracy_score(y_valid, predict_valid)\n",
    "    print(\"Accuracy for Logistic Regression: \", accuracy_valid)\n",
    "    logreg_list.append(accuracy_valid)\n",
    "    \n",
    "def lda_func(lda_list):\n",
    "    model = BalancedBaggingClassifier(base_estimator=LinearDiscriminantAnalysis(),\n",
    "            sampling_strategy='auto',\n",
    "            replacement=False,\n",
    "            random_state=0)\n",
    "    model = model.fit(X_train,y_train)\n",
    "    predict_valid = model.predict(X_valid)\n",
    "    accuracy_valid = accuracy_score(y_valid, predict_valid)\n",
    "    print(\"Accuracy for LDA: \", accuracy_valid, \"\\n\")\n",
    "    lda_list.append(accuracy_valid)"
   ]
  },
  {
   "cell_type": "code",
   "execution_count": 963,
   "metadata": {
    "scrolled": true
   },
   "outputs": [
    {
     "data": {
      "image/png": "[encoded data removed]",
      "text/plain": [
       "<Figure size 432x288 with 1 Axes>"
      ]
     },
     "metadata": {
      "needs_background": "light"
     },
     "output_type": "display_data"
    }
   ],
   "source": [
    "# Fitting the PCA algorithm with our Data\n",
    "pca = PCA().fit(X)\n",
    "# Plotting the Cumulative Summation of the Explained Variance\n",
    "plt.figure()\n",
    "plt.plot(np.cumsum(pca.explained_variance_ratio_))\n",
    "plt.xlabel('Number of Components')\n",
    "plt.ylabel('Variance (%)') #for each component\n",
    "plt.title('Explained Variance')\n",
    "plt.show()"
   ]
  },
  {
   "cell_type": "code",
   "execution_count": 964,
   "metadata": {},
   "outputs": [],
   "source": [
    "pca = PCA(n_components=50, random_state=42)"
   ]
  },
  {
   "cell_type": "code",
   "execution_count": 965,
   "metadata": {
    "scrolled": true
   },
   "outputs": [
    {
     "name": "stdout",
     "output_type": "stream",
     "text": [
      "Accuracy for Random Forest:  0.773972602739726\n",
      "Accuracy for KNN:  0.7636986301369864\n",
      "Accuracy for Naive Bayes:  0.708904109589041\n",
      "Accuracy for Decision Tree:  0.7123287671232876\n",
      "Accuracy for Logistic Regression:  0.8013698630136986\n",
      "Accuracy for LDA:  0.8082191780821918 \n",
      "\n"
     ]
    }
   ],
   "source": [
    "'''Principal component analysis first applied without cross-validation to gage the impact it has. We will now\n",
    "use the same formula and regenerate pca for each cross validation later on.'''\n",
    "\n",
    "rf = []\n",
    "knn = []\n",
    "nb = []\n",
    "dtree = []\n",
    "logreg = []\n",
    "lda = []\n",
    "\n",
    "X_train, X_valid, y_train, y_valid = train_test_split(X, y, test_size=0.20, random_state=42)\n",
    "\n",
    "#pca = PCA(n_components=50, random_state = 42)\n",
    "principalComponents = pca.fit_transform(X_train)\n",
    "principalDf = pd.DataFrame(data = principalComponents)\n",
    "X_train = principalDf.values\n",
    "\n",
    "principalComponents = pca.transform(X_valid)\n",
    "principalDf = pd.DataFrame(data = principalComponents)\n",
    "X_valid = principalDf.values\n",
    "\n",
    "# model accuracy\n",
    "#rf \n",
    "random_forest_func(rf)\n",
    "# kNN\n",
    "knn_func(7, knn)\n",
    "# Naive Bayes\n",
    "naivebayes_func(nb)\n",
    "# Decision Tree\n",
    "dtree_func(dtree)\n",
    "# Logistic Regression\n",
    "logreg_func(logreg)\n",
    "# Linear Discriminant Analysis\n",
    "lda_func(lda) "
   ]
  },
  {
   "cell_type": "markdown",
   "metadata": {},
   "source": [
    "## 3.15 RFE: Feature Extraction\n"
   ]
  },
  {
   "cell_type": "code",
   "execution_count": 966,
   "metadata": {
    "scrolled": true
   },
   "outputs": [],
   "source": [
    "# # Import your necessary dependencies\n",
    "# from sklearn.feature_selection import RFE\n",
    "# from sklearn.linear_model import LogisticRegression"
   ]
  },
  {
   "cell_type": "code",
   "execution_count": 967,
   "metadata": {
    "scrolled": true
   },
   "outputs": [],
   "source": [
    "# # Feature extraction\n",
    "# model = LogisticRegression()\n",
    "# rfe = RFE(model, 10)\n",
    "# fit = rfe.fit(X, y)\n",
    "# print(\"Num Features: %s\" % (fit.n_features_))\n",
    "# print(\"Selected Features: %s\" % (fit.support_))\n",
    "# print(\"Feature Ranking: %s\" % (fit.ranking_))"
   ]
  },
  {
   "cell_type": "markdown",
   "metadata": {},
   "source": [
    "## 3.2 KNN Finding K: Trial & Error\n",
    "Let us try to determine the best n-neigbours to use for KNN via trial and error. We will start with 1 and then move up by 2."
   ]
  },
  {
   "cell_type": "markdown",
   "metadata": {
    "scrolled": true
   },
   "source": [
    "K in KNN is the number of instances that we take into account for determination of affinity with classes."
   ]
  },
  {
   "cell_type": "code",
   "execution_count": 968,
   "metadata": {
    "scrolled": true
   },
   "outputs": [],
   "source": [
    "def knn_func(nn, listname):\n",
    "    model = KNeighborsClassifier(n_neighbors=nn)\n",
    "    model.fit(X_train, y_train)\n",
    "    predict_valid = model.predict(X_valid)\n",
    "    accuracy_valid = accuracy_score(y_valid, predict_valid)\n",
    "    listname.append(accuracy_valid)"
   ]
  },
  {
   "cell_type": "code",
   "execution_count": 969,
   "metadata": {
    "scrolled": true
   },
   "outputs": [],
   "source": [
    "knn_1 = []\n",
    "knn_3 = []\n",
    "knn_5 = []\n",
    "knn_7 = []\n",
    "knn_9 = []\n",
    "knn_11 = []\n",
    "knn_13 = []\n",
    "knn_15 = []\n",
    "knn_17 = []"
   ]
  },
  {
   "cell_type": "code",
   "execution_count": 970,
   "metadata": {
    "scrolled": true
   },
   "outputs": [],
   "source": [
    "cv = StratifiedKFold(n_splits=10)\n",
    "for train_index, valid_index in cv.split(X, y):\n",
    "    X_train, X_valid, y_train, y_valid = X[train_index], X[valid_index], y[train_index], y[valid_index]\n",
    "\n",
    "    #pca = PCA(n_components=50, random_state=42)\n",
    "    principalComponents = pca.fit_transform(X_train)\n",
    "    principalDf = pd.DataFrame(data = principalComponents)\n",
    "    X_train = principalDf.values\n",
    "\n",
    "    principalComponents = pca.transform(X_valid)\n",
    "    principalDf = pd.DataFrame(data = principalComponents)\n",
    "    X_valid = principalDf.values\n",
    "    \n",
    "    knn_func(1, knn_1)\n",
    "    knn_func(3, knn_3)\n",
    "    knn_func(5, knn_5)\n",
    "    knn_func(7, knn_7)\n",
    "    knn_func(9, knn_9)\n",
    "    knn_func(11, knn_11)\n",
    "    knn_func(13, knn_13)\n",
    "    knn_func(15, knn_15)\n",
    "    knn_func(17, knn_17)"
   ]
  },
  {
   "cell_type": "code",
   "execution_count": 971,
   "metadata": {
    "scrolled": true
   },
   "outputs": [
    {
     "data": {
      "text/plain": [
       "[[0.0040420341527491075,\n",
       "  0.00285044098329893,\n",
       "  0.001989116156877462,\n",
       "  0.001242728466879339,\n",
       "  0.0010208294239069248,\n",
       "  0.0010395946706699187,\n",
       "  0.001255395008444361,\n",
       "  0.0011634452993056854,\n",
       "  0.0009119909926815535]]"
      ]
     },
     "execution_count": 971,
     "metadata": {},
     "output_type": "execute_result"
    }
   ],
   "source": [
    "[[(np.var(knn_1)), (np.var(knn_3)), (np.var(knn_5)), (np.var(knn_7)), (np.var(knn_9)), (np.var(knn_11)), (np.var(knn_13)), (np.var(knn_15)), (np.var(knn_17))]]"
   ]
  },
  {
   "cell_type": "code",
   "execution_count": 972,
   "metadata": {
    "scrolled": true
   },
   "outputs": [
    {
     "data": {
      "text/plain": [
       "[[0.854794520547945,\n",
       "  0.8068493150684933,\n",
       "  0.7739726027397259,\n",
       "  0.7595890410958904,\n",
       "  0.7547945205479453,\n",
       "  0.7410958904109589,\n",
       "  0.7383561643835617,\n",
       "  0.7328767123287672,\n",
       "  0.7219178082191782]]"
      ]
     },
     "execution_count": 972,
     "metadata": {},
     "output_type": "execute_result"
    }
   ],
   "source": [
    "[[sum(knn_1)/10, sum(knn_3)/10, sum(knn_5)/10, sum(knn_7)/10, sum(knn_9)/10, \n",
    "  sum(knn_11)/10, sum(knn_13)/10, sum(knn_15)/10, sum(knn_17)/10]]"
   ]
  },
  {
   "cell_type": "code",
   "execution_count": 973,
   "metadata": {},
   "outputs": [],
   "source": [
    "# random_state = 42 Isn't that obvious? \n",
    "# 42 is the Answer to the Ultimate Question of Life, the Universe, and Everything.\n",
    "X_train, X_valid, y_train, y_valid = train_test_split(X, y, test_size=0.20, random_state=42)\n",
    "\n",
    "principalComponents = pca.fit_transform(X_train)\n",
    "principalDf = pd.DataFrame(data = principalComponents)\n",
    "X_train = principalDf.values\n",
    "\n",
    "principalComponents = pca.transform(X_valid)\n",
    "principalDf = pd.DataFrame(data = principalComponents)\n",
    "X_valid = principalDf.values\n",
    "\n",
    "# Credit: https://towardsdatascience.com/knn-using-scikit-learn-c6bed765be75\n",
    "k_range = range(1,100)\n",
    "scores = {}\n",
    "scores_list = []\n",
    "for k in k_range:\n",
    "    knn = KNeighborsClassifier(n_neighbors = k)\n",
    "    knn.fit(X_train, y_train)\n",
    "    y_pred = knn.predict(X_valid)\n",
    "    scores[k] = metrics.accuracy_score(y_valid, y_pred)\n",
    "    scores_list.append(metrics.accuracy_score(y_valid, y_pred))"
   ]
  },
  {
   "cell_type": "code",
   "execution_count": 974,
   "metadata": {},
   "outputs": [
    {
     "data": {
      "text/plain": [
       "Text(0, 0.5, 'Testing accuracy')"
      ]
     },
     "execution_count": 974,
     "metadata": {},
     "output_type": "execute_result"
    },
    {
     "data": {
      "image/png": "[encoded data removed]",
      "text/plain": [
       "<Figure size 432x288 with 1 Axes>"
      ]
     },
     "metadata": {
      "needs_background": "light"
     },
     "output_type": "display_data"
    }
   ],
   "source": [
    "%matplotlib inline\n",
    "import matplotlib.pyplot as plt\n",
    "\n",
    "# plot the relationships between K and the testing accuracy\n",
    "plt.plot(k_range, scores_list)\n",
    "plt.xlabel('Value of K for KNN')\n",
    "plt.ylabel('Testing accuracy')"
   ]
  },
  {
   "cell_type": "code",
   "execution_count": 975,
   "metadata": {
    "scrolled": true
   },
   "outputs": [],
   "source": [
    "# Another way to show this\n",
    "# credit: https://stackabuse.com/k-nearest-neighbors-algorithm-in-python-and-scikit-learn/\n",
    "X_train, X_valid, y_train, y_valid = train_test_split(X, y, test_size=0.20, random_state=42)\n",
    "\n",
    "principalComponents = pca.fit_transform(X_train)\n",
    "principalDf = pd.DataFrame(data = principalComponents)\n",
    "X_train = principalDf.values\n",
    "\n",
    "principalComponents = pca.transform(X_valid)\n",
    "principalDf = pd.DataFrame(data = principalComponents)\n",
    "X_valid = principalDf.values\n",
    "\n",
    "error = []\n",
    "\n",
    "# Calculating error for K values between 1 and 40\n",
    "for i in range(1, 50):\n",
    "    knn = KNeighborsClassifier(n_neighbors=i)\n",
    "    knn.fit(X_train, y_train)\n",
    "    pred_i = knn.predict(X_valid)\n",
    "    error.append(np.mean(pred_i != y_valid))"
   ]
  },
  {
   "cell_type": "code",
   "execution_count": 976,
   "metadata": {
    "scrolled": true
   },
   "outputs": [
    {
     "data": {
      "text/plain": [
       "Text(0, 0.5, 'Mean Error')"
      ]
     },
     "execution_count": 976,
     "metadata": {},
     "output_type": "execute_result"
    },
    {
     "data": {
      "image/png": "[encoded data removed]",
      "text/plain": [
       "<Figure size 864x432 with 1 Axes>"
      ]
     },
     "metadata": {
      "needs_background": "light"
     },
     "output_type": "display_data"
    }
   ],
   "source": [
    "plt.figure(figsize=(12, 6))\n",
    "plt.plot(range(1, 50), error, color='red', linestyle='dashed', marker='o', markerfacecolor='blue', markersize=10)\n",
    "plt.title('Error Rate K Value')\n",
    "plt.xlabel('K Value')\n",
    "plt.ylabel('Mean Error')"
   ]
  },
  {
   "cell_type": "markdown",
   "metadata": {},
   "source": [
    "Reference: https://stats.stackexchange.com/questions/151756/knn-1-nearest-neighbor"
   ]
  },
  {
   "cell_type": "markdown",
   "metadata": {},
   "source": [
    "Notice that the Mean error is higher near 0 which makes sense because this should not be the optimal nearest neighbour."
   ]
  },
  {
   "cell_type": "markdown",
   "metadata": {
    "scrolled": true
   },
   "source": [
    "## With Bagging:"
   ]
  },
  {
   "cell_type": "code",
   "execution_count": 977,
   "metadata": {
    "scrolled": true
   },
   "outputs": [],
   "source": [
    "from imblearn.ensemble import BalancedBaggingClassifier\n",
    "\n",
    "X_train, X_valid, y_train, y_valid = train_test_split(X, y, test_size=0.20, random_state=42)\n",
    "\n",
    "principalComponents = pca.fit_transform(X_train)\n",
    "principalDf = pd.DataFrame(data = principalComponents)\n",
    "X_train = principalDf.values\n",
    "\n",
    "principalComponents = pca.transform(X_valid)\n",
    "principalDf = pd.DataFrame(data = principalComponents)\n",
    "X_valid = principalDf.values\n",
    "\n",
    "error = []\n",
    "\n",
    "# Calculating error for K values between 1 and 40\n",
    "\n",
    "# I set replacement = True but prev it was set to False. Either way, I cannot see big diff?\n",
    "for i in range(1, 80):\n",
    "    model = BalancedBaggingClassifier(base_estimator=KNeighborsClassifier(n_neighbors=i),\n",
    "                                    sampling_strategy='auto',\n",
    "                                    replacement=True,\n",
    "                                    random_state=42)\n",
    "    model.fit(X_train, y_train)\n",
    "    pred_i = model.predict(X_valid)\n",
    "    error.append(np.mean(pred_i != y_valid))"
   ]
  },
  {
   "cell_type": "code",
   "execution_count": 978,
   "metadata": {
    "scrolled": true
   },
   "outputs": [
    {
     "data": {
      "text/plain": [
       "Text(0, 0.5, 'Mean Error')"
      ]
     },
     "execution_count": 978,
     "metadata": {},
     "output_type": "execute_result"
    },
    {
     "data": {
      "image/png": "[encoded data removed]",
      "text/plain": [
       "<Figure size 864x432 with 1 Axes>"
      ]
     },
     "metadata": {
      "needs_background": "light"
     },
     "output_type": "display_data"
    }
   ],
   "source": [
    "plt.figure(figsize=(12, 6))\n",
    "plt.plot(range(1, 80), error, color='red', linestyle='dashed', marker='o',\n",
    "         markerfacecolor='blue', markersize=10)\n",
    "plt.title('Error Rate K Value')\n",
    "plt.xlabel('K Value')\n",
    "plt.ylabel('Mean Error')"
   ]
  },
  {
   "cell_type": "markdown",
   "metadata": {},
   "source": [
    "## 3.3 Cross validation:"
   ]
  },
  {
   "cell_type": "markdown",
   "metadata": {},
   "source": [
    "### How to evaluate the effectiveness of a classifier on the given data?\n"
   ]
  },
  {
   "cell_type": "markdown",
   "metadata": {},
   "source": [
    "Effectiveness of the classifier will be assessed by using the accuracy after cross-validation. Also looking for minimal variance between the accuracies and making sure the F-score is desirable."
   ]
  },
  {
   "cell_type": "markdown",
   "metadata": {},
   "source": [
    "### How to address the issue of class imbalance in the training data?\n"
   ]
  },
  {
   "cell_type": "markdown",
   "metadata": {},
   "source": [
    "Already achieved previously. However because fixing the imbalance lead to more error, it was decided that data balancing would not be applied. This was both by oversampling and using the SMOTE data balancing package."
   ]
  },
  {
   "cell_type": "markdown",
   "metadata": {},
   "source": [
    "### What is your choice of validation/cross-validation?\n"
   ]
  },
  {
   "cell_type": "markdown",
   "metadata": {},
   "source": [
    "10-fold cross validation"
   ]
  },
  {
   "cell_type": "markdown",
   "metadata": {},
   "source": [
    "### For each classifier that you’ve selected, what is the validation/cross-validation performance? Give an interpretation of the confusion matrix.\n"
   ]
  },
  {
   "cell_type": "markdown",
   "metadata": {},
   "source": [
    "### For each classifier that you’ve selected, what is the estimated classification accuracy on the actual test data?"
   ]
  },
  {
   "cell_type": "code",
   "execution_count": 979,
   "metadata": {},
   "outputs": [],
   "source": [
    "# def knn_func(nn, listname):\n",
    "#     model = KNeighborsClassifier(n_neighbors=nn)\n",
    "#     model.fit(X_train, y_train)\n",
    "#     predict_valid = model.predict(X_valid)\n",
    "#     accuracy_valid = accuracy_score(y_valid, predict_valid)\n",
    "#     print(\"Accuracy for KNN: \", accuracy_valid)\n",
    "#     listname.append(accuracy_valid)\n",
    "\n",
    "# def naivebayes_func(nb_list):\n",
    "#     model = GaussianNB()\n",
    "#     model.fit(X_train,y_train)\n",
    "#     predict_valid = model.predict(X_valid)\n",
    "#     accuracy_valid = accuracy_score(y_valid, predict_valid)\n",
    "#     print(\"Accuracy for Naive Bayes: \", accuracy_valid)\n",
    "#     nb_list.append(accuracy_valid)\n",
    "    \n",
    "# def dtree_func(dtree_list):\n",
    "#     model = DecisionTreeClassifier()\n",
    "#     model = model.fit(X_train,y_train)\n",
    "#     predict_valid = model.predict(X_valid)\n",
    "#     accuracy_valid = accuracy_score(y_valid, predict_valid)\n",
    "#     print(\"Accuracy for Decision Tree: \", accuracy_valid)\n",
    "#     dtree_list.append(accuracy_valid)\n",
    "\n",
    "# def random_forest_func(rf_list):\n",
    "#     model = RandomForestClassifier(max_depth=2, random_state=0)\n",
    "#     model = model.fit(X_train, y_train)\n",
    "#     predict_valid = model.predict(X_valid)\n",
    "#     accuracy_valid = accuracy_score(y_valid, predict_valid)\n",
    "#     print(\"Accuracy for Decision Tree: \", accuracy_valid)\n",
    "#     rf_list.append(accuracy_valid)\n",
    "    \n",
    "# def logreg_func(logreg_list):\n",
    "#     model = LogisticRegression(solver='liblinear', multi_class='ovr')\n",
    "#     model = model.fit(X_train,y_train)\n",
    "#     predict_valid = model.predict(X_valid)\n",
    "#     accuracy_valid = accuracy_score(y_valid, predict_valid)\n",
    "#     print(\"Accuracy for Logistic Regression: \", accuracy_valid)\n",
    "#     logreg_list.append(accuracy_valid)\n",
    "    \n",
    "# def lda_func(lda_list):\n",
    "#     model = LinearDiscriminantAnalysis()\n",
    "#     model = model.fit(X_train,y_train)\n",
    "#     predict_valid = model.predict(X_valid)\n",
    "#     accuracy_valid = accuracy_score(y_valid, predict_valid)\n",
    "#     print(\"Accuracy for LDA: \", accuracy_valid, \"\\n\")\n",
    "#     lda_list.append(accuracy_valid)\n"
   ]
  },
  {
   "cell_type": "code",
   "execution_count": 980,
   "metadata": {
    "scrolled": true
   },
   "outputs": [],
   "source": [
    "## Functions for all Classification Models with bagging\n",
    "\n",
    "def knn_func(nn, listname):\n",
    "    model = BalancedBaggingClassifier(base_estimator=KNeighborsClassifier(n_neighbors=nn),\n",
    "            sampling_strategy='auto',\n",
    "            replacement=False,\n",
    "            random_state=0)\n",
    "    model.fit(X_train, y_train)\n",
    "    predict_valid = model.predict(X_valid)\n",
    "    accuracy_valid = accuracy_score(y_valid, predict_valid)\n",
    "    print(\"Accuracy for KNN: \", accuracy_valid)\n",
    "    listname.append(accuracy_valid)\n",
    "\n",
    "def naivebayes_func(nb_list):\n",
    "    model = BalancedBaggingClassifier(base_estimator=GaussianNB(),\n",
    "            sampling_strategy='auto',\n",
    "            replacement=False,\n",
    "            random_state=0)\n",
    "    model.fit(X_train,y_train)\n",
    "    predict_valid = model.predict(X_valid)\n",
    "    accuracy_valid = accuracy_score(y_valid, predict_valid)\n",
    "    print(\"Accuracy for Naive Bayes: \", accuracy_valid)\n",
    "    nb_list.append(accuracy_valid)\n",
    "    \n",
    "def dtree_func(dtree_list):\n",
    "    model = BalancedBaggingClassifier(base_estimator=DecisionTreeClassifier(max_depth=3),\n",
    "            sampling_strategy='auto',\n",
    "            replacement=False,\n",
    "            random_state=0)\n",
    "    model = model.fit(X_train,y_train)\n",
    "    predict_valid = model.predict(X_valid)\n",
    "    accuracy_valid = accuracy_score(y_valid, predict_valid)\n",
    "    print(\"Accuracy for Decision Tree: \", accuracy_valid)\n",
    "    dtree_list.append(accuracy_valid)\n",
    "\n",
    "def random_forest_func(rf_list):\n",
    "    model = BalancedBaggingClassifier(base_estimator=RandomForestClassifier(max_depth=2, random_state=0),\n",
    "            sampling_strategy='auto',\n",
    "            replacement=False,\n",
    "            random_state=0)\n",
    "    model = model.fit(X_train, y_train)\n",
    "    predict_valid = model.predict(X_valid)\n",
    "    accuracy_valid = accuracy_score(y_valid, predict_valid)\n",
    "    print(\"Accuracy for Decision Tree: \", accuracy_valid)\n",
    "    rf_list.append(accuracy_valid)\n",
    "    \n",
    "def logreg_func(logreg_list):\n",
    "    model = BalancedBaggingClassifier(base_estimator=LogisticRegression(solver='liblinear', multi_class='ovr'),\n",
    "            sampling_strategy='auto',\n",
    "            replacement=False,\n",
    "            random_state=0)\n",
    "    model = model.fit(X_train,y_train)\n",
    "    predict_valid = model.predict(X_valid)\n",
    "    accuracy_valid = accuracy_score(y_valid, predict_valid)\n",
    "    print(\"Accuracy for Logistic Regression: \", accuracy_valid)\n",
    "    logreg_list.append(accuracy_valid)\n",
    "    \n",
    "def lda_func(lda_list):\n",
    "    model = BalancedBaggingClassifier(base_estimator=LinearDiscriminantAnalysis(),\n",
    "            sampling_strategy='auto',\n",
    "            replacement=False,\n",
    "            random_state=0)\n",
    "    model = model.fit(X_train,y_train)\n",
    "    predict_valid = model.predict(X_valid)\n",
    "    accuracy_valid = accuracy_score(y_valid, predict_valid)\n",
    "    print(\"Accuracy for LDA: \", accuracy_valid, \"\\n\")\n",
    "    lda_list.append(accuracy_valid)\n"
   ]
  },
  {
   "cell_type": "markdown",
   "metadata": {},
   "source": [
    "cross_validation.Bootstrap is deprecated. cross_validation.KFold or cross_validation.ShuffleSplit are recommended instead."
   ]
  },
  {
   "cell_type": "code",
   "execution_count": 981,
   "metadata": {
    "scrolled": true
   },
   "outputs": [
    {
     "name": "stdout",
     "output_type": "stream",
     "text": [
      "Accuracy for KNN:  0.7671232876712328\n",
      "Accuracy for Naive Bayes:  0.636986301369863\n",
      "Accuracy for Decision Tree:  0.6986301369863014\n",
      "Accuracy for Logistic Regression:  0.7534246575342466\n",
      "Accuracy for LDA:  0.7534246575342466 \n",
      "\n",
      "Accuracy for Decision Tree:  0.726027397260274\n",
      "Accuracy for KNN:  0.7534246575342466\n",
      "Accuracy for Naive Bayes:  0.7123287671232876\n",
      "Accuracy for Decision Tree:  0.7328767123287672\n",
      "Accuracy for Logistic Regression:  0.7397260273972602\n",
      "Accuracy for LDA:  0.7328767123287672 \n",
      "\n",
      "Accuracy for Decision Tree:  0.7328767123287672\n",
      "Accuracy for KNN:  0.7123287671232876\n",
      "Accuracy for Naive Bayes:  0.6027397260273972\n",
      "Accuracy for Decision Tree:  0.6917808219178082\n",
      "Accuracy for Logistic Regression:  0.726027397260274\n",
      "Accuracy for LDA:  0.7328767123287672 \n",
      "\n",
      "Accuracy for Decision Tree:  0.678082191780822\n",
      "Accuracy for KNN:  0.7328767123287672\n",
      "Accuracy for Naive Bayes:  0.6712328767123288\n",
      "Accuracy for Decision Tree:  0.7191780821917808\n",
      "Accuracy for Logistic Regression:  0.6986301369863014\n",
      "Accuracy for LDA:  0.7191780821917808 \n",
      "\n",
      "Accuracy for Decision Tree:  0.7534246575342466\n",
      "Accuracy for KNN:  0.7876712328767124\n",
      "Accuracy for Naive Bayes:  0.7671232876712328\n",
      "Accuracy for Decision Tree:  0.7397260273972602\n",
      "Accuracy for Logistic Regression:  0.821917808219178\n",
      "Accuracy for LDA:  0.8082191780821918 \n",
      "\n",
      "Accuracy for Decision Tree:  0.7671232876712328\n",
      "Accuracy for KNN:  0.7534246575342466\n",
      "Accuracy for Naive Bayes:  0.8424657534246576\n",
      "Accuracy for Decision Tree:  0.7534246575342466\n",
      "Accuracy for Logistic Regression:  0.773972602739726\n",
      "Accuracy for LDA:  0.773972602739726 \n",
      "\n",
      "Accuracy for Decision Tree:  0.821917808219178\n",
      "Accuracy for KNN:  0.7876712328767124\n",
      "Accuracy for Naive Bayes:  0.8287671232876712\n",
      "Accuracy for Decision Tree:  0.7465753424657534\n",
      "Accuracy for Logistic Regression:  0.815068493150685\n",
      "Accuracy for LDA:  0.7876712328767124 \n",
      "\n",
      "Accuracy for Decision Tree:  0.7945205479452054\n",
      "Accuracy for KNN:  0.7465753424657534\n",
      "Accuracy for Naive Bayes:  0.815068493150685\n",
      "Accuracy for Decision Tree:  0.7397260273972602\n",
      "Accuracy for Logistic Regression:  0.7602739726027398\n",
      "Accuracy for LDA:  0.7602739726027398 \n",
      "\n",
      "Accuracy for Decision Tree:  0.815068493150685\n",
      "Accuracy for KNN:  0.7808219178082192\n",
      "Accuracy for Naive Bayes:  0.7671232876712328\n",
      "Accuracy for Decision Tree:  0.7397260273972602\n",
      "Accuracy for Logistic Regression:  0.7328767123287672\n",
      "Accuracy for LDA:  0.7397260273972602 \n",
      "\n",
      "Accuracy for Decision Tree:  0.7808219178082192\n",
      "Accuracy for KNN:  0.8287671232876712\n",
      "Accuracy for Naive Bayes:  0.8013698630136986\n",
      "Accuracy for Decision Tree:  0.7671232876712328\n",
      "Accuracy for Logistic Regression:  0.7876712328767124\n",
      "Accuracy for LDA:  0.773972602739726 \n",
      "\n",
      "Accuracy for Decision Tree:  0.7945205479452054\n"
     ]
    }
   ],
   "source": [
    "knn = []\n",
    "nb = []\n",
    "dtree = []\n",
    "logreg = []\n",
    "lda = []\n",
    "svm = []\n",
    "rf = []\n",
    "\n",
    "'''First I trialed the normal K fold cross validation, but then realised the stratified k-fold cross validation\n",
    "worked much better with a more consistent accuracy across trials.'''\n",
    "\n",
    "# cv = KFold(n_splits=10, random_state=20, shuffle=False)\n",
    "# for train_index, valid_index in cv.split(X):\n",
    "cv = StratifiedKFold(n_splits=10)\n",
    "for train_index, valid_index in cv.split(X, y):\n",
    "    # print(\"Train Index: \", train_index, \"\\n\")\n",
    "    # print(\"Test Index: \", valid_index)\n",
    "    X_train, X_valid, y_train, y_valid = X[train_index], X[valid_index], y[train_index], y[valid_index]\n",
    "    \n",
    "    principalComponents = pca.fit_transform(X_train)\n",
    "    principalDf = pd.DataFrame(data = principalComponents)\n",
    "    X_train = principalDf.values\n",
    "\n",
    "    principalComponents = pca.transform(X_valid)\n",
    "    principalDf = pd.DataFrame(data = principalComponents)\n",
    "    X_valid = principalDf.values\n",
    "\n",
    "    # kNN\n",
    "    knn_func(7, knn)   \n",
    "    # Naive Bayes\n",
    "    naivebayes_func(nb)\n",
    "    # Decision Tree\n",
    "    dtree_func(dtree)\n",
    "    # Logistic Regression\n",
    "    logreg_func(logreg)\n",
    "    # Linear Discriminant Analysis\n",
    "    lda_func(lda) \n",
    "    # Random Forest\n",
    "    random_forest_func(rf)"
   ]
  },
  {
   "cell_type": "code",
   "execution_count": 982,
   "metadata": {
    "scrolled": true
   },
   "outputs": [
    {
     "data": {
      "text/plain": [
       "[0.7671232876712328,\n",
       " 0.7534246575342466,\n",
       " 0.7123287671232876,\n",
       " 0.7328767123287672,\n",
       " 0.7876712328767124,\n",
       " 0.7534246575342466,\n",
       " 0.7876712328767124,\n",
       " 0.7465753424657534,\n",
       " 0.7808219178082192,\n",
       " 0.8287671232876712]"
      ]
     },
     "execution_count": 982,
     "metadata": {},
     "output_type": "execute_result"
    }
   ],
   "source": [
    "knn"
   ]
  },
  {
   "cell_type": "code",
   "execution_count": 983,
   "metadata": {
    "scrolled": true
   },
   "outputs": [
    {
     "data": {
      "text/plain": [
       "[0.636986301369863,\n",
       " 0.7123287671232876,\n",
       " 0.6027397260273972,\n",
       " 0.6712328767123288,\n",
       " 0.7671232876712328,\n",
       " 0.8424657534246576,\n",
       " 0.8287671232876712,\n",
       " 0.815068493150685,\n",
       " 0.7671232876712328,\n",
       " 0.8013698630136986]"
      ]
     },
     "execution_count": 983,
     "metadata": {},
     "output_type": "execute_result"
    }
   ],
   "source": [
    "nb"
   ]
  },
  {
   "cell_type": "code",
   "execution_count": 984,
   "metadata": {
    "scrolled": true
   },
   "outputs": [
    {
     "data": {
      "text/plain": [
       "[0.6986301369863014,\n",
       " 0.7328767123287672,\n",
       " 0.6917808219178082,\n",
       " 0.7191780821917808,\n",
       " 0.7397260273972602,\n",
       " 0.7534246575342466,\n",
       " 0.7465753424657534,\n",
       " 0.7397260273972602,\n",
       " 0.7397260273972602,\n",
       " 0.7671232876712328]"
      ]
     },
     "execution_count": 984,
     "metadata": {},
     "output_type": "execute_result"
    }
   ],
   "source": [
    "dtree"
   ]
  },
  {
   "cell_type": "code",
   "execution_count": 985,
   "metadata": {
    "scrolled": true
   },
   "outputs": [
    {
     "data": {
      "text/plain": [
       "[0.7534246575342466,\n",
       " 0.7397260273972602,\n",
       " 0.726027397260274,\n",
       " 0.6986301369863014,\n",
       " 0.821917808219178,\n",
       " 0.773972602739726,\n",
       " 0.815068493150685,\n",
       " 0.7602739726027398,\n",
       " 0.7328767123287672,\n",
       " 0.7876712328767124]"
      ]
     },
     "execution_count": 985,
     "metadata": {},
     "output_type": "execute_result"
    }
   ],
   "source": [
    "logreg"
   ]
  },
  {
   "cell_type": "code",
   "execution_count": 986,
   "metadata": {
    "scrolled": true
   },
   "outputs": [
    {
     "data": {
      "text/plain": [
       "[0.7534246575342466,\n",
       " 0.7328767123287672,\n",
       " 0.7328767123287672,\n",
       " 0.7191780821917808,\n",
       " 0.8082191780821918,\n",
       " 0.773972602739726,\n",
       " 0.7876712328767124,\n",
       " 0.7602739726027398,\n",
       " 0.7397260273972602,\n",
       " 0.773972602739726]"
      ]
     },
     "execution_count": 986,
     "metadata": {},
     "output_type": "execute_result"
    }
   ],
   "source": [
    "lda"
   ]
  },
  {
   "cell_type": "code",
   "execution_count": 987,
   "metadata": {},
   "outputs": [
    {
     "data": {
      "text/plain": [
       "[0.726027397260274,\n",
       " 0.7328767123287672,\n",
       " 0.678082191780822,\n",
       " 0.7534246575342466,\n",
       " 0.7671232876712328,\n",
       " 0.821917808219178,\n",
       " 0.7945205479452054,\n",
       " 0.815068493150685,\n",
       " 0.7808219178082192,\n",
       " 0.7945205479452054]"
      ]
     },
     "execution_count": 987,
     "metadata": {},
     "output_type": "execute_result"
    }
   ],
   "source": [
    "rf"
   ]
  },
  {
   "cell_type": "code",
   "execution_count": 988,
   "metadata": {
    "scrolled": true
   },
   "outputs": [
    {
     "data": {
      "text/plain": [
       "0.7650684931506848"
      ]
     },
     "execution_count": 988,
     "metadata": {},
     "output_type": "execute_result"
    }
   ],
   "source": [
    "# Averages for each model\n",
    "sum(knn)/10"
   ]
  },
  {
   "cell_type": "code",
   "execution_count": 989,
   "metadata": {
    "scrolled": true
   },
   "outputs": [
    {
     "data": {
      "text/plain": [
       "0.7445205479452055"
      ]
     },
     "execution_count": 989,
     "metadata": {},
     "output_type": "execute_result"
    }
   ],
   "source": [
    "sum(nb)/10"
   ]
  },
  {
   "cell_type": "code",
   "execution_count": 990,
   "metadata": {
    "scrolled": true
   },
   "outputs": [
    {
     "data": {
      "text/plain": [
       "0.7328767123287673"
      ]
     },
     "execution_count": 990,
     "metadata": {},
     "output_type": "execute_result"
    }
   ],
   "source": [
    "sum(dtree)/10"
   ]
  },
  {
   "cell_type": "markdown",
   "metadata": {},
   "source": [
    "Originally when oversampling to balance the dataset, the decision tree had an extremely unprecedented high accuracy of around 90%. However once we removed balancing, because it might be leading to overfitting, the dtree stayed around 74% which is very close to the accuracy that is required and also consistent with the others. Thus we decided to try bagging to let imblearn do the balancing for us but this did not work. The next solution is to do a combination of oversampling and undersampling? OR see if boosting/other bagging techniques/ can fix this issue. Also note we still have not implemented feature engineering and feature extraction which might solve the problem!"
   ]
  },
  {
   "cell_type": "code",
   "execution_count": 991,
   "metadata": {
    "scrolled": true
   },
   "outputs": [
    {
     "data": {
      "text/plain": [
       "0.760958904109589"
      ]
     },
     "execution_count": 991,
     "metadata": {},
     "output_type": "execute_result"
    }
   ],
   "source": [
    "sum(logreg)/10"
   ]
  },
  {
   "cell_type": "code",
   "execution_count": 992,
   "metadata": {
    "scrolled": true
   },
   "outputs": [
    {
     "data": {
      "text/plain": [
       "0.7582191780821919"
      ]
     },
     "execution_count": 992,
     "metadata": {},
     "output_type": "execute_result"
    }
   ],
   "source": [
    "sum(lda)/10"
   ]
  },
  {
   "cell_type": "code",
   "execution_count": 993,
   "metadata": {},
   "outputs": [
    {
     "data": {
      "text/plain": [
       "0.7664383561643835"
      ]
     },
     "execution_count": 993,
     "metadata": {},
     "output_type": "execute_result"
    }
   ],
   "source": [
    "sum(rf)/10"
   ]
  },
  {
   "cell_type": "markdown",
   "metadata": {},
   "source": [
    "One way to improve this accuracy may be to make sure that the validation set is also balanced seeing as the training will definitely be balanced here!"
   ]
  },
  {
   "cell_type": "markdown",
   "metadata": {},
   "source": [
    "## 3.31 Variance of Accuracy"
   ]
  },
  {
   "cell_type": "code",
   "execution_count": 994,
   "metadata": {
    "scrolled": true
   },
   "outputs": [
    {
     "data": {
      "text/plain": [
       "0.0009762619628448117"
      ]
     },
     "execution_count": 994,
     "metadata": {},
     "output_type": "execute_result"
    }
   ],
   "source": [
    "np.var(knn)"
   ]
  },
  {
   "cell_type": "code",
   "execution_count": 995,
   "metadata": {
    "scrolled": true
   },
   "outputs": [
    {
     "data": {
      "text/plain": [
       "0.006399418277350348"
      ]
     },
     "execution_count": 995,
     "metadata": {},
     "output_type": "execute_result"
    }
   ],
   "source": [
    "np.var(nb)"
   ]
  },
  {
   "cell_type": "code",
   "execution_count": 996,
   "metadata": {
    "scrolled": true
   },
   "outputs": [
    {
     "data": {
      "text/plain": [
       "0.0004972790392193653"
      ]
     },
     "execution_count": 996,
     "metadata": {},
     "output_type": "execute_result"
    }
   ],
   "source": [
    "np.var(dtree)"
   ]
  },
  {
   "cell_type": "code",
   "execution_count": 997,
   "metadata": {
    "scrolled": true
   },
   "outputs": [
    {
     "data": {
      "text/plain": [
       "0.0013928504409832984"
      ]
     },
     "execution_count": 997,
     "metadata": {},
     "output_type": "execute_result"
    }
   ],
   "source": [
    "np.var(logreg)"
   ]
  },
  {
   "cell_type": "code",
   "execution_count": 998,
   "metadata": {
    "scrolled": true
   },
   "outputs": [
    {
     "data": {
      "text/plain": [
       "0.000704165884781385"
      ]
     },
     "execution_count": 998,
     "metadata": {},
     "output_type": "execute_result"
    }
   ],
   "source": [
    "np.var(lda)"
   ]
  },
  {
   "cell_type": "code",
   "execution_count": 999,
   "metadata": {},
   "outputs": [
    {
     "data": {
      "text/plain": [
       "0.0017963032463876884"
      ]
     },
     "execution_count": 999,
     "metadata": {},
     "output_type": "execute_result"
    }
   ],
   "source": [
    "np.var(rf)"
   ]
  },
  {
   "cell_type": "markdown",
   "metadata": {},
   "source": [
    "## 3.32 F-Score:"
   ]
  },
  {
   "cell_type": "code",
   "execution_count": 1000,
   "metadata": {
    "scrolled": true
   },
   "outputs": [
    {
     "data": {
      "text/plain": [
       "'In order to make the prediction even more accurate, we will use the whole 1000 instances to predict this time\\nin other words, we will not have a validation set because we have already verified that the model works beforehand.'"
      ]
     },
     "execution_count": 1000,
     "metadata": {},
     "output_type": "execute_result"
    }
   ],
   "source": [
    "## Functions to predict valid class and test class for all Classification Models\n",
    "'''In order to make the prediction even more accurate, we will use the whole 1000 instances to predict this time\n",
    "in other words, we will not have a validation set because we have already verified that the model works beforehand.'''\n",
    "\n",
    "# def knn_valid(nn):\n",
    "#     model = KNeighborsClassifier(n_neighbors=nn)\n",
    "#     model = model.fit(X_train, y_train)\n",
    "#     predict_valid = model.predict(X_valid)\n",
    "#     return predict_valid\n",
    "    \n",
    "# def naivebayes_valid():\n",
    "#     model = GaussianNB()\n",
    "#     model = model.fit(X_train, y_train)\n",
    "#     predict_valid = model.predict(X_valid)\n",
    "#     return predict_valid\n",
    "    \n",
    "# def dtree_valid():\n",
    "#     model = DecisionTreeClassifier()\n",
    "#     model = model.fit(X_train, y_train)\n",
    "#     predict_valid = model.predict(X_valid)\n",
    "#     return predict_valid\n",
    "\n",
    "# def logreg_valid():\n",
    "#     model = LogisticRegression(solver='liblinear', multi_class='ovr')\n",
    "#     model = model.fit(X_train, y_train)\n",
    "#     predict_valid = model.predict(X_valid)\n",
    "#     return predict_valid\n",
    "    \n",
    "# def lda_valid():\n",
    "#     model = LinearDiscriminantAnalysis()\n",
    "#     model = model.fit(X_train,y_train)\n",
    "#     predict_valid = model.predict(X_valid)\n",
    "#     return predict_valid\n",
    "\n",
    "# def lda_valid():\n",
    "#     model = LinearDiscriminantAnalysis()\n",
    "#     model = model.fit(X_train,y_train)\n",
    "#     predict_valid = model.predict(X_valid)\n",
    "#     return predict_valid\n",
    "\n",
    "# def random_forest_valid():\n",
    "#     model = RandomForestClassifier(max_depth=2, random_state=0)\n",
    "#     model = model.fit(X_train, y_train)\n",
    "#     predict_valid = model.predict(X_valid)\n",
    "#     return predict_valid"
   ]
  },
  {
   "cell_type": "code",
   "execution_count": 1001,
   "metadata": {},
   "outputs": [],
   "source": [
    "def knn_valid(nn):\n",
    "    model = BalancedBaggingClassifier(base_estimator=KNeighborsClassifier(n_neighbors=nn),\n",
    "            sampling_strategy='auto',\n",
    "            replacement=False,\n",
    "            random_state=0)\n",
    "    model = model.fit(X_train, y_train)\n",
    "    predict_valid = model.predict(X_valid)\n",
    "    return predict_valid\n",
    "    \n",
    "def naivebayes_valid():\n",
    "    model = BalancedBaggingClassifier(base_estimator=GaussianNB(),\n",
    "            sampling_strategy='auto',\n",
    "            replacement=False,\n",
    "            random_state=0)\n",
    "    model = model.fit(X_train, y_train)\n",
    "    predict_valid = model.predict(X_valid)\n",
    "    return predict_valid\n",
    "    \n",
    "def dtree_valid():\n",
    "    model = BalancedBaggingClassifier(base_estimator=DecisionTreeClassifier(max_depth=3),\n",
    "            sampling_strategy='auto',\n",
    "            replacement=False,\n",
    "            random_state=0)\n",
    "    model = model.fit(X_train, y_train)\n",
    "    predict_valid = model.predict(X_valid)\n",
    "    return predict_valid\n",
    "\n",
    "def random_forest_valid():\n",
    "    model = BalancedBaggingClassifier(base_estimator=RandomForestClassifier(max_depth=2, random_state=0),\n",
    "            sampling_strategy='auto',\n",
    "            replacement=False,\n",
    "            random_state=0)\n",
    "    model = model.fit(X_train, y_train)\n",
    "    predict_valid = model.predict(X_valid)\n",
    "    return predict_valid\n",
    "    \n",
    "def logreg_valid():\n",
    "    model = BalancedBaggingClassifier(base_estimator=LogisticRegression(solver='liblinear', multi_class='ovr'),\n",
    "            sampling_strategy='auto',\n",
    "            replacement=False,\n",
    "            random_state=0)\n",
    "    model = model.fit(X_train, y_train)\n",
    "    predict_valid = model.predict(X_valid)\n",
    "    return predict_valid\n",
    "    \n",
    "def lda_valid():\n",
    "    model = BalancedBaggingClassifier(base_estimator=LinearDiscriminantAnalysis(),\n",
    "            sampling_strategy='auto',\n",
    "            replacement=False,\n",
    "            random_state=0)\n",
    "    model = model.fit(X_train,y_train)\n",
    "    predict_valid = model.predict(X_valid)\n",
    "    return predict_valid"
   ]
  },
  {
   "cell_type": "code",
   "execution_count": 1002,
   "metadata": {
    "scrolled": true
   },
   "outputs": [],
   "source": [
    "# kNN\n",
    "knn_pred_valid = knn_valid(7)\n",
    "\n",
    "# Naive Bayes\n",
    "nb_pred_valid = naivebayes_valid()\n",
    "\n",
    "# Decision Tree\n",
    "dtree_pred_valid = dtree_valid()\n",
    "\n",
    "# Logistic Regression\n",
    "logreg_pred_valid = logreg_valid()\n",
    "\n",
    "# Linear Discriminant Analysis\n",
    "lda_pred_valid = lda_valid()\n",
    "\n",
    "#Random Forest\n",
    "rf_pred_valid = random_forest_valid()"
   ]
  },
  {
   "cell_type": "code",
   "execution_count": 1003,
   "metadata": {
    "scrolled": true
   },
   "outputs": [
    {
     "data": {
      "text/plain": [
       "array([1., 1., 0., 1., 0., 1., 1., 0., 0., 1., 1., 1., 1., 1., 1., 1., 0.,\n",
       "       1., 1., 0., 1., 1., 1., 1., 0., 0., 1., 1., 0., 1., 1., 1., 1., 0.,\n",
       "       1., 0., 1., 0., 1., 0., 0., 0., 0., 1., 1., 0., 1., 0., 0., 1., 1.,\n",
       "       0., 1., 1., 1., 1., 1., 1., 1., 1., 1., 0., 1., 0., 1., 1., 1., 0.,\n",
       "       1., 0., 1., 1., 0., 0., 0., 0., 0., 0., 0., 0., 0., 0., 0., 0., 0.,\n",
       "       0., 0., 0., 0., 0., 0., 0., 0., 0., 0., 0., 0., 0., 0., 0., 0., 0.,\n",
       "       0., 0., 0., 0., 0., 0., 0., 0., 0., 0., 0., 0., 0., 0., 0., 0., 0.,\n",
       "       0., 0., 0., 0., 0., 0., 0., 0., 0., 0., 0., 0., 0., 0., 0., 0., 0.,\n",
       "       0., 0., 0., 0., 0., 0., 0., 0., 0., 0.])"
      ]
     },
     "execution_count": 1003,
     "metadata": {},
     "output_type": "execute_result"
    }
   ],
   "source": [
    "knn_pred_valid"
   ]
  },
  {
   "cell_type": "code",
   "execution_count": 1004,
   "metadata": {
    "scrolled": true
   },
   "outputs": [
    {
     "data": {
      "text/plain": [
       "array([1., 0., 0., 1., 0., 1., 1., 1., 1., 0., 1., 1., 1., 0., 1., 1., 0.,\n",
       "       0., 1., 0., 0., 0., 1., 0., 0., 0., 1., 1., 0., 1., 1., 1., 0., 1.,\n",
       "       1., 1., 1., 0., 1., 0., 0., 0., 1., 0., 1., 0., 1., 1., 1., 1., 1.,\n",
       "       0., 0., 1., 1., 1., 1., 1., 1., 1., 1., 1., 1., 1., 1., 1., 0., 1.,\n",
       "       0., 1., 1., 1., 1., 0., 0., 0., 1., 0., 0., 0., 0., 0., 0., 0., 0.,\n",
       "       0., 0., 0., 0., 0., 0., 0., 0., 0., 0., 0., 0., 0., 0., 0., 0., 0.,\n",
       "       0., 0., 0., 0., 0., 0., 0., 0., 0., 1., 0., 0., 0., 0., 1., 0., 0.,\n",
       "       0., 0., 0., 0., 0., 0., 0., 0., 0., 0., 0., 0., 0., 0., 0., 0., 0.,\n",
       "       0., 0., 0., 0., 0., 0., 0., 1., 0., 0.])"
      ]
     },
     "execution_count": 1004,
     "metadata": {},
     "output_type": "execute_result"
    }
   ],
   "source": [
    "nb_pred_valid"
   ]
  },
  {
   "cell_type": "code",
   "execution_count": 1005,
   "metadata": {
    "scrolled": true
   },
   "outputs": [
    {
     "data": {
      "text/plain": [
       "array([1., 1., 1., 1., 0., 0., 0., 1., 1., 1., 1., 1., 1., 1., 1., 1., 0.,\n",
       "       1., 1., 0., 1., 1., 1., 1., 0., 1., 0., 1., 1., 1., 1., 1., 0., 1.,\n",
       "       1., 1., 1., 0., 1., 1., 0., 0., 0., 0., 1., 1., 1., 0., 0., 1., 1.,\n",
       "       0., 0., 1., 1., 1., 1., 1., 1., 1., 1., 1., 1., 1., 1., 1., 1., 0.,\n",
       "       1., 0., 1., 0., 0., 0., 0., 0., 0., 0., 0., 0., 0., 0., 0., 0., 0.,\n",
       "       0., 1., 0., 0., 0., 1., 1., 0., 1., 0., 1., 0., 0., 0., 0., 0., 1.,\n",
       "       0., 0., 0., 0., 1., 0., 0., 0., 0., 0., 1., 0., 0., 0., 0., 1., 0.,\n",
       "       0., 1., 0., 0., 0., 0., 0., 0., 0., 0., 0., 0., 0., 0., 0., 0., 0.,\n",
       "       1., 0., 0., 1., 0., 0., 1., 0., 0., 0.])"
      ]
     },
     "execution_count": 1005,
     "metadata": {},
     "output_type": "execute_result"
    }
   ],
   "source": [
    "dtree_pred_valid"
   ]
  },
  {
   "cell_type": "code",
   "execution_count": 1006,
   "metadata": {
    "scrolled": true
   },
   "outputs": [
    {
     "data": {
      "text/plain": [
       "array([1., 1., 0., 1., 0., 0., 1., 1., 1., 1., 1., 1., 1., 1., 1., 1., 0.,\n",
       "       0., 1., 0., 1., 0., 1., 1., 0., 1., 1., 1., 1., 1., 1., 1., 1., 0.,\n",
       "       1., 1., 1., 0., 1., 1., 0., 0., 1., 1., 1., 1., 1., 0., 0., 1., 1.,\n",
       "       1., 1., 1., 1., 1., 1., 1., 1., 0., 1., 1., 1., 1., 1., 1., 0., 1.,\n",
       "       1., 1., 1., 1., 0., 0., 0., 0., 0., 0., 0., 0., 0., 0., 0., 0., 0.,\n",
       "       0., 0., 0., 0., 0., 0., 0., 0., 1., 1., 1., 1., 0., 0., 1., 0., 1.,\n",
       "       0., 0., 0., 0., 1., 0., 0., 0., 0., 1., 1., 0., 0., 0., 0., 0., 0.,\n",
       "       0., 1., 1., 0., 0., 1., 0., 0., 0., 0., 1., 0., 0., 0., 0., 0., 0.,\n",
       "       0., 0., 0., 1., 0., 0., 0., 0., 0., 0.])"
      ]
     },
     "execution_count": 1006,
     "metadata": {},
     "output_type": "execute_result"
    }
   ],
   "source": [
    "logreg_pred_valid"
   ]
  },
  {
   "cell_type": "code",
   "execution_count": 1007,
   "metadata": {
    "scrolled": true
   },
   "outputs": [
    {
     "data": {
      "text/plain": [
       "array([1., 1., 0., 1., 0., 0., 1., 1., 1., 1., 1., 1., 1., 1., 1., 1., 0.,\n",
       "       0., 1., 0., 1., 0., 1., 1., 0., 0., 1., 1., 1., 1., 1., 1., 1., 0.,\n",
       "       1., 1., 1., 0., 1., 1., 0., 0., 1., 1., 1., 1., 1., 0., 0., 1., 1.,\n",
       "       0., 1., 1., 0., 1., 1., 1., 1., 0., 0., 1., 1., 1., 1., 1., 0., 1.,\n",
       "       1., 1., 1., 1., 0., 0., 0., 0., 0., 0., 0., 0., 0., 0., 0., 0., 0.,\n",
       "       0., 0., 0., 0., 0., 0., 1., 0., 1., 1., 1., 1., 0., 0., 1., 0., 1.,\n",
       "       0., 0., 0., 0., 1., 0., 0., 0., 0., 1., 1., 0., 0., 0., 0., 0., 0.,\n",
       "       0., 1., 1., 0., 0., 0., 0., 0., 0., 0., 0., 0., 0., 0., 0., 0., 0.,\n",
       "       0., 0., 0., 0., 0., 0., 0., 0., 0., 0.])"
      ]
     },
     "execution_count": 1007,
     "metadata": {},
     "output_type": "execute_result"
    }
   ],
   "source": [
    "lda_pred_valid "
   ]
  },
  {
   "cell_type": "code",
   "execution_count": 1008,
   "metadata": {},
   "outputs": [
    {
     "data": {
      "text/plain": [
       "array([1., 1., 1., 1., 1., 0., 1., 1., 1., 0., 1., 1., 1., 1., 1., 1., 0.,\n",
       "       1., 1., 1., 1., 0., 1., 1., 0., 1., 1., 1., 1., 1., 1., 1., 0., 1.,\n",
       "       1., 1., 1., 1., 1., 1., 0., 0., 0., 1., 1., 1., 0., 1., 0., 1., 1.,\n",
       "       0., 0., 1., 1., 1., 1., 1., 1., 1., 1., 0., 1., 0., 1., 1., 1., 1.,\n",
       "       1., 0., 1., 0., 0., 0., 0., 0., 0., 0., 0., 0., 0., 0., 0., 0., 0.,\n",
       "       0., 0., 0., 0., 0., 1., 1., 0., 1., 0., 1., 0., 0., 0., 0., 0., 1.,\n",
       "       0., 0., 0., 0., 1., 0., 0., 0., 0., 0., 1., 0., 0., 0., 0., 1., 0.,\n",
       "       0., 0., 1., 0., 1., 0., 0., 0., 0., 0., 1., 0., 0., 0., 0., 0., 0.,\n",
       "       0., 0., 0., 1., 0., 0., 0., 0., 0., 0.])"
      ]
     },
     "execution_count": 1008,
     "metadata": {},
     "output_type": "execute_result"
    }
   ],
   "source": [
    "rf_pred_valid"
   ]
  },
  {
   "cell_type": "code",
   "execution_count": 1009,
   "metadata": {
    "scrolled": true
   },
   "outputs": [
    {
     "data": {
      "text/plain": [
       "array([1., 1., 1., 1., 1., 1., 1., 1., 1., 1., 1., 1., 1., 1., 1., 1., 1.,\n",
       "       1., 1., 1., 1., 1., 1., 1., 1., 1., 1., 1., 1., 1., 1., 1., 1., 1.,\n",
       "       1., 1., 1., 1., 1., 1., 1., 1., 1., 1., 1., 1., 1., 1., 1., 1., 1.,\n",
       "       1., 1., 1., 1., 1., 1., 1., 1., 1., 1., 1., 1., 1., 1., 1., 1., 1.,\n",
       "       1., 1., 1., 1., 1., 0., 0., 0., 0., 0., 0., 0., 0., 0., 0., 0., 0.,\n",
       "       0., 0., 0., 0., 0., 0., 0., 0., 0., 0., 0., 0., 0., 0., 0., 0., 0.,\n",
       "       0., 0., 0., 0., 0., 0., 0., 0., 0., 0., 0., 0., 0., 0., 0., 0., 0.,\n",
       "       0., 0., 0., 0., 0., 0., 0., 0., 0., 0., 0., 0., 0., 0., 0., 0., 0.,\n",
       "       0., 0., 0., 0., 0., 0., 0., 0., 0., 0.])"
      ]
     },
     "execution_count": 1009,
     "metadata": {},
     "output_type": "execute_result"
    }
   ],
   "source": [
    "y_valid"
   ]
  },
  {
   "cell_type": "code",
   "execution_count": 1010,
   "metadata": {},
   "outputs": [],
   "source": [
    "from sklearn.metrics import classification_report, confusion_matrix\n"
   ]
  },
  {
   "cell_type": "code",
   "execution_count": 1011,
   "metadata": {},
   "outputs": [
    {
     "data": {
      "text/html": [
       "<div>\n",
       "<style scoped>\n",
       "    .dataframe tbody tr th:only-of-type {\n",
       "        vertical-align: middle;\n",
       "    }\n",
       "\n",
       "    .dataframe tbody tr th {\n",
       "        vertical-align: top;\n",
       "    }\n",
       "\n",
       "    .dataframe thead th {\n",
       "        text-align: right;\n",
       "    }\n",
       "</style>\n",
       "<table border=\"1\" class=\"dataframe\">\n",
       "  <thead>\n",
       "    <tr style=\"text-align: right;\">\n",
       "      <th></th>\n",
       "      <th>pred: 0</th>\n",
       "      <th>pred: 1</th>\n",
       "    </tr>\n",
       "  </thead>\n",
       "  <tbody>\n",
       "    <tr>\n",
       "      <td>true: 0</td>\n",
       "      <td>73</td>\n",
       "      <td>0</td>\n",
       "    </tr>\n",
       "    <tr>\n",
       "      <td>true: 1</td>\n",
       "      <td>25</td>\n",
       "      <td>48</td>\n",
       "    </tr>\n",
       "  </tbody>\n",
       "</table>\n",
       "</div>"
      ],
      "text/plain": [
       "         pred: 0  pred: 1\n",
       "true: 0       73        0\n",
       "true: 1       25       48"
      ]
     },
     "execution_count": 1011,
     "metadata": {},
     "output_type": "execute_result"
    }
   ],
   "source": [
    "cmtx = pd.DataFrame(\n",
    "    confusion_matrix(y_valid, knn_pred_valid), \n",
    "    index=['true: 0', 'true: 1'], \n",
    "    columns=['pred: 0', 'pred: 1']\n",
    ")\n",
    "cmtx"
   ]
  },
  {
   "cell_type": "code",
   "execution_count": 1012,
   "metadata": {},
   "outputs": [
    {
     "data": {
      "text/html": [
       "<div>\n",
       "<style scoped>\n",
       "    .dataframe tbody tr th:only-of-type {\n",
       "        vertical-align: middle;\n",
       "    }\n",
       "\n",
       "    .dataframe tbody tr th {\n",
       "        vertical-align: top;\n",
       "    }\n",
       "\n",
       "    .dataframe thead th {\n",
       "        text-align: right;\n",
       "    }\n",
       "</style>\n",
       "<table border=\"1\" class=\"dataframe\">\n",
       "  <thead>\n",
       "    <tr style=\"text-align: right;\">\n",
       "      <th></th>\n",
       "      <th>pred: 0</th>\n",
       "      <th>pred: 1</th>\n",
       "    </tr>\n",
       "  </thead>\n",
       "  <tbody>\n",
       "    <tr>\n",
       "      <td>true: 0</td>\n",
       "      <td>69</td>\n",
       "      <td>4</td>\n",
       "    </tr>\n",
       "    <tr>\n",
       "      <td>true: 1</td>\n",
       "      <td>25</td>\n",
       "      <td>48</td>\n",
       "    </tr>\n",
       "  </tbody>\n",
       "</table>\n",
       "</div>"
      ],
      "text/plain": [
       "         pred: 0  pred: 1\n",
       "true: 0       69        4\n",
       "true: 1       25       48"
      ]
     },
     "execution_count": 1012,
     "metadata": {},
     "output_type": "execute_result"
    }
   ],
   "source": [
    "cmtx = pd.DataFrame(\n",
    "    confusion_matrix(y_valid, nb_pred_valid), \n",
    "    index=['true: 0', 'true: 1'], \n",
    "    columns=['pred: 0', 'pred: 1']\n",
    ")\n",
    "cmtx"
   ]
  },
  {
   "cell_type": "code",
   "execution_count": 1013,
   "metadata": {},
   "outputs": [
    {
     "data": {
      "text/html": [
       "<div>\n",
       "<style scoped>\n",
       "    .dataframe tbody tr th:only-of-type {\n",
       "        vertical-align: middle;\n",
       "    }\n",
       "\n",
       "    .dataframe tbody tr th {\n",
       "        vertical-align: top;\n",
       "    }\n",
       "\n",
       "    .dataframe thead th {\n",
       "        text-align: right;\n",
       "    }\n",
       "</style>\n",
       "<table border=\"1\" class=\"dataframe\">\n",
       "  <thead>\n",
       "    <tr style=\"text-align: right;\">\n",
       "      <th></th>\n",
       "      <th>pred: 0</th>\n",
       "      <th>pred: 1</th>\n",
       "    </tr>\n",
       "  </thead>\n",
       "  <tbody>\n",
       "    <tr>\n",
       "      <td>true: 0</td>\n",
       "      <td>60</td>\n",
       "      <td>13</td>\n",
       "    </tr>\n",
       "    <tr>\n",
       "      <td>true: 1</td>\n",
       "      <td>21</td>\n",
       "      <td>52</td>\n",
       "    </tr>\n",
       "  </tbody>\n",
       "</table>\n",
       "</div>"
      ],
      "text/plain": [
       "         pred: 0  pred: 1\n",
       "true: 0       60       13\n",
       "true: 1       21       52"
      ]
     },
     "execution_count": 1013,
     "metadata": {},
     "output_type": "execute_result"
    }
   ],
   "source": [
    "cmtx = pd.DataFrame(\n",
    "    confusion_matrix(y_valid, dtree_pred_valid), \n",
    "    index=['true: 0', 'true: 1'], \n",
    "    columns=['pred: 0', 'pred: 1']\n",
    ")\n",
    "cmtx"
   ]
  },
  {
   "cell_type": "code",
   "execution_count": 1014,
   "metadata": {},
   "outputs": [
    {
     "data": {
      "text/html": [
       "<div>\n",
       "<style scoped>\n",
       "    .dataframe tbody tr th:only-of-type {\n",
       "        vertical-align: middle;\n",
       "    }\n",
       "\n",
       "    .dataframe tbody tr th {\n",
       "        vertical-align: top;\n",
       "    }\n",
       "\n",
       "    .dataframe thead th {\n",
       "        text-align: right;\n",
       "    }\n",
       "</style>\n",
       "<table border=\"1\" class=\"dataframe\">\n",
       "  <thead>\n",
       "    <tr style=\"text-align: right;\">\n",
       "      <th></th>\n",
       "      <th>pred: 0</th>\n",
       "      <th>pred: 1</th>\n",
       "    </tr>\n",
       "  </thead>\n",
       "  <tbody>\n",
       "    <tr>\n",
       "      <td>true: 0</td>\n",
       "      <td>59</td>\n",
       "      <td>14</td>\n",
       "    </tr>\n",
       "    <tr>\n",
       "      <td>true: 1</td>\n",
       "      <td>17</td>\n",
       "      <td>56</td>\n",
       "    </tr>\n",
       "  </tbody>\n",
       "</table>\n",
       "</div>"
      ],
      "text/plain": [
       "         pred: 0  pred: 1\n",
       "true: 0       59       14\n",
       "true: 1       17       56"
      ]
     },
     "execution_count": 1014,
     "metadata": {},
     "output_type": "execute_result"
    }
   ],
   "source": [
    "cmtx = pd.DataFrame(\n",
    "    confusion_matrix(y_valid, logreg_pred_valid), \n",
    "    index=['true: 0', 'true: 1'], \n",
    "    columns=['pred: 0', 'pred: 1']\n",
    ")\n",
    "cmtx"
   ]
  },
  {
   "cell_type": "code",
   "execution_count": 1015,
   "metadata": {},
   "outputs": [
    {
     "data": {
      "text/html": [
       "<div>\n",
       "<style scoped>\n",
       "    .dataframe tbody tr th:only-of-type {\n",
       "        vertical-align: middle;\n",
       "    }\n",
       "\n",
       "    .dataframe tbody tr th {\n",
       "        vertical-align: top;\n",
       "    }\n",
       "\n",
       "    .dataframe thead th {\n",
       "        text-align: right;\n",
       "    }\n",
       "</style>\n",
       "<table border=\"1\" class=\"dataframe\">\n",
       "  <thead>\n",
       "    <tr style=\"text-align: right;\">\n",
       "      <th></th>\n",
       "      <th>pred: 0</th>\n",
       "      <th>pred: 1</th>\n",
       "    </tr>\n",
       "  </thead>\n",
       "  <tbody>\n",
       "    <tr>\n",
       "      <td>true: 0</td>\n",
       "      <td>61</td>\n",
       "      <td>12</td>\n",
       "    </tr>\n",
       "    <tr>\n",
       "      <td>true: 1</td>\n",
       "      <td>21</td>\n",
       "      <td>52</td>\n",
       "    </tr>\n",
       "  </tbody>\n",
       "</table>\n",
       "</div>"
      ],
      "text/plain": [
       "         pred: 0  pred: 1\n",
       "true: 0       61       12\n",
       "true: 1       21       52"
      ]
     },
     "execution_count": 1015,
     "metadata": {},
     "output_type": "execute_result"
    }
   ],
   "source": [
    "cmtx = pd.DataFrame(\n",
    "    confusion_matrix(y_valid, lda_pred_valid), \n",
    "    index=['true: 0', 'true: 1'], \n",
    "    columns=['pred: 0', 'pred: 1']\n",
    ")\n",
    "cmtx"
   ]
  },
  {
   "cell_type": "code",
   "execution_count": 1016,
   "metadata": {},
   "outputs": [
    {
     "data": {
      "text/html": [
       "<div>\n",
       "<style scoped>\n",
       "    .dataframe tbody tr th:only-of-type {\n",
       "        vertical-align: middle;\n",
       "    }\n",
       "\n",
       "    .dataframe tbody tr th {\n",
       "        vertical-align: top;\n",
       "    }\n",
       "\n",
       "    .dataframe thead th {\n",
       "        text-align: right;\n",
       "    }\n",
       "</style>\n",
       "<table border=\"1\" class=\"dataframe\">\n",
       "  <thead>\n",
       "    <tr style=\"text-align: right;\">\n",
       "      <th></th>\n",
       "      <th>pred: 0</th>\n",
       "      <th>pred: 1</th>\n",
       "    </tr>\n",
       "  </thead>\n",
       "  <tbody>\n",
       "    <tr>\n",
       "      <td>true: 0</td>\n",
       "      <td>61</td>\n",
       "      <td>12</td>\n",
       "    </tr>\n",
       "    <tr>\n",
       "      <td>true: 1</td>\n",
       "      <td>18</td>\n",
       "      <td>55</td>\n",
       "    </tr>\n",
       "  </tbody>\n",
       "</table>\n",
       "</div>"
      ],
      "text/plain": [
       "         pred: 0  pred: 1\n",
       "true: 0       61       12\n",
       "true: 1       18       55"
      ]
     },
     "execution_count": 1016,
     "metadata": {},
     "output_type": "execute_result"
    }
   ],
   "source": [
    "cmtx = pd.DataFrame(\n",
    "    confusion_matrix(y_valid, rf_pred_valid), \n",
    "    index=['true: 0', 'true: 1'], \n",
    "    columns=['pred: 0', 'pred: 1']\n",
    ")\n",
    "cmtx"
   ]
  },
  {
   "cell_type": "code",
   "execution_count": 1017,
   "metadata": {},
   "outputs": [
    {
     "name": "stdout",
     "output_type": "stream",
     "text": [
      "              precision    recall  f1-score   support\n",
      "\n",
      "         0.0       0.74      1.00      0.85        73\n",
      "         1.0       1.00      0.66      0.79        73\n",
      "\n",
      "    accuracy                           0.83       146\n",
      "   macro avg       0.87      0.83      0.82       146\n",
      "weighted avg       0.87      0.83      0.82       146\n",
      "\n"
     ]
    }
   ],
   "source": [
    "print(classification_report(y_valid, knn_pred_valid))"
   ]
  },
  {
   "cell_type": "code",
   "execution_count": 1018,
   "metadata": {},
   "outputs": [
    {
     "name": "stdout",
     "output_type": "stream",
     "text": [
      "              precision    recall  f1-score   support\n",
      "\n",
      "         0.0       0.73      0.95      0.83        73\n",
      "         1.0       0.92      0.66      0.77        73\n",
      "\n",
      "    accuracy                           0.80       146\n",
      "   macro avg       0.83      0.80      0.80       146\n",
      "weighted avg       0.83      0.80      0.80       146\n",
      "\n"
     ]
    }
   ],
   "source": [
    "print(classification_report(y_valid, nb_pred_valid))"
   ]
  },
  {
   "cell_type": "code",
   "execution_count": 1019,
   "metadata": {},
   "outputs": [
    {
     "name": "stdout",
     "output_type": "stream",
     "text": [
      "              precision    recall  f1-score   support\n",
      "\n",
      "         0.0       0.74      0.82      0.78        73\n",
      "         1.0       0.80      0.71      0.75        73\n",
      "\n",
      "    accuracy                           0.77       146\n",
      "   macro avg       0.77      0.77      0.77       146\n",
      "weighted avg       0.77      0.77      0.77       146\n",
      "\n"
     ]
    }
   ],
   "source": [
    "print(classification_report(y_valid, dtree_pred_valid))"
   ]
  },
  {
   "cell_type": "code",
   "execution_count": 1020,
   "metadata": {},
   "outputs": [
    {
     "name": "stdout",
     "output_type": "stream",
     "text": [
      "              precision    recall  f1-score   support\n",
      "\n",
      "         0.0       0.78      0.81      0.79        73\n",
      "         1.0       0.80      0.77      0.78        73\n",
      "\n",
      "    accuracy                           0.79       146\n",
      "   macro avg       0.79      0.79      0.79       146\n",
      "weighted avg       0.79      0.79      0.79       146\n",
      "\n"
     ]
    }
   ],
   "source": [
    "print(classification_report(y_valid, logreg_pred_valid))"
   ]
  },
  {
   "cell_type": "code",
   "execution_count": 1021,
   "metadata": {},
   "outputs": [
    {
     "name": "stdout",
     "output_type": "stream",
     "text": [
      "              precision    recall  f1-score   support\n",
      "\n",
      "         0.0       0.74      0.84      0.79        73\n",
      "         1.0       0.81      0.71      0.76        73\n",
      "\n",
      "    accuracy                           0.77       146\n",
      "   macro avg       0.78      0.77      0.77       146\n",
      "weighted avg       0.78      0.77      0.77       146\n",
      "\n"
     ]
    }
   ],
   "source": [
    "print(classification_report(y_valid, lda_pred_valid))"
   ]
  },
  {
   "cell_type": "code",
   "execution_count": 1022,
   "metadata": {},
   "outputs": [
    {
     "name": "stdout",
     "output_type": "stream",
     "text": [
      "              precision    recall  f1-score   support\n",
      "\n",
      "         0.0       0.77      0.84      0.80        73\n",
      "         1.0       0.82      0.75      0.79        73\n",
      "\n",
      "    accuracy                           0.79       146\n",
      "   macro avg       0.80      0.79      0.79       146\n",
      "weighted avg       0.80      0.79      0.79       146\n",
      "\n"
     ]
    }
   ],
   "source": [
    "print(classification_report(y_valid, rf_pred_valid))"
   ]
  },
  {
   "cell_type": "code",
   "execution_count": 1023,
   "metadata": {
    "scrolled": true
   },
   "outputs": [],
   "source": [
    "from sklearn.metrics import f1_score"
   ]
  },
  {
   "cell_type": "code",
   "execution_count": 1024,
   "metadata": {
    "scrolled": false
   },
   "outputs": [
    {
     "data": {
      "text/plain": [
       "0.8287671232876712"
      ]
     },
     "execution_count": 1024,
     "metadata": {},
     "output_type": "execute_result"
    }
   ],
   "source": [
    "f1_score(knn_pred_valid, y_valid, average='micro')"
   ]
  },
  {
   "cell_type": "code",
   "execution_count": 1025,
   "metadata": {},
   "outputs": [
    {
     "data": {
      "text/plain": [
       "0.8013698630136986"
      ]
     },
     "execution_count": 1025,
     "metadata": {},
     "output_type": "execute_result"
    }
   ],
   "source": [
    "f1_score(nb_pred_valid, y_valid, average='micro')"
   ]
  },
  {
   "cell_type": "code",
   "execution_count": 1026,
   "metadata": {},
   "outputs": [
    {
     "data": {
      "text/plain": [
       "0.7671232876712328"
      ]
     },
     "execution_count": 1026,
     "metadata": {},
     "output_type": "execute_result"
    }
   ],
   "source": [
    "f1_score(dtree_pred_valid, y_valid, average='micro')"
   ]
  },
  {
   "cell_type": "code",
   "execution_count": 1027,
   "metadata": {},
   "outputs": [
    {
     "data": {
      "text/plain": [
       "0.7876712328767124"
      ]
     },
     "execution_count": 1027,
     "metadata": {},
     "output_type": "execute_result"
    }
   ],
   "source": [
    "f1_score(logreg_pred_valid, y_valid, average='micro')"
   ]
  },
  {
   "cell_type": "code",
   "execution_count": 1028,
   "metadata": {},
   "outputs": [
    {
     "data": {
      "text/plain": [
       "0.773972602739726"
      ]
     },
     "execution_count": 1028,
     "metadata": {},
     "output_type": "execute_result"
    }
   ],
   "source": [
    "f1_score(lda_pred_valid, y_valid, average='micro')"
   ]
  },
  {
   "cell_type": "code",
   "execution_count": 1029,
   "metadata": {},
   "outputs": [
    {
     "data": {
      "text/plain": [
       "0.7945205479452053"
      ]
     },
     "execution_count": 1029,
     "metadata": {},
     "output_type": "execute_result"
    }
   ],
   "source": [
    "f1_score(rf_pred_valid, y_valid, average='micro')"
   ]
  },
  {
   "cell_type": "markdown",
   "metadata": {},
   "source": [
    "## 3.4 Classifier comparison:"
   ]
  },
  {
   "cell_type": "markdown",
   "metadata": {},
   "source": [
    "### Compare the classification performance between difference classifiers. You need to select at least two (2) evaluation metrics, for example F-measure and classification accuracy, when comparing them. Your comparison must take into account the variation between different runs due to cross-validation.\n"
   ]
  },
  {
   "cell_type": "markdown",
   "metadata": {},
   "source": [
    "- F-measure\n",
    "- Classification accuracy"
   ]
  },
  {
   "cell_type": "markdown",
   "metadata": {},
   "source": [
    "### Based on the comparison, select the best two (2) classification schemes for final prediction. Note that the two classification schemes can be one type of classifier, but with two different parameters. Clearly indicate the final choice of parameters if they are not the default values."
   ]
  },
  {
   "cell_type": "markdown",
   "metadata": {},
   "source": [
    "Log Reg and Random Forest."
   ]
  },
  {
   "cell_type": "markdown",
   "metadata": {},
   "source": [
    "## 3.5 Prediction:"
   ]
  },
  {
   "cell_type": "markdown",
   "metadata": {},
   "source": [
    "### Use the best two classification schemes that you have identified in the previous step to predict the missing class labels of the last 100 samples in the original data set."
   ]
  },
  {
   "cell_type": "code",
   "execution_count": 1030,
   "metadata": {
    "scrolled": true
   },
   "outputs": [],
   "source": [
    "test_df = pd.read_csv('test_set.csv')"
   ]
  },
  {
   "cell_type": "code",
   "execution_count": 1031,
   "metadata": {
    "scrolled": true
   },
   "outputs": [
    {
     "data": {
      "text/html": [
       "<div>\n",
       "<style scoped>\n",
       "    .dataframe tbody tr th:only-of-type {\n",
       "        vertical-align: middle;\n",
       "    }\n",
       "\n",
       "    .dataframe tbody tr th {\n",
       "        vertical-align: top;\n",
       "    }\n",
       "\n",
       "    .dataframe thead th {\n",
       "        text-align: right;\n",
       "    }\n",
       "</style>\n",
       "<table border=\"1\" class=\"dataframe\">\n",
       "  <thead>\n",
       "    <tr style=\"text-align: right;\">\n",
       "      <th></th>\n",
       "      <th>Class</th>\n",
       "      <th>att15</th>\n",
       "      <th>att16</th>\n",
       "      <th>att18</th>\n",
       "      <th>att20</th>\n",
       "      <th>att21</th>\n",
       "      <th>att22</th>\n",
       "      <th>att23</th>\n",
       "      <th>att25</th>\n",
       "      <th>att26</th>\n",
       "      <th>att27</th>\n",
       "      <th>att28</th>\n",
       "      <th>att29</th>\n",
       "      <th>att30</th>\n",
       "      <th>att1_V0</th>\n",
       "      <th>att1_V1</th>\n",
       "      <th>att1_V2</th>\n",
       "      <th>att1_V3</th>\n",
       "      <th>att1_V4</th>\n",
       "      <th>att2_V1</th>\n",
       "      <th>att2_V10</th>\n",
       "      <th>att2_V2</th>\n",
       "      <th>att2_V3</th>\n",
       "      <th>att2_V4</th>\n",
       "      <th>att2_V5</th>\n",
       "      <th>att2_V6</th>\n",
       "      <th>att2_V7</th>\n",
       "      <th>att2_V8</th>\n",
       "      <th>att2_V9</th>\n",
       "      <th>att3_V1</th>\n",
       "      <th>att3_V2</th>\n",
       "      <th>att3_V3</th>\n",
       "      <th>att3_V4</th>\n",
       "      <th>att3_V5</th>\n",
       "      <th>att4_V0</th>\n",
       "      <th>att4_V1</th>\n",
       "      <th>att4_V2</th>\n",
       "      <th>att4_V3</th>\n",
       "      <th>att4_V4</th>\n",
       "      <th>att5_V1</th>\n",
       "      <th>att5_V2</th>\n",
       "      <th>att5_V3</th>\n",
       "      <th>att5_V4</th>\n",
       "      <th>att6_V1</th>\n",
       "      <th>att6_V2</th>\n",
       "      <th>att6_V3</th>\n",
       "      <th>att6_V4</th>\n",
       "      <th>att7_V1</th>\n",
       "      <th>att7_V2</th>\n",
       "      <th>att7_V3</th>\n",
       "      <th>att9_A</th>\n",
       "      <th>att9_B</th>\n",
       "      <th>att9_C</th>\n",
       "      <th>att9_D</th>\n",
       "      <th>att10_A</th>\n",
       "      <th>att10_B</th>\n",
       "      <th>att10_C</th>\n",
       "      <th>att10_D</th>\n",
       "      <th>att11_A</th>\n",
       "      <th>att11_B</th>\n",
       "      <th>att11_C</th>\n",
       "      <th>att12_A</th>\n",
       "      <th>att12_B</th>\n",
       "      <th>att12_C</th>\n",
       "      <th>att12_D</th>\n",
       "    </tr>\n",
       "  </thead>\n",
       "  <tbody>\n",
       "    <tr>\n",
       "      <td>0</td>\n",
       "      <td>NaN</td>\n",
       "      <td>0</td>\n",
       "      <td>1</td>\n",
       "      <td>0.521704</td>\n",
       "      <td>-1.256168</td>\n",
       "      <td>-1.216583</td>\n",
       "      <td>0.444049</td>\n",
       "      <td>1</td>\n",
       "      <td>-0.916499</td>\n",
       "      <td>4</td>\n",
       "      <td>4</td>\n",
       "      <td>1.837500</td>\n",
       "      <td>2</td>\n",
       "      <td>1</td>\n",
       "      <td>0</td>\n",
       "      <td>0</td>\n",
       "      <td>0</td>\n",
       "      <td>0</td>\n",
       "      <td>1</td>\n",
       "      <td>0</td>\n",
       "      <td>0</td>\n",
       "      <td>0</td>\n",
       "      <td>0</td>\n",
       "      <td>1</td>\n",
       "      <td>0</td>\n",
       "      <td>0</td>\n",
       "      <td>0</td>\n",
       "      <td>0</td>\n",
       "      <td>0</td>\n",
       "      <td>0</td>\n",
       "      <td>1</td>\n",
       "      <td>0</td>\n",
       "      <td>0</td>\n",
       "      <td>0</td>\n",
       "      <td>1</td>\n",
       "      <td>0</td>\n",
       "      <td>0</td>\n",
       "      <td>0</td>\n",
       "      <td>0</td>\n",
       "      <td>0</td>\n",
       "      <td>0</td>\n",
       "      <td>1</td>\n",
       "      <td>0</td>\n",
       "      <td>0</td>\n",
       "      <td>1</td>\n",
       "      <td>0</td>\n",
       "      <td>0</td>\n",
       "      <td>0</td>\n",
       "      <td>1</td>\n",
       "      <td>0</td>\n",
       "      <td>1</td>\n",
       "      <td>0</td>\n",
       "      <td>0</td>\n",
       "      <td>0</td>\n",
       "      <td>1</td>\n",
       "      <td>0</td>\n",
       "      <td>0</td>\n",
       "      <td>0</td>\n",
       "      <td>0</td>\n",
       "      <td>0</td>\n",
       "      <td>1</td>\n",
       "      <td>0</td>\n",
       "      <td>1</td>\n",
       "      <td>0</td>\n",
       "      <td>0</td>\n",
       "    </tr>\n",
       "    <tr>\n",
       "      <td>1</td>\n",
       "      <td>NaN</td>\n",
       "      <td>0</td>\n",
       "      <td>1</td>\n",
       "      <td>-0.664021</td>\n",
       "      <td>-0.024148</td>\n",
       "      <td>0.992102</td>\n",
       "      <td>-0.175056</td>\n",
       "      <td>1</td>\n",
       "      <td>-0.816986</td>\n",
       "      <td>3</td>\n",
       "      <td>1</td>\n",
       "      <td>-1.065613</td>\n",
       "      <td>1</td>\n",
       "      <td>1</td>\n",
       "      <td>0</td>\n",
       "      <td>0</td>\n",
       "      <td>1</td>\n",
       "      <td>0</td>\n",
       "      <td>0</td>\n",
       "      <td>0</td>\n",
       "      <td>0</td>\n",
       "      <td>0</td>\n",
       "      <td>0</td>\n",
       "      <td>1</td>\n",
       "      <td>0</td>\n",
       "      <td>0</td>\n",
       "      <td>0</td>\n",
       "      <td>0</td>\n",
       "      <td>0</td>\n",
       "      <td>0</td>\n",
       "      <td>1</td>\n",
       "      <td>0</td>\n",
       "      <td>0</td>\n",
       "      <td>0</td>\n",
       "      <td>0</td>\n",
       "      <td>0</td>\n",
       "      <td>0</td>\n",
       "      <td>0</td>\n",
       "      <td>1</td>\n",
       "      <td>0</td>\n",
       "      <td>0</td>\n",
       "      <td>1</td>\n",
       "      <td>0</td>\n",
       "      <td>0</td>\n",
       "      <td>0</td>\n",
       "      <td>1</td>\n",
       "      <td>0</td>\n",
       "      <td>1</td>\n",
       "      <td>0</td>\n",
       "      <td>0</td>\n",
       "      <td>0</td>\n",
       "      <td>1</td>\n",
       "      <td>0</td>\n",
       "      <td>0</td>\n",
       "      <td>0</td>\n",
       "      <td>1</td>\n",
       "      <td>0</td>\n",
       "      <td>0</td>\n",
       "      <td>0</td>\n",
       "      <td>0</td>\n",
       "      <td>1</td>\n",
       "      <td>0</td>\n",
       "      <td>0</td>\n",
       "      <td>1</td>\n",
       "      <td>0</td>\n",
       "    </tr>\n",
       "    <tr>\n",
       "      <td>2</td>\n",
       "      <td>NaN</td>\n",
       "      <td>0</td>\n",
       "      <td>1</td>\n",
       "      <td>-1.849745</td>\n",
       "      <td>0.222257</td>\n",
       "      <td>-0.730426</td>\n",
       "      <td>-2.273741</td>\n",
       "      <td>1</td>\n",
       "      <td>-0.917577</td>\n",
       "      <td>4</td>\n",
       "      <td>4</td>\n",
       "      <td>0.050151</td>\n",
       "      <td>1</td>\n",
       "      <td>1</td>\n",
       "      <td>0</td>\n",
       "      <td>1</td>\n",
       "      <td>0</td>\n",
       "      <td>0</td>\n",
       "      <td>0</td>\n",
       "      <td>0</td>\n",
       "      <td>0</td>\n",
       "      <td>1</td>\n",
       "      <td>0</td>\n",
       "      <td>0</td>\n",
       "      <td>0</td>\n",
       "      <td>0</td>\n",
       "      <td>0</td>\n",
       "      <td>0</td>\n",
       "      <td>0</td>\n",
       "      <td>0</td>\n",
       "      <td>1</td>\n",
       "      <td>0</td>\n",
       "      <td>0</td>\n",
       "      <td>0</td>\n",
       "      <td>1</td>\n",
       "      <td>0</td>\n",
       "      <td>0</td>\n",
       "      <td>0</td>\n",
       "      <td>0</td>\n",
       "      <td>0</td>\n",
       "      <td>0</td>\n",
       "      <td>0</td>\n",
       "      <td>1</td>\n",
       "      <td>0</td>\n",
       "      <td>0</td>\n",
       "      <td>1</td>\n",
       "      <td>0</td>\n",
       "      <td>0</td>\n",
       "      <td>0</td>\n",
       "      <td>1</td>\n",
       "      <td>1</td>\n",
       "      <td>0</td>\n",
       "      <td>0</td>\n",
       "      <td>0</td>\n",
       "      <td>0</td>\n",
       "      <td>1</td>\n",
       "      <td>0</td>\n",
       "      <td>0</td>\n",
       "      <td>0</td>\n",
       "      <td>0</td>\n",
       "      <td>1</td>\n",
       "      <td>0</td>\n",
       "      <td>0</td>\n",
       "      <td>1</td>\n",
       "      <td>0</td>\n",
       "    </tr>\n",
       "    <tr>\n",
       "      <td>3</td>\n",
       "      <td>NaN</td>\n",
       "      <td>0</td>\n",
       "      <td>1</td>\n",
       "      <td>0.903422</td>\n",
       "      <td>-1.256168</td>\n",
       "      <td>0.846502</td>\n",
       "      <td>0.798980</td>\n",
       "      <td>1</td>\n",
       "      <td>1.238077</td>\n",
       "      <td>4</td>\n",
       "      <td>4</td>\n",
       "      <td>-0.352290</td>\n",
       "      <td>1</td>\n",
       "      <td>1</td>\n",
       "      <td>0</td>\n",
       "      <td>0</td>\n",
       "      <td>1</td>\n",
       "      <td>0</td>\n",
       "      <td>0</td>\n",
       "      <td>0</td>\n",
       "      <td>0</td>\n",
       "      <td>0</td>\n",
       "      <td>1</td>\n",
       "      <td>0</td>\n",
       "      <td>0</td>\n",
       "      <td>0</td>\n",
       "      <td>0</td>\n",
       "      <td>0</td>\n",
       "      <td>0</td>\n",
       "      <td>1</td>\n",
       "      <td>0</td>\n",
       "      <td>0</td>\n",
       "      <td>0</td>\n",
       "      <td>0</td>\n",
       "      <td>1</td>\n",
       "      <td>0</td>\n",
       "      <td>0</td>\n",
       "      <td>0</td>\n",
       "      <td>0</td>\n",
       "      <td>0</td>\n",
       "      <td>1</td>\n",
       "      <td>0</td>\n",
       "      <td>0</td>\n",
       "      <td>0</td>\n",
       "      <td>0</td>\n",
       "      <td>1</td>\n",
       "      <td>0</td>\n",
       "      <td>0</td>\n",
       "      <td>1</td>\n",
       "      <td>0</td>\n",
       "      <td>1</td>\n",
       "      <td>0</td>\n",
       "      <td>0</td>\n",
       "      <td>0</td>\n",
       "      <td>1</td>\n",
       "      <td>0</td>\n",
       "      <td>0</td>\n",
       "      <td>0</td>\n",
       "      <td>0</td>\n",
       "      <td>0</td>\n",
       "      <td>1</td>\n",
       "      <td>0</td>\n",
       "      <td>0</td>\n",
       "      <td>1</td>\n",
       "      <td>0</td>\n",
       "    </tr>\n",
       "    <tr>\n",
       "      <td>4</td>\n",
       "      <td>NaN</td>\n",
       "      <td>0</td>\n",
       "      <td>1</td>\n",
       "      <td>-0.664021</td>\n",
       "      <td>0.715065</td>\n",
       "      <td>-1.016691</td>\n",
       "      <td>-0.717779</td>\n",
       "      <td>1</td>\n",
       "      <td>-1.538098</td>\n",
       "      <td>4</td>\n",
       "      <td>3</td>\n",
       "      <td>-1.489517</td>\n",
       "      <td>1</td>\n",
       "      <td>1</td>\n",
       "      <td>0</td>\n",
       "      <td>0</td>\n",
       "      <td>1</td>\n",
       "      <td>0</td>\n",
       "      <td>0</td>\n",
       "      <td>0</td>\n",
       "      <td>0</td>\n",
       "      <td>0</td>\n",
       "      <td>0</td>\n",
       "      <td>0</td>\n",
       "      <td>0</td>\n",
       "      <td>0</td>\n",
       "      <td>1</td>\n",
       "      <td>0</td>\n",
       "      <td>0</td>\n",
       "      <td>0</td>\n",
       "      <td>0</td>\n",
       "      <td>0</td>\n",
       "      <td>0</td>\n",
       "      <td>1</td>\n",
       "      <td>0</td>\n",
       "      <td>0</td>\n",
       "      <td>0</td>\n",
       "      <td>1</td>\n",
       "      <td>0</td>\n",
       "      <td>0</td>\n",
       "      <td>1</td>\n",
       "      <td>0</td>\n",
       "      <td>0</td>\n",
       "      <td>0</td>\n",
       "      <td>0</td>\n",
       "      <td>1</td>\n",
       "      <td>0</td>\n",
       "      <td>0</td>\n",
       "      <td>1</td>\n",
       "      <td>0</td>\n",
       "      <td>1</td>\n",
       "      <td>0</td>\n",
       "      <td>0</td>\n",
       "      <td>0</td>\n",
       "      <td>0</td>\n",
       "      <td>1</td>\n",
       "      <td>0</td>\n",
       "      <td>0</td>\n",
       "      <td>0</td>\n",
       "      <td>0</td>\n",
       "      <td>1</td>\n",
       "      <td>0</td>\n",
       "      <td>0</td>\n",
       "      <td>0</td>\n",
       "      <td>1</td>\n",
       "    </tr>\n",
       "  </tbody>\n",
       "</table>\n",
       "</div>"
      ],
      "text/plain": [
       "   Class  att15  att16     att18     att20     att21     att22  att23     att25  att26  att27     att28  att29  att30  att1_V0  att1_V1  att1_V2  att1_V3  att1_V4  att2_V1  att2_V10  att2_V2  att2_V3  att2_V4  att2_V5  att2_V6  att2_V7  att2_V8  att2_V9  att3_V1  att3_V2  att3_V3  att3_V4  att3_V5  att4_V0  att4_V1  att4_V2  att4_V3  att4_V4  att5_V1  att5_V2  att5_V3  att5_V4  att6_V1  att6_V2  att6_V3  att6_V4  att7_V1  att7_V2  att7_V3  att9_A  att9_B  att9_C  att9_D  att10_A  att10_B  att10_C  att10_D  att11_A  att11_B  att11_C  att12_A  att12_B  att12_C  att12_D\n",
       "0    NaN      0      1  0.521704 -1.256168 -1.216583  0.444049      1 -0.916499      4      4  1.837500      2      1        0        0        0        0        1        0         0        0        0        1        0        0        0        0        0        0        1        0        0        0        1        0        0        0        0        0        0        1        0        0        1        0        0        0        1        0       1       0       0       0        1        0        0        0        0        0        1        0        1        0        0\n",
       "1    NaN      0      1 -0.664021 -0.024148  0.992102 -0.175056      1 -0.816986      3      1 -1.065613      1      1        0        0        1        0        0        0         0        0        0        1        0        0        0        0        0        0        1        0        0        0        0        0        0        0        1        0        0        1        0        0        0        1        0        1        0        0       0       1       0       0        0        1        0        0        0        0        1        0        0        1        0\n",
       "2    NaN      0      1 -1.849745  0.222257 -0.730426 -2.273741      1 -0.917577      4      4  0.050151      1      1        0        1        0        0        0        0         0        1        0        0        0        0        0        0        0        0        1        0        0        0        1        0        0        0        0        0        0        0        1        0        0        1        0        0        0        1       1       0       0       0        0        1        0        0        0        0        1        0        0        1        0\n",
       "3    NaN      0      1  0.903422 -1.256168  0.846502  0.798980      1  1.238077      4      4 -0.352290      1      1        0        0        1        0        0        0         0        0        1        0        0        0        0        0        0        1        0        0        0        0        1        0        0        0        0        0        1        0        0        0        0        1        0        0        1        0       1       0       0       0        1        0        0        0        0        0        1        0        0        1        0\n",
       "4    NaN      0      1 -0.664021  0.715065 -1.016691 -0.717779      1 -1.538098      4      3 -1.489517      1      1        0        0        1        0        0        0         0        0        0        0        0        0        1        0        0        0        0        0        0        1        0        0        0        1        0        0        1        0        0        0        0        1        0        0        1        0       1       0       0       0        0        1        0        0        0        0        1        0        0        0        1"
      ]
     },
     "execution_count": 1031,
     "metadata": {},
     "output_type": "execute_result"
    }
   ],
   "source": [
    "test_df.head()"
   ]
  },
  {
   "cell_type": "code",
   "execution_count": 1032,
   "metadata": {
    "scrolled": true
   },
   "outputs": [],
   "source": [
    "# X contains all features and y contains target\n",
    "X_test = test_df.drop(columns=['Class'],axis=1)\n",
    "y_test = test_df['Class']"
   ]
  },
  {
   "cell_type": "code",
   "execution_count": 1033,
   "metadata": {},
   "outputs": [],
   "source": [
    "#X_test.head()"
   ]
  },
  {
   "cell_type": "code",
   "execution_count": 1034,
   "metadata": {},
   "outputs": [],
   "source": [
    "'''We are now going to use both the training and validation data in order to make the optimal model for the test data,\n",
    "so we are reloading this dataframe and reproducing the pca analysis. \n",
    "This should theoretically make the model better at predicting the test data. Note that X contains all features \n",
    "and y contains target'''\n",
    "\n",
    "X_train = train_valid_df.drop(columns=['Class'],axis=1)\n",
    "y_train = train_valid_df['Class']"
   ]
  },
  {
   "cell_type": "code",
   "execution_count": 1035,
   "metadata": {},
   "outputs": [],
   "source": [
    "#X_train.head()"
   ]
  },
  {
   "cell_type": "code",
   "execution_count": 1036,
   "metadata": {},
   "outputs": [
    {
     "data": {
      "text/plain": [
       "(1460, 64)"
      ]
     },
     "execution_count": 1036,
     "metadata": {},
     "output_type": "execute_result"
    }
   ],
   "source": [
    "X.shape"
   ]
  },
  {
   "cell_type": "code",
   "execution_count": 1037,
   "metadata": {},
   "outputs": [],
   "source": [
    "'''Note that pca.fit_transform was uses in the first PCA but in the test pca, \n",
    "pca.transform is used to maintain the same space for the pca (same mean and st dev).'''\n",
    "\n",
    "principalComponents = pca.fit_transform(X_train)\n",
    "principalDf = pd.DataFrame(data = principalComponents)\n",
    "X_train = principalDf.values\n",
    "\n",
    "principalComponents = pca.transform(X_test)\n",
    "principalDf = pd.DataFrame(data = principalComponents)\n",
    "X_test = principalDf.values"
   ]
  },
  {
   "cell_type": "code",
   "execution_count": 1038,
   "metadata": {
    "scrolled": true
   },
   "outputs": [
    {
     "data": {
      "text/plain": [
       "'In order to make the prediction even more accurate, we will use the whole 1000 instances to predict this time\\nin other words, we will not have a validation set because we have already verified that the model works beforehand.'"
      ]
     },
     "execution_count": 1038,
     "metadata": {},
     "output_type": "execute_result"
    }
   ],
   "source": [
    "## Functions to predict valid class and test class for all Classification Models\n",
    "'''In order to make the prediction even more accurate, we will use the whole 1000 instances to predict this time\n",
    "in other words, we will not have a validation set because we have already verified that the model works beforehand.'''\n",
    "\n",
    "\n",
    "# def knn_test(nn):\n",
    "#     model = KNeighborsClassifier(n_neighbors=nn)\n",
    "#     model = model.fit(X_train, y_train)\n",
    "#     predict_test = model.predict(X_test)\n",
    "#     return predict_test\n",
    "    \n",
    "# def naivebayes_test():\n",
    "#     model = GaussianNB()\n",
    "#     model = model.fit(X_train, y_train)\n",
    "#     predict_test = model.predict(X_test)\n",
    "#     return predict_test\n",
    "    \n",
    "# def dtree_test():\n",
    "#     model = DecisionTreeClassifier()\n",
    "#     model = model.fit(X_train, y_train)\n",
    "#     predict_test = model.predict(X_test)\n",
    "#     return predict_test\n",
    "    \n",
    "# def logreg_test():\n",
    "#     model = LogisticRegression(solver='liblinear', multi_class='ovr')\n",
    "#     model = model.fit(X_train, y_train)\n",
    "#     predict_test = model.predict(X_test)\n",
    "#     return predict_test\n",
    "    \n",
    "# def lda_test():\n",
    "#     model = LinearDiscriminantAnalysis()\n",
    "#     model = model.fit(X_train,y_train)\n",
    "#     predict_test = model.predict(X_test)\n",
    "#     return predict_test"
   ]
  },
  {
   "cell_type": "code",
   "execution_count": 1039,
   "metadata": {},
   "outputs": [],
   "source": [
    "def knn_test(nn):\n",
    "    model = BalancedBaggingClassifier(base_estimator=KNeighborsClassifier(n_neighbors=nn),\n",
    "            sampling_strategy='auto',\n",
    "            replacement=False,\n",
    "            random_state=0)\n",
    "    model = model.fit(X_train, y_train)\n",
    "    predict_test = model.predict(X_test)\n",
    "    return predict_test\n",
    "    \n",
    "def naivebayes_test():\n",
    "    model = BalancedBaggingClassifier(base_estimator=GaussianNB(),\n",
    "            sampling_strategy='auto',\n",
    "            replacement=False,\n",
    "            random_state=0)\n",
    "    model = model.fit(X_train, y_train)\n",
    "    predict_test = model.predict(X_test)\n",
    "    return predict_test\n",
    "    \n",
    "def dtree_test():\n",
    "    model = BalancedBaggingClassifier(base_estimator=DecisionTreeClassifier(max_depth=3),\n",
    "            sampling_strategy='auto',\n",
    "            replacement=False,\n",
    "            random_state=0)\n",
    "    model = model.fit(X_train, y_train)\n",
    "    predict_test = model.predict(X_test)\n",
    "    return predict_test\n",
    "\n",
    "def random_forest_test():\n",
    "    model = BalancedBaggingClassifier(base_estimator=RandomForestClassifier(max_depth=2, random_state=0),\n",
    "            sampling_strategy='auto',\n",
    "            replacement=False,\n",
    "            random_state=0)\n",
    "    model = model.fit(X_train, y_train)\n",
    "    predict_test = model.predict(X_test)\n",
    "    return predict_test\n",
    "\n",
    "    \n",
    "def logreg_test():\n",
    "    model = BalancedBaggingClassifier(base_estimator=LogisticRegression(solver='liblinear', multi_class='ovr'),\n",
    "            sampling_strategy='auto',\n",
    "            replacement=False,\n",
    "            random_state=0)\n",
    "    model = model.fit(X_train, y_train)\n",
    "    predict_test = model.predict(X_test)\n",
    "    return predict_test\n",
    "    \n",
    "def lda_test():\n",
    "    model = BalancedBaggingClassifier(base_estimator=LinearDiscriminantAnalysis(),\n",
    "            sampling_strategy='auto',\n",
    "            replacement=False,\n",
    "            random_state=0)\n",
    "    model = model.fit(X_train,y_train)\n",
    "    predict_test = model.predict(X_test)\n",
    "    return predict_test"
   ]
  },
  {
   "cell_type": "code",
   "execution_count": 1040,
   "metadata": {
    "scrolled": true
   },
   "outputs": [],
   "source": [
    "# kNN\n",
    "knn_pred_test = knn_test(7)\n",
    "\n",
    "# Naive Bayes\n",
    "nb_pred_test = naivebayes_test()\n",
    "\n",
    "# Decision Tree\n",
    "dtree_pred_test = dtree_test()\n",
    "\n",
    "# Logistic Regression\n",
    "logreg_pred_test = logreg_test()\n",
    "\n",
    "# Linear Discriminant Analysis\n",
    "lda_pred_test = lda_test() \n",
    "\n",
    "# Random Forest\n",
    "rf_pred_test = random_forest_test()"
   ]
  },
  {
   "cell_type": "code",
   "execution_count": 1041,
   "metadata": {
    "scrolled": true
   },
   "outputs": [
    {
     "data": {
      "text/plain": [
       "array([1., 0., 0., 1., 0., 1., 1., 0., 0., 0., 0., 0., 1., 1., 1., 1., 0.,\n",
       "       1., 1., 1., 1., 1., 1., 1., 1., 1., 0., 0., 1., 1., 1., 1., 1., 0.,\n",
       "       0., 0., 0., 0., 0., 1., 1., 1., 0., 1., 1., 0., 0., 1., 1., 1., 1.,\n",
       "       0., 1., 0., 1., 1., 0., 0., 1., 0., 1., 0., 0., 0., 0., 0., 1., 1.,\n",
       "       1., 0., 0., 1., 0., 1., 0., 1., 1., 1., 1., 1., 1., 1., 0., 1., 0.,\n",
       "       1., 0., 0., 1., 1., 0., 0., 1., 1., 0., 0., 0., 0., 0., 1.])"
      ]
     },
     "execution_count": 1041,
     "metadata": {},
     "output_type": "execute_result"
    }
   ],
   "source": [
    "knn_pred_test"
   ]
  },
  {
   "cell_type": "code",
   "execution_count": 1042,
   "metadata": {
    "scrolled": true
   },
   "outputs": [
    {
     "data": {
      "text/plain": [
       "array([1., 0., 0., 1., 0., 1., 1., 1., 1., 0., 1., 1., 1., 1., 1., 0., 0.,\n",
       "       0., 1., 1., 1., 1., 1., 1., 1., 1., 0., 0., 1., 1., 0., 1., 1., 0.,\n",
       "       0., 1., 0., 1., 0., 1., 0., 1., 1., 1., 1., 0., 0., 0., 1., 0., 1.,\n",
       "       0., 1., 1., 1., 1., 1., 1., 1., 1., 1., 1., 1., 0., 0., 1., 0., 1.,\n",
       "       1., 0., 1., 1., 0., 1., 0., 0., 1., 1., 1., 1., 1., 1., 1., 1., 0.,\n",
       "       1., 0., 0., 1., 1., 1., 1., 1., 1., 0., 0., 0., 0., 0., 0.])"
      ]
     },
     "execution_count": 1042,
     "metadata": {},
     "output_type": "execute_result"
    }
   ],
   "source": [
    "nb_pred_test"
   ]
  },
  {
   "cell_type": "code",
   "execution_count": 1043,
   "metadata": {
    "scrolled": true
   },
   "outputs": [
    {
     "data": {
      "text/plain": [
       "array([0., 0., 0., 1., 0., 0., 0., 0., 1., 0., 0., 0., 1., 0., 1., 1., 0.,\n",
       "       0., 1., 0., 1., 1., 0., 1., 0., 1., 0., 0., 0., 0., 1., 1., 1., 0.,\n",
       "       0., 0., 0., 1., 1., 1., 1., 0., 1., 1., 0., 0., 0., 0., 1., 1., 1.,\n",
       "       1., 1., 0., 1., 1., 0., 0., 1., 0., 1., 1., 0., 0., 0., 1., 1., 1.,\n",
       "       1., 1., 0., 1., 0., 1., 0., 1., 1., 1., 1., 0., 0., 1., 0., 1., 0.,\n",
       "       1., 0., 1., 0., 0., 0., 0., 1., 1., 1., 1., 0., 0., 1., 1.])"
      ]
     },
     "execution_count": 1043,
     "metadata": {},
     "output_type": "execute_result"
    }
   ],
   "source": [
    "dtree_pred_test"
   ]
  },
  {
   "cell_type": "code",
   "execution_count": 1044,
   "metadata": {
    "scrolled": true
   },
   "outputs": [
    {
     "data": {
      "text/plain": [
       "array([0., 0., 0., 0., 0., 1., 1., 1., 1., 0., 0., 1., 1., 0., 1., 0., 0.,\n",
       "       0., 1., 0., 1., 1., 1., 1., 0., 1., 0., 0., 1., 1., 1., 1., 1., 0.,\n",
       "       0., 1., 0., 0., 0., 1., 0., 0., 1., 1., 0., 0., 0., 0., 1., 0., 1.,\n",
       "       0., 1., 1., 1., 1., 1., 1., 0., 0., 1., 1., 0., 0., 0., 1., 1., 1.,\n",
       "       1., 0., 0., 1., 0., 1., 0., 1., 1., 1., 0., 1., 1., 1., 0., 1., 0.,\n",
       "       1., 0., 0., 1., 1., 1., 0., 1., 1., 0., 0., 0., 0., 0., 1.])"
      ]
     },
     "execution_count": 1044,
     "metadata": {},
     "output_type": "execute_result"
    }
   ],
   "source": [
    "logreg_pred_test"
   ]
  },
  {
   "cell_type": "code",
   "execution_count": 1045,
   "metadata": {
    "scrolled": true
   },
   "outputs": [
    {
     "data": {
      "text/plain": [
       "array([1., 0., 0., 0., 0., 1., 1., 0., 1., 0., 0., 1., 1., 0., 1., 0., 0.,\n",
       "       0., 1., 0., 1., 1., 1., 1., 0., 1., 0., 0., 1., 1., 1., 1., 1., 0.,\n",
       "       0., 1., 0., 0., 0., 1., 0., 0., 1., 1., 0., 0., 0., 0., 1., 0., 1.,\n",
       "       0., 1., 1., 1., 1., 1., 1., 1., 0., 1., 1., 0., 0., 0., 1., 1., 1.,\n",
       "       1., 1., 0., 0., 0., 1., 0., 1., 1., 1., 0., 1., 1., 1., 0., 1., 0.,\n",
       "       1., 0., 0., 1., 1., 1., 0., 1., 1., 0., 0., 0., 0., 0., 1.])"
      ]
     },
     "execution_count": 1045,
     "metadata": {},
     "output_type": "execute_result"
    }
   ],
   "source": [
    "lda_pred_test"
   ]
  },
  {
   "cell_type": "code",
   "execution_count": 1046,
   "metadata": {},
   "outputs": [
    {
     "data": {
      "text/plain": [
       "array([0., 0., 0., 0., 0., 0., 1., 0., 1., 0., 0., 1., 1., 0., 1., 1., 0.,\n",
       "       0., 1., 1., 1., 1., 0., 1., 1., 1., 0., 0., 0., 0., 1., 1., 1., 0.,\n",
       "       0., 1., 0., 0., 0., 1., 1., 0., 1., 1., 1., 0., 0., 1., 1., 0., 1.,\n",
       "       0., 1., 1., 1., 1., 0., 1., 1., 0., 1., 1., 0., 0., 0., 1., 0., 1.,\n",
       "       1., 1., 0., 1., 0., 1., 0., 1., 1., 1., 1., 1., 0., 1., 1., 1., 0.,\n",
       "       1., 0., 0., 1., 0., 1., 0., 1., 1., 0., 0., 0., 0., 1., 1.])"
      ]
     },
     "execution_count": 1046,
     "metadata": {},
     "output_type": "execute_result"
    }
   ],
   "source": [
    "rf_pred_test"
   ]
  },
  {
   "cell_type": "markdown",
   "metadata": {},
   "source": [
    "## A 50% Data Distribution Check!"
   ]
  },
  {
   "cell_type": "markdown",
   "metadata": {},
   "source": [
    "One thing we know about the test set is that the classes are divided 50 50. Lets see if this assumptions holds for the predicted number."
   ]
  },
  {
   "cell_type": "code",
   "execution_count": 1047,
   "metadata": {},
   "outputs": [
    {
     "data": {
      "text/plain": [
       "52.0"
      ]
     },
     "execution_count": 1047,
     "metadata": {},
     "output_type": "execute_result"
    }
   ],
   "source": [
    "logreg_pred_test.sum()"
   ]
  },
  {
   "cell_type": "code",
   "execution_count": 1048,
   "metadata": {},
   "outputs": [
    {
     "data": {
      "text/plain": [
       "53.0"
      ]
     },
     "execution_count": 1048,
     "metadata": {},
     "output_type": "execute_result"
    }
   ],
   "source": [
    "lda_pred_test.sum()"
   ]
  },
  {
   "cell_type": "code",
   "execution_count": 1049,
   "metadata": {},
   "outputs": [
    {
     "data": {
      "text/plain": [
       "54.0"
      ]
     },
     "execution_count": 1049,
     "metadata": {},
     "output_type": "execute_result"
    }
   ],
   "source": [
    "rf_pred_test.sum()"
   ]
  },
  {
   "cell_type": "markdown",
   "metadata": {},
   "source": [
    "Looking fantastic!\n",
    "\n",
    "This finally concludes the assignment!!"
   ]
  },
  {
   "cell_type": "markdown",
   "metadata": {},
   "source": [
    "### Produce a CSV file with the name predict.csv that contain your prediction in a similar format: the first column is the sample ID, the second and third columns are the predicted class labels. This file must be submitted electronically with the electronic copy of the report via Blackboard. An example of such a file is given below.\n",
    "- IMPORTANT: Please ensure that your prediction is correctly formatted as required. Your marks will be deduced if your prediction file does not meet the above requirements. If your submitted file has more than 2 predictions, only the first two will be marked. No correction to the prediction is allowed after your assignment is submitted.\n",
    "-  You must also indicate clearly in the report your estimated prediction accuracy. This should be based on the validation study.\n"
   ]
  },
  {
   "cell_type": "code",
   "execution_count": 1050,
   "metadata": {},
   "outputs": [],
   "source": [
    "id_list = []\n",
    "for i in range(1001, 1101):\n",
    "    id_list.append(i)"
   ]
  },
  {
   "cell_type": "code",
   "execution_count": 1051,
   "metadata": {},
   "outputs": [],
   "source": [
    "import csv\n",
    "\n",
    "with open('predict.csv', 'w', newline='') as f_output:         \n",
    "    csv_output = csv.writer(f_output)\n",
    "    csv_output.writerow([\"ID\", \"logReg\", \"randomForest\"])\n",
    "    csv_output.writerows(zip(id_list, logreg_pred_test, rf_pred_test))"
   ]
  }
 ],
 "metadata": {
  "kernelspec": {
   "display_name": "Python 3",
   "language": "python",
   "name": "python3"
  },
  "language_info": {
   "codemirror_mode": {
    "name": "ipython",
    "version": 3
   },
   "file_extension": ".py",
   "mimetype": "text/x-python",
   "name": "python",
   "nbconvert_exporter": "python",
   "pygments_lexer": "ipython3",
   "version": "3.7.3"
  }
 },
 "nbformat": 4,
 "nbformat_minor": 2
}
